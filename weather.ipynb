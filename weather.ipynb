{
 "cells": [
  {
   "cell_type": "code",
   "execution_count": 1,
   "metadata": {},
   "outputs": [
    {
     "name": "stdout",
     "output_type": "stream",
     "text": [
      "Populating the interactive namespace from numpy and matplotlib\n"
     ]
    }
   ],
   "source": [
    "%pylab inline\n",
    "import pandas as pd"
   ]
  },
  {
   "cell_type": "code",
   "execution_count": 2,
   "metadata": {},
   "outputs": [
    {
     "name": "stderr",
     "output_type": "stream",
     "text": [
      "/home/psamtik071/anaconda2/lib/python2.7/site-packages/IPython/core/interactiveshell.py:2717: DtypeWarning: Columns (10,11,14,15,20,23,25,40,67,84,86) have mixed types. Specify dtype option on import or set low_memory=False.\n",
      "  interactivity=interactivity, compiler=compiler, result=result)\n"
     ]
    }
   ],
   "source": [
    "weather = pd.read_csv('hourly_weather.csv', parse_dates = ['DATE'])\n",
    "\n",
    "# change labels to lowercase\n",
    "labels = []\n",
    "for label in weather.columns:\n",
    "    labels.append(label.lower())\n",
    "\n",
    "weather.columns = labels\n",
    "\n",
    "# convert date to datetime format and fill in null values\n",
    "weather.date = pd.to_datetime(weather.date)\n",
    "apply_func = lambda x: 0 if x=='T' else x\n",
    "weather.hourlyprecip = weather.hourlyprecip.fillna(0).apply(apply_func)\n",
    "\n",
    "# select out temperature and precipitation columns\n",
    "cols = ['date', 'hourlywetbulbtempf', 'hourlyprecip']\n",
    "weather = weather[cols]\n",
    "weather.head()\n",
    "weather.rename(columns = {'hourlywetbulbtempf': 'temp'}, inplace = True)\n",
    "weather.temp.fillna(method = 'ffill', inplace = True)\n",
    "\n",
    "weather.hourlyprecip = weather.hourlyprecip.astype(str)\n",
    "\n",
    "#create 'hour' column and truncate datetime to %Y-%m-%d\n",
    "def split_off_times(df):\n",
    "    df['hour'] = df.date.dt.hour\n",
    "    df['date'] = df.date.dt.floor('d')\n",
    "    return df\n",
    "\n",
    "weather = split_off_times(weather)\n",
    "\n",
    "# create a dataframe that contains snow information and \n",
    "# concatenate to original dataframe\n",
    "df = weather.hourlyprecip.str.split('s', expand = True)\n",
    "df[1] = df[1].apply(lambda x: 0 if x==None else 1)\n",
    "df[0] = df.astype(float)\n",
    "df = df.rename(columns = {0: 'precip', 1: 'snow'})\n",
    "weather = pd.concat([weather, df], axis = 1)\n",
    "weather.snow = weather.snow.astype(int)\n",
    "weather.drop('hourlyprecip', axis = 1, inplace = True)\n",
    "\n",
    "# ensure unique hourly intervals by grouping by hour\n",
    "aggregator = {'temp': 'mean', 'precip':'mean', 'snow': 'max'}\n",
    "weather = weather.groupby(['date','hour']).agg(aggregator).reset_index()\n"
   ]
  },
  {
   "cell_type": "code",
   "execution_count": null,
   "metadata": {
    "collapsed": true
   },
   "outputs": [],
   "source": [
    "weather.to_csv('weather.csv')"
   ]
  },
  {
   "cell_type": "code",
   "execution_count": 11,
   "metadata": {},
   "outputs": [
    {
     "data": {
      "text/html": [
       "<div>\n",
       "<style>\n",
       "    .dataframe thead tr:only-child th {\n",
       "        text-align: right;\n",
       "    }\n",
       "\n",
       "    .dataframe thead th {\n",
       "        text-align: left;\n",
       "    }\n",
       "\n",
       "    .dataframe tbody tr th {\n",
       "        vertical-align: top;\n",
       "    }\n",
       "</style>\n",
       "<table border=\"1\" class=\"dataframe\">\n",
       "  <thead>\n",
       "    <tr style=\"text-align: right;\">\n",
       "      <th></th>\n",
       "      <th>date</th>\n",
       "      <th>hour</th>\n",
       "      <th>precip</th>\n",
       "      <th>snow</th>\n",
       "      <th>temp</th>\n",
       "    </tr>\n",
       "  </thead>\n",
       "  <tbody>\n",
       "    <tr>\n",
       "      <th>100</th>\n",
       "      <td>2015-03-05</td>\n",
       "      <td>4</td>\n",
       "      <td>0.020000</td>\n",
       "      <td>0</td>\n",
       "      <td>31.000000</td>\n",
       "    </tr>\n",
       "    <tr>\n",
       "      <th>101</th>\n",
       "      <td>2015-03-05</td>\n",
       "      <td>5</td>\n",
       "      <td>0.010000</td>\n",
       "      <td>0</td>\n",
       "      <td>31.000000</td>\n",
       "    </tr>\n",
       "    <tr>\n",
       "      <th>102</th>\n",
       "      <td>2015-03-05</td>\n",
       "      <td>6</td>\n",
       "      <td>0.008000</td>\n",
       "      <td>0</td>\n",
       "      <td>30.400000</td>\n",
       "    </tr>\n",
       "    <tr>\n",
       "      <th>103</th>\n",
       "      <td>2015-03-05</td>\n",
       "      <td>7</td>\n",
       "      <td>0.040000</td>\n",
       "      <td>0</td>\n",
       "      <td>31.000000</td>\n",
       "    </tr>\n",
       "    <tr>\n",
       "      <th>104</th>\n",
       "      <td>2015-03-05</td>\n",
       "      <td>8</td>\n",
       "      <td>0.040000</td>\n",
       "      <td>0</td>\n",
       "      <td>29.333333</td>\n",
       "    </tr>\n",
       "    <tr>\n",
       "      <th>105</th>\n",
       "      <td>2015-03-05</td>\n",
       "      <td>9</td>\n",
       "      <td>0.047500</td>\n",
       "      <td>0</td>\n",
       "      <td>25.500000</td>\n",
       "    </tr>\n",
       "    <tr>\n",
       "      <th>106</th>\n",
       "      <td>2015-03-05</td>\n",
       "      <td>10</td>\n",
       "      <td>0.065000</td>\n",
       "      <td>0</td>\n",
       "      <td>25.000000</td>\n",
       "    </tr>\n",
       "    <tr>\n",
       "      <th>107</th>\n",
       "      <td>2015-03-05</td>\n",
       "      <td>11</td>\n",
       "      <td>0.027500</td>\n",
       "      <td>0</td>\n",
       "      <td>23.250000</td>\n",
       "    </tr>\n",
       "    <tr>\n",
       "      <th>108</th>\n",
       "      <td>2015-03-05</td>\n",
       "      <td>12</td>\n",
       "      <td>0.040000</td>\n",
       "      <td>0</td>\n",
       "      <td>20.000000</td>\n",
       "    </tr>\n",
       "    <tr>\n",
       "      <th>109</th>\n",
       "      <td>2015-03-05</td>\n",
       "      <td>13</td>\n",
       "      <td>0.026667</td>\n",
       "      <td>0</td>\n",
       "      <td>19.000000</td>\n",
       "    </tr>\n",
       "  </tbody>\n",
       "</table>\n",
       "</div>"
      ],
      "text/plain": [
       "          date  hour    precip  snow       temp\n",
       "100 2015-03-05     4  0.020000     0  31.000000\n",
       "101 2015-03-05     5  0.010000     0  31.000000\n",
       "102 2015-03-05     6  0.008000     0  30.400000\n",
       "103 2015-03-05     7  0.040000     0  31.000000\n",
       "104 2015-03-05     8  0.040000     0  29.333333\n",
       "105 2015-03-05     9  0.047500     0  25.500000\n",
       "106 2015-03-05    10  0.065000     0  25.000000\n",
       "107 2015-03-05    11  0.027500     0  23.250000\n",
       "108 2015-03-05    12  0.040000     0  20.000000\n",
       "109 2015-03-05    13  0.026667     0  19.000000"
      ]
     },
     "execution_count": 11,
     "metadata": {},
     "output_type": "execute_result"
    }
   ],
   "source": [
    "weather.iloc[100:110,:]"
   ]
  },
  {
   "cell_type": "code",
   "execution_count": null,
   "metadata": {
    "collapsed": true
   },
   "outputs": [],
   "source": [
    "weather[weather.precip > 0.].shape"
   ]
  },
  {
   "cell_type": "code",
   "execution_count": 15,
   "metadata": {},
   "outputs": [],
   "source": [
    "from bs4 import BeautifulSoup\n",
    "import urllib\n",
    "\n",
    "# scrape live weather data site to get current temperature\n",
    "url = 'http://w1.weather.gov/data/obhistory/KNYC.html'\n",
    "\n",
    "page = urllib.urlopen(url).read()\n",
    "soup = BeautifulSoup(page)\n",
    "\n",
    "live_temp = 0\n",
    "\n",
    "for tr in soup.find_all('tr')[7:8]:\n",
    "    tds = tr.find_all('td')\n",
    "    live_temp += float(tds[6].text)\n",
    "#     listy.append(tds[3].text)"
   ]
  },
  {
   "cell_type": "code",
   "execution_count": 16,
   "metadata": {},
   "outputs": [
    {
     "data": {
      "text/plain": [
       "78.0"
      ]
     },
     "execution_count": 16,
     "metadata": {},
     "output_type": "execute_result"
    }
   ],
   "source": [
    "live_temp"
   ]
  },
  {
   "cell_type": "code",
   "execution_count": null,
   "metadata": {
    "collapsed": true
   },
   "outputs": [],
   "source": []
  }
 ],
 "metadata": {
  "kernelspec": {
   "display_name": "Python 2",
   "language": "python",
   "name": "python2"
  },
  "language_info": {
   "codemirror_mode": {
    "name": "ipython",
    "version": 2
   },
   "file_extension": ".py",
   "mimetype": "text/x-python",
   "name": "python",
   "nbconvert_exporter": "python",
   "pygments_lexer": "ipython2",
   "version": "2.7.13"
  }
 },
 "nbformat": 4,
 "nbformat_minor": 2
}
