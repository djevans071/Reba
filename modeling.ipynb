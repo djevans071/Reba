{
 "cells": [
  {
   "cell_type": "code",
   "execution_count": 1,
   "metadata": {},
   "outputs": [
    {
     "name": "stdout",
     "output_type": "stream",
     "text": [
      "Populating the interactive namespace from numpy and matplotlib\n"
     ]
    },
    {
     "data": {
      "text/plain": [
       "<matplotlib.figure.Figure at 0x7f3f3993f150>"
      ]
     },
     "execution_count": 1,
     "metadata": {},
     "output_type": "execute_result"
    },
    {
     "data": {
      "text/plain": [
       "<matplotlib.figure.Figure at 0x7f3f3993f150>"
      ]
     },
     "metadata": {},
     "output_type": "display_data"
    }
   ],
   "source": [
    "%pylab inline\n",
    "from matplotlib import pyplot as plt\n",
    "from workflow.data import *\n",
    "from workflow.features import *\n",
    "import pandas as pd\n",
    "import numpy as np\n",
    "import seaborn as sns\n",
    "\n",
    "from sqlalchemy import create_engine\n",
    "from sqlalchemy_utils import database_exists, create_database\n",
    "import psycopg2\n",
    "\n",
    "plt.tight_layout\n",
    "plt.rcParams.update({'font.size': 22})\n",
    "rc('xtick', labelsize=15) \n",
    "rc('ytick', labelsize=15) \n",
    "figure(figsize(10,7))"
   ]
  },
  {
   "cell_type": "code",
   "execution_count": 2,
   "metadata": {
    "collapsed": true
   },
   "outputs": [],
   "source": [
    "# connect to SQL database\n",
    "\n",
    "username = 'psam071'\n",
    "host = 'localhost'\n",
    "dbname = 'citibike'\n",
    "\n",
    "db = create_engine('postgres://%s%s/%s' % (username,host,dbname))\n",
    "con = None\n",
    "\n",
    "con = psycopg2.connect(database = dbname, user = username, host = host)"
   ]
  },
  {
   "cell_type": "markdown",
   "metadata": {},
   "source": [
    "# Querying Data and transforming it"
   ]
  },
  {
   "cell_type": "code",
   "execution_count": null,
   "metadata": {
    "collapsed": true
   },
   "outputs": [],
   "source": []
  },
  {
   "cell_type": "code",
   "execution_count": null,
   "metadata": {
    "collapsed": true
   },
   "outputs": [],
   "source": []
  },
  {
   "cell_type": "code",
   "execution_count": null,
   "metadata": {
    "collapsed": true
   },
   "outputs": [],
   "source": []
  },
  {
   "cell_type": "code",
   "execution_count": null,
   "metadata": {
    "collapsed": true
   },
   "outputs": [],
   "source": []
  },
  {
   "cell_type": "code",
   "execution_count": null,
   "metadata": {
    "collapsed": true
   },
   "outputs": [],
   "source": []
  },
  {
   "cell_type": "code",
   "execution_count": null,
   "metadata": {
    "collapsed": true
   },
   "outputs": [],
   "source": []
  },
  {
   "cell_type": "code",
   "execution_count": null,
   "metadata": {
    "collapsed": true
   },
   "outputs": [],
   "source": []
  },
  {
   "cell_type": "code",
   "execution_count": null,
   "metadata": {
    "collapsed": true
   },
   "outputs": [],
   "source": []
  },
  {
   "cell_type": "code",
   "execution_count": 3,
   "metadata": {
    "collapsed": true
   },
   "outputs": [],
   "source": [
    "# query stations from 2015 that existed at the beginning of the data\n",
    "# collecting period\n",
    "query_stations2015 = \"\"\"\n",
    "    SELECT DISTINCT a.id, name, lat, long, neighborhood, borough\n",
    "    FROM features a\n",
    "    LEFT JOIN stations b ON a.id = b.id\n",
    "    LEFT JOIN neighborhoods c on a.id = c.id\n",
    "    WHERE a.date = '2015-03-01'\n",
    "        --AND tot_docks > 0\n",
    "        AND borough = 'Manhattan'\n",
    "    ORDER BY a.id;\n",
    "\"\"\"\n",
    "\n",
    "stations2015 = pd.read_sql_query(query_stations2015, con)\n",
    "stations2015 = stations2015.dropna()"
   ]
  },
  {
   "cell_type": "code",
   "execution_count": 4,
   "metadata": {},
   "outputs": [
    {
     "data": {
      "text/html": [
       "<div>\n",
       "<style>\n",
       "    .dataframe thead tr:only-child th {\n",
       "        text-align: right;\n",
       "    }\n",
       "\n",
       "    .dataframe thead th {\n",
       "        text-align: left;\n",
       "    }\n",
       "\n",
       "    .dataframe tbody tr th {\n",
       "        vertical-align: top;\n",
       "    }\n",
       "</style>\n",
       "<table border=\"1\" class=\"dataframe\">\n",
       "  <thead>\n",
       "    <tr style=\"text-align: right;\">\n",
       "      <th></th>\n",
       "      <th>id</th>\n",
       "      <th>name</th>\n",
       "      <th>lat</th>\n",
       "      <th>long</th>\n",
       "      <th>neighborhood</th>\n",
       "      <th>borough</th>\n",
       "    </tr>\n",
       "  </thead>\n",
       "  <tbody>\n",
       "    <tr>\n",
       "      <th>171</th>\n",
       "      <td>494.0</td>\n",
       "      <td>W 26 St &amp; 8 Ave</td>\n",
       "      <td>40.747348</td>\n",
       "      <td>-73.997236</td>\n",
       "      <td>Chelsea</td>\n",
       "      <td>Manhattan</td>\n",
       "    </tr>\n",
       "  </tbody>\n",
       "</table>\n",
       "</div>"
      ],
      "text/plain": [
       "        id             name        lat       long neighborhood    borough\n",
       "171  494.0  W 26 St & 8 Ave  40.747348 -73.997236      Chelsea  Manhattan"
      ]
     },
     "execution_count": 4,
     "metadata": {},
     "output_type": "execute_result"
    }
   ],
   "source": [
    "stations2015[stations2015.id == 494]"
   ]
  },
  {
   "cell_type": "code",
   "execution_count": null,
   "metadata": {
    "collapsed": true
   },
   "outputs": [],
   "source": []
  },
  {
   "cell_type": "code",
   "execution_count": null,
   "metadata": {
    "collapsed": true
   },
   "outputs": [],
   "source": []
  },
  {
   "cell_type": "code",
   "execution_count": 21,
   "metadata": {
    "collapsed": true
   },
   "outputs": [],
   "source": []
  },
  {
   "cell_type": "code",
   "execution_count": null,
   "metadata": {
    "collapsed": true
   },
   "outputs": [],
   "source": []
  },
  {
   "cell_type": "code",
   "execution_count": null,
   "metadata": {
    "collapsed": true
   },
   "outputs": [],
   "source": []
  },
  {
   "cell_type": "code",
   "execution_count": null,
   "metadata": {
    "collapsed": true
   },
   "outputs": [],
   "source": []
  },
  {
   "cell_type": "code",
   "execution_count": null,
   "metadata": {
    "collapsed": true
   },
   "outputs": [],
   "source": []
  },
  {
   "cell_type": "code",
   "execution_count": null,
   "metadata": {
    "collapsed": true
   },
   "outputs": [],
   "source": []
  },
  {
   "cell_type": "code",
   "execution_count": null,
   "metadata": {
    "collapsed": true
   },
   "outputs": [],
   "source": []
  },
  {
   "cell_type": "code",
   "execution_count": null,
   "metadata": {
    "collapsed": true
   },
   "outputs": [],
   "source": []
  },
  {
   "cell_type": "code",
   "execution_count": null,
   "metadata": {
    "collapsed": true
   },
   "outputs": [],
   "source": []
  },
  {
   "cell_type": "code",
   "execution_count": 18,
   "metadata": {},
   "outputs": [
    {
     "data": {
      "text/plain": [
       "(221, 6)"
      ]
     },
     "execution_count": 18,
     "metadata": {},
     "output_type": "execute_result"
    }
   ],
   "source": [
    "stations2015.shape"
   ]
  },
  {
   "cell_type": "code",
   "execution_count": 15,
   "metadata": {
    "collapsed": true
   },
   "outputs": [],
   "source": [
    "# most unbalanced stations\n",
    "query_unbal_stations = \"\"\"\n",
    "    SELECT a.id, abs(a.bikes_in - a.bikes_out) as flux,\n",
    "                 abs(a.rbikes_in - a.rbikes_out) as rflux,\n",
    "                 a.bikes_in, a.bikes_out,                                 \n",
    "            c.name, neighborhood, borough, long, lat\n",
    "    FROM   (SELECT id, sum(bikes_out) as bikes_out, sum(bikes_in) as bikes_in,\n",
    "                sum(rbikes_in) as rbikes_in, sum(rbikes_out) as rbikes_out\n",
    "            FROM features\n",
    "            GROUP BY id) a\n",
    "    JOIN neighborhoods b ON a.id = b.id\n",
    "    JOIN stations c on b.id = c.id\n",
    "    ORDER BY rflux DESC\n",
    "    LIMIT 100;\n",
    "\"\"\"\n",
    "\n",
    "df_unbal_stations = pd.read_sql_query(query_unbal_stations, con)\n",
    "df_unbal_stations = df_unbal_stations[df_unbal_stations.id.isin(stations2015.id)]\n",
    "# pl = df_unbal_stations.head(20).plot(kind = 'barh', x = 'name', y = 'flux', stacked=True)\n",
    "# pl.invert_yaxis()"
   ]
  },
  {
   "cell_type": "code",
   "execution_count": 16,
   "metadata": {},
   "outputs": [
    {
     "data": {
      "text/html": [
       "<div>\n",
       "<style>\n",
       "    .dataframe thead tr:only-child th {\n",
       "        text-align: right;\n",
       "    }\n",
       "\n",
       "    .dataframe thead th {\n",
       "        text-align: left;\n",
       "    }\n",
       "\n",
       "    .dataframe tbody tr th {\n",
       "        vertical-align: top;\n",
       "    }\n",
       "</style>\n",
       "<table border=\"1\" class=\"dataframe\">\n",
       "  <thead>\n",
       "    <tr style=\"text-align: right;\">\n",
       "      <th></th>\n",
       "      <th>id</th>\n",
       "      <th>flux</th>\n",
       "      <th>rflux</th>\n",
       "      <th>bikes_in</th>\n",
       "      <th>bikes_out</th>\n",
       "      <th>name</th>\n",
       "      <th>neighborhood</th>\n",
       "      <th>borough</th>\n",
       "      <th>long</th>\n",
       "      <th>lat</th>\n",
       "    </tr>\n",
       "  </thead>\n",
       "  <tbody>\n",
       "    <tr>\n",
       "      <th>0</th>\n",
       "      <td>492.0</td>\n",
       "      <td>19930.0</td>\n",
       "      <td>18320.0</td>\n",
       "      <td>129123.0</td>\n",
       "      <td>109193.0</td>\n",
       "      <td>W 33 St &amp; 7 Ave</td>\n",
       "      <td>Midtown South</td>\n",
       "      <td>Manhattan</td>\n",
       "      <td>-73.990931</td>\n",
       "      <td>40.750200</td>\n",
       "    </tr>\n",
       "    <tr>\n",
       "      <th>2</th>\n",
       "      <td>517.0</td>\n",
       "      <td>17186.0</td>\n",
       "      <td>11934.0</td>\n",
       "      <td>83935.0</td>\n",
       "      <td>101121.0</td>\n",
       "      <td>Pershing Square South</td>\n",
       "      <td>Murray Hill</td>\n",
       "      <td>Manhattan</td>\n",
       "      <td>-73.977910</td>\n",
       "      <td>40.751581</td>\n",
       "    </tr>\n",
       "    <tr>\n",
       "      <th>3</th>\n",
       "      <td>477.0</td>\n",
       "      <td>10325.0</td>\n",
       "      <td>11522.0</td>\n",
       "      <td>156029.0</td>\n",
       "      <td>145704.0</td>\n",
       "      <td>W 41 St &amp; 8 Ave</td>\n",
       "      <td>Clinton</td>\n",
       "      <td>Manhattan</td>\n",
       "      <td>-73.990026</td>\n",
       "      <td>40.756405</td>\n",
       "    </tr>\n",
       "    <tr>\n",
       "      <th>4</th>\n",
       "      <td>519.0</td>\n",
       "      <td>12451.0</td>\n",
       "      <td>10161.0</td>\n",
       "      <td>256714.0</td>\n",
       "      <td>269165.0</td>\n",
       "      <td>Pershing Square North</td>\n",
       "      <td>Murray Hill</td>\n",
       "      <td>Manhattan</td>\n",
       "      <td>-73.977706</td>\n",
       "      <td>40.751873</td>\n",
       "    </tr>\n",
       "    <tr>\n",
       "      <th>5</th>\n",
       "      <td>432.0</td>\n",
       "      <td>5794.0</td>\n",
       "      <td>9236.0</td>\n",
       "      <td>113240.0</td>\n",
       "      <td>107446.0</td>\n",
       "      <td>E 7 St &amp; Avenue A</td>\n",
       "      <td>East Village</td>\n",
       "      <td>Manhattan</td>\n",
       "      <td>-73.983799</td>\n",
       "      <td>40.726218</td>\n",
       "    </tr>\n",
       "    <tr>\n",
       "      <th>6</th>\n",
       "      <td>529.0</td>\n",
       "      <td>14830.0</td>\n",
       "      <td>8517.0</td>\n",
       "      <td>90014.0</td>\n",
       "      <td>104844.0</td>\n",
       "      <td>W 42 St &amp; 8 Ave</td>\n",
       "      <td>Clinton</td>\n",
       "      <td>Manhattan</td>\n",
       "      <td>-73.990985</td>\n",
       "      <td>40.757570</td>\n",
       "    </tr>\n",
       "    <tr>\n",
       "      <th>8</th>\n",
       "      <td>402.0</td>\n",
       "      <td>9196.0</td>\n",
       "      <td>7666.0</td>\n",
       "      <td>180692.0</td>\n",
       "      <td>171496.0</td>\n",
       "      <td>Broadway &amp; E 22 St</td>\n",
       "      <td>Flatiron</td>\n",
       "      <td>Manhattan</td>\n",
       "      <td>-73.989551</td>\n",
       "      <td>40.740343</td>\n",
       "    </tr>\n",
       "    <tr>\n",
       "      <th>9</th>\n",
       "      <td>415.0</td>\n",
       "      <td>9596.0</td>\n",
       "      <td>7637.0</td>\n",
       "      <td>53450.0</td>\n",
       "      <td>43854.0</td>\n",
       "      <td>Pearl St &amp; Hanover Square</td>\n",
       "      <td>Financial District</td>\n",
       "      <td>Manhattan</td>\n",
       "      <td>-74.009260</td>\n",
       "      <td>40.704718</td>\n",
       "    </tr>\n",
       "    <tr>\n",
       "      <th>10</th>\n",
       "      <td>514.0</td>\n",
       "      <td>9008.0</td>\n",
       "      <td>7446.0</td>\n",
       "      <td>142691.0</td>\n",
       "      <td>133683.0</td>\n",
       "      <td>12 Ave &amp; W 40 St</td>\n",
       "      <td>Clinton</td>\n",
       "      <td>Manhattan</td>\n",
       "      <td>-74.002777</td>\n",
       "      <td>40.760875</td>\n",
       "    </tr>\n",
       "    <tr>\n",
       "      <th>11</th>\n",
       "      <td>426.0</td>\n",
       "      <td>8173.0</td>\n",
       "      <td>6696.0</td>\n",
       "      <td>190497.0</td>\n",
       "      <td>182324.0</td>\n",
       "      <td>West St &amp; Chambers St</td>\n",
       "      <td>Tribeca</td>\n",
       "      <td>Manhattan</td>\n",
       "      <td>-74.013221</td>\n",
       "      <td>40.717548</td>\n",
       "    </tr>\n",
       "    <tr>\n",
       "      <th>13</th>\n",
       "      <td>337.0</td>\n",
       "      <td>7711.0</td>\n",
       "      <td>6138.0</td>\n",
       "      <td>39958.0</td>\n",
       "      <td>32247.0</td>\n",
       "      <td>Old Slip &amp; Front St</td>\n",
       "      <td>Financial District</td>\n",
       "      <td>Manhattan</td>\n",
       "      <td>-74.008387</td>\n",
       "      <td>40.703799</td>\n",
       "    </tr>\n",
       "    <tr>\n",
       "      <th>14</th>\n",
       "      <td>497.0</td>\n",
       "      <td>7672.0</td>\n",
       "      <td>5887.0</td>\n",
       "      <td>199728.0</td>\n",
       "      <td>192056.0</td>\n",
       "      <td>E 17 St &amp; Broadway</td>\n",
       "      <td>Flatiron</td>\n",
       "      <td>Manhattan</td>\n",
       "      <td>-73.990093</td>\n",
       "      <td>40.737050</td>\n",
       "    </tr>\n",
       "    <tr>\n",
       "      <th>15</th>\n",
       "      <td>520.0</td>\n",
       "      <td>8709.0</td>\n",
       "      <td>5367.0</td>\n",
       "      <td>106487.0</td>\n",
       "      <td>97778.0</td>\n",
       "      <td>W 52 St &amp; 5 Ave</td>\n",
       "      <td>Midtown</td>\n",
       "      <td>Manhattan</td>\n",
       "      <td>-73.976485</td>\n",
       "      <td>40.759923</td>\n",
       "    </tr>\n",
       "    <tr>\n",
       "      <th>16</th>\n",
       "      <td>468.0</td>\n",
       "      <td>6910.0</td>\n",
       "      <td>5199.0</td>\n",
       "      <td>81998.0</td>\n",
       "      <td>88908.0</td>\n",
       "      <td>Broadway &amp; W 56 St</td>\n",
       "      <td>Lincoln Square</td>\n",
       "      <td>Manhattan</td>\n",
       "      <td>-73.981923</td>\n",
       "      <td>40.765265</td>\n",
       "    </tr>\n",
       "    <tr>\n",
       "      <th>17</th>\n",
       "      <td>511.0</td>\n",
       "      <td>15274.0</td>\n",
       "      <td>5177.0</td>\n",
       "      <td>94150.0</td>\n",
       "      <td>109424.0</td>\n",
       "      <td>E 14 St &amp; Avenue B</td>\n",
       "      <td>Stuyvesant Town</td>\n",
       "      <td>Manhattan</td>\n",
       "      <td>-73.977724</td>\n",
       "      <td>40.729387</td>\n",
       "    </tr>\n",
       "    <tr>\n",
       "      <th>18</th>\n",
       "      <td>260.0</td>\n",
       "      <td>6033.0</td>\n",
       "      <td>4802.0</td>\n",
       "      <td>31979.0</td>\n",
       "      <td>25946.0</td>\n",
       "      <td>Broad St &amp; Bridge St</td>\n",
       "      <td>Financial District</td>\n",
       "      <td>Manhattan</td>\n",
       "      <td>-74.011678</td>\n",
       "      <td>40.703652</td>\n",
       "    </tr>\n",
       "    <tr>\n",
       "      <th>19</th>\n",
       "      <td>459.0</td>\n",
       "      <td>6674.0</td>\n",
       "      <td>4799.0</td>\n",
       "      <td>154681.0</td>\n",
       "      <td>148007.0</td>\n",
       "      <td>W 20 St &amp; 11 Ave</td>\n",
       "      <td>Chelsea</td>\n",
       "      <td>Manhattan</td>\n",
       "      <td>-74.007756</td>\n",
       "      <td>40.746745</td>\n",
       "    </tr>\n",
       "    <tr>\n",
       "      <th>20</th>\n",
       "      <td>447.0</td>\n",
       "      <td>6382.0</td>\n",
       "      <td>4767.0</td>\n",
       "      <td>74905.0</td>\n",
       "      <td>81287.0</td>\n",
       "      <td>8 Ave &amp; W 52 St</td>\n",
       "      <td>Midtown</td>\n",
       "      <td>Manhattan</td>\n",
       "      <td>-73.985162</td>\n",
       "      <td>40.763707</td>\n",
       "    </tr>\n",
       "    <tr>\n",
       "      <th>21</th>\n",
       "      <td>359.0</td>\n",
       "      <td>4963.0</td>\n",
       "      <td>4603.0</td>\n",
       "      <td>117712.0</td>\n",
       "      <td>122675.0</td>\n",
       "      <td>E 47 St &amp; Park Ave</td>\n",
       "      <td>Midtown</td>\n",
       "      <td>Manhattan</td>\n",
       "      <td>-73.974987</td>\n",
       "      <td>40.755103</td>\n",
       "    </tr>\n",
       "    <tr>\n",
       "      <th>22</th>\n",
       "      <td>491.0</td>\n",
       "      <td>4564.0</td>\n",
       "      <td>4511.0</td>\n",
       "      <td>96188.0</td>\n",
       "      <td>91624.0</td>\n",
       "      <td>E 24 St &amp; Park Ave S</td>\n",
       "      <td>Flatiron</td>\n",
       "      <td>Manhattan</td>\n",
       "      <td>-73.986022</td>\n",
       "      <td>40.740964</td>\n",
       "    </tr>\n",
       "    <tr>\n",
       "      <th>23</th>\n",
       "      <td>153.0</td>\n",
       "      <td>5412.0</td>\n",
       "      <td>4431.0</td>\n",
       "      <td>72523.0</td>\n",
       "      <td>77935.0</td>\n",
       "      <td>E 40 St &amp; 5 Ave</td>\n",
       "      <td>Midtown</td>\n",
       "      <td>Manhattan</td>\n",
       "      <td>-73.981632</td>\n",
       "      <td>40.752062</td>\n",
       "    </tr>\n",
       "    <tr>\n",
       "      <th>24</th>\n",
       "      <td>348.0</td>\n",
       "      <td>6150.0</td>\n",
       "      <td>4311.0</td>\n",
       "      <td>96840.0</td>\n",
       "      <td>90690.0</td>\n",
       "      <td>W Broadway &amp; Spring Street</td>\n",
       "      <td>Greenwich Village</td>\n",
       "      <td>Manhattan</td>\n",
       "      <td>-74.001547</td>\n",
       "      <td>40.724910</td>\n",
       "    </tr>\n",
       "    <tr>\n",
       "      <th>26</th>\n",
       "      <td>449.0</td>\n",
       "      <td>5242.0</td>\n",
       "      <td>4006.0</td>\n",
       "      <td>48295.0</td>\n",
       "      <td>53537.0</td>\n",
       "      <td>W 52 St &amp; 9 Ave</td>\n",
       "      <td>Lincoln Square</td>\n",
       "      <td>Manhattan</td>\n",
       "      <td>-73.987895</td>\n",
       "      <td>40.764618</td>\n",
       "    </tr>\n",
       "    <tr>\n",
       "      <th>27</th>\n",
       "      <td>469.0</td>\n",
       "      <td>4928.0</td>\n",
       "      <td>3884.0</td>\n",
       "      <td>56276.0</td>\n",
       "      <td>61204.0</td>\n",
       "      <td>Broadway &amp; W 53 St</td>\n",
       "      <td>Midtown</td>\n",
       "      <td>Manhattan</td>\n",
       "      <td>-73.982681</td>\n",
       "      <td>40.763441</td>\n",
       "    </tr>\n",
       "    <tr>\n",
       "      <th>28</th>\n",
       "      <td>382.0</td>\n",
       "      <td>5161.0</td>\n",
       "      <td>3820.0</td>\n",
       "      <td>131418.0</td>\n",
       "      <td>126257.0</td>\n",
       "      <td>University Pl &amp; E 14 St</td>\n",
       "      <td>Flatiron</td>\n",
       "      <td>Manhattan</td>\n",
       "      <td>-73.992005</td>\n",
       "      <td>40.734927</td>\n",
       "    </tr>\n",
       "    <tr>\n",
       "      <th>29</th>\n",
       "      <td>309.0</td>\n",
       "      <td>4472.0</td>\n",
       "      <td>3558.0</td>\n",
       "      <td>53158.0</td>\n",
       "      <td>48686.0</td>\n",
       "      <td>Murray St &amp; West St</td>\n",
       "      <td>Battery Park City</td>\n",
       "      <td>Manhattan</td>\n",
       "      <td>-74.013012</td>\n",
       "      <td>40.714979</td>\n",
       "    </tr>\n",
       "    <tr>\n",
       "      <th>30</th>\n",
       "      <td>303.0</td>\n",
       "      <td>4992.0</td>\n",
       "      <td>3525.0</td>\n",
       "      <td>64245.0</td>\n",
       "      <td>59253.0</td>\n",
       "      <td>Mercer St &amp; Spring St</td>\n",
       "      <td>Soho</td>\n",
       "      <td>Manhattan</td>\n",
       "      <td>-73.999496</td>\n",
       "      <td>40.723627</td>\n",
       "    </tr>\n",
       "    <tr>\n",
       "      <th>31</th>\n",
       "      <td>128.0</td>\n",
       "      <td>4541.0</td>\n",
       "      <td>3424.0</td>\n",
       "      <td>110609.0</td>\n",
       "      <td>106068.0</td>\n",
       "      <td>MacDougal St &amp; Prince St</td>\n",
       "      <td>Greenwich Village</td>\n",
       "      <td>Manhattan</td>\n",
       "      <td>-74.002971</td>\n",
       "      <td>40.727103</td>\n",
       "    </tr>\n",
       "    <tr>\n",
       "      <th>32</th>\n",
       "      <td>488.0</td>\n",
       "      <td>3954.0</td>\n",
       "      <td>3396.0</td>\n",
       "      <td>100793.0</td>\n",
       "      <td>96839.0</td>\n",
       "      <td>W 39 St &amp; 9 Ave</td>\n",
       "      <td>Clinton</td>\n",
       "      <td>Manhattan</td>\n",
       "      <td>-73.993722</td>\n",
       "      <td>40.756458</td>\n",
       "    </tr>\n",
       "    <tr>\n",
       "      <th>33</th>\n",
       "      <td>499.0</td>\n",
       "      <td>5021.0</td>\n",
       "      <td>3229.0</td>\n",
       "      <td>123351.0</td>\n",
       "      <td>128372.0</td>\n",
       "      <td>Broadway &amp; W 60 St</td>\n",
       "      <td>Lincoln Square</td>\n",
       "      <td>Manhattan</td>\n",
       "      <td>-73.981918</td>\n",
       "      <td>40.769155</td>\n",
       "    </tr>\n",
       "    <tr>\n",
       "      <th>...</th>\n",
       "      <td>...</td>\n",
       "      <td>...</td>\n",
       "      <td>...</td>\n",
       "      <td>...</td>\n",
       "      <td>...</td>\n",
       "      <td>...</td>\n",
       "      <td>...</td>\n",
       "      <td>...</td>\n",
       "      <td>...</td>\n",
       "      <td>...</td>\n",
       "    </tr>\n",
       "    <tr>\n",
       "      <th>61</th>\n",
       "      <td>336.0</td>\n",
       "      <td>2562.0</td>\n",
       "      <td>1911.0</td>\n",
       "      <td>80281.0</td>\n",
       "      <td>77719.0</td>\n",
       "      <td>Sullivan St &amp; Washington Sq</td>\n",
       "      <td>Greenwich Village</td>\n",
       "      <td>Manhattan</td>\n",
       "      <td>-73.999061</td>\n",
       "      <td>40.730477</td>\n",
       "    </tr>\n",
       "    <tr>\n",
       "      <th>62</th>\n",
       "      <td>465.0</td>\n",
       "      <td>2596.0</td>\n",
       "      <td>1882.0</td>\n",
       "      <td>67860.0</td>\n",
       "      <td>70456.0</td>\n",
       "      <td>Broadway &amp; W 41 St</td>\n",
       "      <td>Midtown</td>\n",
       "      <td>Manhattan</td>\n",
       "      <td>-73.986580</td>\n",
       "      <td>40.755136</td>\n",
       "    </tr>\n",
       "    <tr>\n",
       "      <th>64</th>\n",
       "      <td>368.0</td>\n",
       "      <td>2421.0</td>\n",
       "      <td>1841.0</td>\n",
       "      <td>151681.0</td>\n",
       "      <td>149260.0</td>\n",
       "      <td>Carmine St &amp; 6 Ave</td>\n",
       "      <td>Greenwich Village</td>\n",
       "      <td>Manhattan</td>\n",
       "      <td>-74.002150</td>\n",
       "      <td>40.730386</td>\n",
       "    </tr>\n",
       "    <tr>\n",
       "      <th>65</th>\n",
       "      <td>356.0</td>\n",
       "      <td>5128.0</td>\n",
       "      <td>1829.0</td>\n",
       "      <td>39416.0</td>\n",
       "      <td>44544.0</td>\n",
       "      <td>Bialystoker Pl &amp; Delancey St</td>\n",
       "      <td>Lower East Side</td>\n",
       "      <td>Manhattan</td>\n",
       "      <td>-73.982612</td>\n",
       "      <td>40.716226</td>\n",
       "    </tr>\n",
       "    <tr>\n",
       "      <th>66</th>\n",
       "      <td>515.0</td>\n",
       "      <td>2529.0</td>\n",
       "      <td>1828.0</td>\n",
       "      <td>84320.0</td>\n",
       "      <td>81791.0</td>\n",
       "      <td>W 43 St &amp; 10 Ave</td>\n",
       "      <td>Clinton</td>\n",
       "      <td>Manhattan</td>\n",
       "      <td>-73.994618</td>\n",
       "      <td>40.760094</td>\n",
       "    </tr>\n",
       "    <tr>\n",
       "      <th>67</th>\n",
       "      <td>427.0</td>\n",
       "      <td>2389.0</td>\n",
       "      <td>1788.0</td>\n",
       "      <td>47904.0</td>\n",
       "      <td>45515.0</td>\n",
       "      <td>Bus Slip &amp; State St</td>\n",
       "      <td>Financial District</td>\n",
       "      <td>Manhattan</td>\n",
       "      <td>-74.013942</td>\n",
       "      <td>40.701907</td>\n",
       "    </tr>\n",
       "    <tr>\n",
       "      <th>68</th>\n",
       "      <td>161.0</td>\n",
       "      <td>2325.0</td>\n",
       "      <td>1784.0</td>\n",
       "      <td>103948.0</td>\n",
       "      <td>101623.0</td>\n",
       "      <td>LaGuardia Pl &amp; W 3 St</td>\n",
       "      <td>Greenwich Village</td>\n",
       "      <td>Manhattan</td>\n",
       "      <td>-73.998102</td>\n",
       "      <td>40.729170</td>\n",
       "    </tr>\n",
       "    <tr>\n",
       "      <th>70</th>\n",
       "      <td>507.0</td>\n",
       "      <td>2003.0</td>\n",
       "      <td>1755.0</td>\n",
       "      <td>99529.0</td>\n",
       "      <td>101532.0</td>\n",
       "      <td>E 25 St &amp; 2 Ave</td>\n",
       "      <td>Gramercy</td>\n",
       "      <td>Manhattan</td>\n",
       "      <td>-73.979738</td>\n",
       "      <td>40.739126</td>\n",
       "    </tr>\n",
       "    <tr>\n",
       "      <th>71</th>\n",
       "      <td>482.0</td>\n",
       "      <td>2496.0</td>\n",
       "      <td>1738.0</td>\n",
       "      <td>100260.0</td>\n",
       "      <td>97764.0</td>\n",
       "      <td>W 15 St &amp; 7 Ave</td>\n",
       "      <td>Chelsea</td>\n",
       "      <td>Manhattan</td>\n",
       "      <td>-73.999318</td>\n",
       "      <td>40.739355</td>\n",
       "    </tr>\n",
       "    <tr>\n",
       "      <th>72</th>\n",
       "      <td>347.0</td>\n",
       "      <td>2380.0</td>\n",
       "      <td>1731.0</td>\n",
       "      <td>91316.0</td>\n",
       "      <td>88936.0</td>\n",
       "      <td>Greenwich St &amp; W Houston St</td>\n",
       "      <td>West Village</td>\n",
       "      <td>Manhattan</td>\n",
       "      <td>-74.008591</td>\n",
       "      <td>40.728846</td>\n",
       "    </tr>\n",
       "    <tr>\n",
       "      <th>73</th>\n",
       "      <td>394.0</td>\n",
       "      <td>1100.0</td>\n",
       "      <td>1641.0</td>\n",
       "      <td>62243.0</td>\n",
       "      <td>61143.0</td>\n",
       "      <td>E 9 St &amp; Avenue C</td>\n",
       "      <td>East Village</td>\n",
       "      <td>Manhattan</td>\n",
       "      <td>-73.977688</td>\n",
       "      <td>40.725213</td>\n",
       "    </tr>\n",
       "    <tr>\n",
       "      <th>74</th>\n",
       "      <td>285.0</td>\n",
       "      <td>2244.0</td>\n",
       "      <td>1608.0</td>\n",
       "      <td>165656.0</td>\n",
       "      <td>163412.0</td>\n",
       "      <td>Broadway &amp; E 14 St</td>\n",
       "      <td>Flatiron</td>\n",
       "      <td>Manhattan</td>\n",
       "      <td>-73.990741</td>\n",
       "      <td>40.734546</td>\n",
       "    </tr>\n",
       "    <tr>\n",
       "      <th>75</th>\n",
       "      <td>251.0</td>\n",
       "      <td>2212.0</td>\n",
       "      <td>1605.0</td>\n",
       "      <td>95866.0</td>\n",
       "      <td>93654.0</td>\n",
       "      <td>Mott St &amp; Prince St</td>\n",
       "      <td>Little Italy</td>\n",
       "      <td>Manhattan</td>\n",
       "      <td>-73.994800</td>\n",
       "      <td>40.723180</td>\n",
       "    </tr>\n",
       "    <tr>\n",
       "      <th>78</th>\n",
       "      <td>379.0</td>\n",
       "      <td>1073.0</td>\n",
       "      <td>1532.0</td>\n",
       "      <td>131765.0</td>\n",
       "      <td>130692.0</td>\n",
       "      <td>W 31 St &amp; 7 Ave</td>\n",
       "      <td>Midtown South</td>\n",
       "      <td>Manhattan</td>\n",
       "      <td>-73.991600</td>\n",
       "      <td>40.749156</td>\n",
       "    </tr>\n",
       "    <tr>\n",
       "      <th>79</th>\n",
       "      <td>317.0</td>\n",
       "      <td>1988.0</td>\n",
       "      <td>1518.0</td>\n",
       "      <td>69227.0</td>\n",
       "      <td>67239.0</td>\n",
       "      <td>E 6 St &amp; Avenue B</td>\n",
       "      <td>East Village</td>\n",
       "      <td>Manhattan</td>\n",
       "      <td>-73.981854</td>\n",
       "      <td>40.724537</td>\n",
       "    </tr>\n",
       "    <tr>\n",
       "      <th>80</th>\n",
       "      <td>358.0</td>\n",
       "      <td>2193.0</td>\n",
       "      <td>1514.0</td>\n",
       "      <td>134681.0</td>\n",
       "      <td>132488.0</td>\n",
       "      <td>Christopher St &amp; Greenwich St</td>\n",
       "      <td>West Village</td>\n",
       "      <td>Manhattan</td>\n",
       "      <td>-74.007114</td>\n",
       "      <td>40.732916</td>\n",
       "    </tr>\n",
       "    <tr>\n",
       "      <th>81</th>\n",
       "      <td>534.0</td>\n",
       "      <td>1904.0</td>\n",
       "      <td>1489.0</td>\n",
       "      <td>34228.0</td>\n",
       "      <td>32324.0</td>\n",
       "      <td>Water - Whitehall Plaza</td>\n",
       "      <td>Financial District</td>\n",
       "      <td>Manhattan</td>\n",
       "      <td>-74.012723</td>\n",
       "      <td>40.702551</td>\n",
       "    </tr>\n",
       "    <tr>\n",
       "      <th>83</th>\n",
       "      <td>312.0</td>\n",
       "      <td>1957.0</td>\n",
       "      <td>1458.0</td>\n",
       "      <td>80912.0</td>\n",
       "      <td>82869.0</td>\n",
       "      <td>Allen St &amp; Stanton St</td>\n",
       "      <td>Noho</td>\n",
       "      <td>Manhattan</td>\n",
       "      <td>-73.989111</td>\n",
       "      <td>40.722055</td>\n",
       "    </tr>\n",
       "    <tr>\n",
       "      <th>85</th>\n",
       "      <td>422.0</td>\n",
       "      <td>2198.0</td>\n",
       "      <td>1435.0</td>\n",
       "      <td>40524.0</td>\n",
       "      <td>42722.0</td>\n",
       "      <td>W 59 St &amp; 10 Ave</td>\n",
       "      <td>Lincoln Square</td>\n",
       "      <td>Manhattan</td>\n",
       "      <td>-73.988038</td>\n",
       "      <td>40.770513</td>\n",
       "    </tr>\n",
       "    <tr>\n",
       "      <th>86</th>\n",
       "      <td>478.0</td>\n",
       "      <td>1852.0</td>\n",
       "      <td>1406.0</td>\n",
       "      <td>83170.0</td>\n",
       "      <td>81318.0</td>\n",
       "      <td>11 Ave &amp; W 41 St</td>\n",
       "      <td>Clinton</td>\n",
       "      <td>Manhattan</td>\n",
       "      <td>-73.998842</td>\n",
       "      <td>40.760301</td>\n",
       "    </tr>\n",
       "    <tr>\n",
       "      <th>87</th>\n",
       "      <td>281.0</td>\n",
       "      <td>5693.0</td>\n",
       "      <td>1373.0</td>\n",
       "      <td>106977.0</td>\n",
       "      <td>112670.0</td>\n",
       "      <td>Grand Army Plaza &amp; Central Park S</td>\n",
       "      <td>Sutton Place</td>\n",
       "      <td>Manhattan</td>\n",
       "      <td>-73.973715</td>\n",
       "      <td>40.764397</td>\n",
       "    </tr>\n",
       "    <tr>\n",
       "      <th>88</th>\n",
       "      <td>458.0</td>\n",
       "      <td>1838.0</td>\n",
       "      <td>1350.0</td>\n",
       "      <td>102190.0</td>\n",
       "      <td>100352.0</td>\n",
       "      <td>11 Ave &amp; W 27 St</td>\n",
       "      <td>Chelsea</td>\n",
       "      <td>Manhattan</td>\n",
       "      <td>-74.005226</td>\n",
       "      <td>40.751396</td>\n",
       "    </tr>\n",
       "    <tr>\n",
       "      <th>89</th>\n",
       "      <td>453.0</td>\n",
       "      <td>2027.0</td>\n",
       "      <td>1342.0</td>\n",
       "      <td>93781.0</td>\n",
       "      <td>91754.0</td>\n",
       "      <td>W 22 St &amp; 8 Ave</td>\n",
       "      <td>Chelsea</td>\n",
       "      <td>Manhattan</td>\n",
       "      <td>-73.999154</td>\n",
       "      <td>40.744751</td>\n",
       "    </tr>\n",
       "    <tr>\n",
       "      <th>90</th>\n",
       "      <td>380.0</td>\n",
       "      <td>1852.0</td>\n",
       "      <td>1329.0</td>\n",
       "      <td>103737.0</td>\n",
       "      <td>101885.0</td>\n",
       "      <td>W 4 St &amp; 7 Ave S</td>\n",
       "      <td>West Village</td>\n",
       "      <td>Manhattan</td>\n",
       "      <td>-74.002939</td>\n",
       "      <td>40.734011</td>\n",
       "    </tr>\n",
       "    <tr>\n",
       "      <th>91</th>\n",
       "      <td>509.0</td>\n",
       "      <td>1681.0</td>\n",
       "      <td>1329.0</td>\n",
       "      <td>114307.0</td>\n",
       "      <td>112626.0</td>\n",
       "      <td>9 Ave &amp; W 22 St</td>\n",
       "      <td>Chelsea</td>\n",
       "      <td>Manhattan</td>\n",
       "      <td>-74.001971</td>\n",
       "      <td>40.745497</td>\n",
       "    </tr>\n",
       "    <tr>\n",
       "      <th>92</th>\n",
       "      <td>151.0</td>\n",
       "      <td>1319.0</td>\n",
       "      <td>1306.0</td>\n",
       "      <td>156434.0</td>\n",
       "      <td>155115.0</td>\n",
       "      <td>Cleveland Pl &amp; Spring St</td>\n",
       "      <td>Little Italy</td>\n",
       "      <td>Manhattan</td>\n",
       "      <td>-73.997249</td>\n",
       "      <td>40.722104</td>\n",
       "    </tr>\n",
       "    <tr>\n",
       "      <th>93</th>\n",
       "      <td>435.0</td>\n",
       "      <td>1899.0</td>\n",
       "      <td>1293.0</td>\n",
       "      <td>195769.0</td>\n",
       "      <td>193870.0</td>\n",
       "      <td>W 21 St &amp; 6 Ave</td>\n",
       "      <td>Flatiron</td>\n",
       "      <td>Manhattan</td>\n",
       "      <td>-73.994156</td>\n",
       "      <td>40.741740</td>\n",
       "    </tr>\n",
       "    <tr>\n",
       "      <th>95</th>\n",
       "      <td>410.0</td>\n",
       "      <td>1661.0</td>\n",
       "      <td>1239.0</td>\n",
       "      <td>86990.0</td>\n",
       "      <td>85329.0</td>\n",
       "      <td>Suffolk St &amp; Stanton St</td>\n",
       "      <td>Noho</td>\n",
       "      <td>Manhattan</td>\n",
       "      <td>-73.985180</td>\n",
       "      <td>40.720664</td>\n",
       "    </tr>\n",
       "    <tr>\n",
       "      <th>97</th>\n",
       "      <td>423.0</td>\n",
       "      <td>1697.0</td>\n",
       "      <td>1212.0</td>\n",
       "      <td>42239.0</td>\n",
       "      <td>43936.0</td>\n",
       "      <td>W 54 St &amp; 9 Ave</td>\n",
       "      <td>Lincoln Square</td>\n",
       "      <td>Manhattan</td>\n",
       "      <td>-73.986905</td>\n",
       "      <td>40.765849</td>\n",
       "    </tr>\n",
       "    <tr>\n",
       "      <th>99</th>\n",
       "      <td>257.0</td>\n",
       "      <td>1849.0</td>\n",
       "      <td>1193.0</td>\n",
       "      <td>60802.0</td>\n",
       "      <td>58953.0</td>\n",
       "      <td>Lispenard St &amp; Broadway</td>\n",
       "      <td>Soho</td>\n",
       "      <td>Manhattan</td>\n",
       "      <td>-74.002472</td>\n",
       "      <td>40.719392</td>\n",
       "    </tr>\n",
       "  </tbody>\n",
       "</table>\n",
       "<p>76 rows × 10 columns</p>\n",
       "</div>"
      ],
      "text/plain": [
       "       id     flux    rflux  bikes_in  bikes_out  \\\n",
       "0   492.0  19930.0  18320.0  129123.0   109193.0   \n",
       "2   517.0  17186.0  11934.0   83935.0   101121.0   \n",
       "3   477.0  10325.0  11522.0  156029.0   145704.0   \n",
       "4   519.0  12451.0  10161.0  256714.0   269165.0   \n",
       "5   432.0   5794.0   9236.0  113240.0   107446.0   \n",
       "6   529.0  14830.0   8517.0   90014.0   104844.0   \n",
       "8   402.0   9196.0   7666.0  180692.0   171496.0   \n",
       "9   415.0   9596.0   7637.0   53450.0    43854.0   \n",
       "10  514.0   9008.0   7446.0  142691.0   133683.0   \n",
       "11  426.0   8173.0   6696.0  190497.0   182324.0   \n",
       "13  337.0   7711.0   6138.0   39958.0    32247.0   \n",
       "14  497.0   7672.0   5887.0  199728.0   192056.0   \n",
       "15  520.0   8709.0   5367.0  106487.0    97778.0   \n",
       "16  468.0   6910.0   5199.0   81998.0    88908.0   \n",
       "17  511.0  15274.0   5177.0   94150.0   109424.0   \n",
       "18  260.0   6033.0   4802.0   31979.0    25946.0   \n",
       "19  459.0   6674.0   4799.0  154681.0   148007.0   \n",
       "20  447.0   6382.0   4767.0   74905.0    81287.0   \n",
       "21  359.0   4963.0   4603.0  117712.0   122675.0   \n",
       "22  491.0   4564.0   4511.0   96188.0    91624.0   \n",
       "23  153.0   5412.0   4431.0   72523.0    77935.0   \n",
       "24  348.0   6150.0   4311.0   96840.0    90690.0   \n",
       "26  449.0   5242.0   4006.0   48295.0    53537.0   \n",
       "27  469.0   4928.0   3884.0   56276.0    61204.0   \n",
       "28  382.0   5161.0   3820.0  131418.0   126257.0   \n",
       "29  309.0   4472.0   3558.0   53158.0    48686.0   \n",
       "30  303.0   4992.0   3525.0   64245.0    59253.0   \n",
       "31  128.0   4541.0   3424.0  110609.0   106068.0   \n",
       "32  488.0   3954.0   3396.0  100793.0    96839.0   \n",
       "33  499.0   5021.0   3229.0  123351.0   128372.0   \n",
       "..    ...      ...      ...       ...        ...   \n",
       "61  336.0   2562.0   1911.0   80281.0    77719.0   \n",
       "62  465.0   2596.0   1882.0   67860.0    70456.0   \n",
       "64  368.0   2421.0   1841.0  151681.0   149260.0   \n",
       "65  356.0   5128.0   1829.0   39416.0    44544.0   \n",
       "66  515.0   2529.0   1828.0   84320.0    81791.0   \n",
       "67  427.0   2389.0   1788.0   47904.0    45515.0   \n",
       "68  161.0   2325.0   1784.0  103948.0   101623.0   \n",
       "70  507.0   2003.0   1755.0   99529.0   101532.0   \n",
       "71  482.0   2496.0   1738.0  100260.0    97764.0   \n",
       "72  347.0   2380.0   1731.0   91316.0    88936.0   \n",
       "73  394.0   1100.0   1641.0   62243.0    61143.0   \n",
       "74  285.0   2244.0   1608.0  165656.0   163412.0   \n",
       "75  251.0   2212.0   1605.0   95866.0    93654.0   \n",
       "78  379.0   1073.0   1532.0  131765.0   130692.0   \n",
       "79  317.0   1988.0   1518.0   69227.0    67239.0   \n",
       "80  358.0   2193.0   1514.0  134681.0   132488.0   \n",
       "81  534.0   1904.0   1489.0   34228.0    32324.0   \n",
       "83  312.0   1957.0   1458.0   80912.0    82869.0   \n",
       "85  422.0   2198.0   1435.0   40524.0    42722.0   \n",
       "86  478.0   1852.0   1406.0   83170.0    81318.0   \n",
       "87  281.0   5693.0   1373.0  106977.0   112670.0   \n",
       "88  458.0   1838.0   1350.0  102190.0   100352.0   \n",
       "89  453.0   2027.0   1342.0   93781.0    91754.0   \n",
       "90  380.0   1852.0   1329.0  103737.0   101885.0   \n",
       "91  509.0   1681.0   1329.0  114307.0   112626.0   \n",
       "92  151.0   1319.0   1306.0  156434.0   155115.0   \n",
       "93  435.0   1899.0   1293.0  195769.0   193870.0   \n",
       "95  410.0   1661.0   1239.0   86990.0    85329.0   \n",
       "97  423.0   1697.0   1212.0   42239.0    43936.0   \n",
       "99  257.0   1849.0   1193.0   60802.0    58953.0   \n",
       "\n",
       "                                 name        neighborhood    borough  \\\n",
       "0                     W 33 St & 7 Ave       Midtown South  Manhattan   \n",
       "2               Pershing Square South         Murray Hill  Manhattan   \n",
       "3                     W 41 St & 8 Ave             Clinton  Manhattan   \n",
       "4               Pershing Square North         Murray Hill  Manhattan   \n",
       "5                   E 7 St & Avenue A        East Village  Manhattan   \n",
       "6                     W 42 St & 8 Ave             Clinton  Manhattan   \n",
       "8                  Broadway & E 22 St            Flatiron  Manhattan   \n",
       "9           Pearl St & Hanover Square  Financial District  Manhattan   \n",
       "10                   12 Ave & W 40 St             Clinton  Manhattan   \n",
       "11              West St & Chambers St             Tribeca  Manhattan   \n",
       "13                Old Slip & Front St  Financial District  Manhattan   \n",
       "14                 E 17 St & Broadway            Flatiron  Manhattan   \n",
       "15                    W 52 St & 5 Ave             Midtown  Manhattan   \n",
       "16                 Broadway & W 56 St      Lincoln Square  Manhattan   \n",
       "17                 E 14 St & Avenue B     Stuyvesant Town  Manhattan   \n",
       "18               Broad St & Bridge St  Financial District  Manhattan   \n",
       "19                   W 20 St & 11 Ave             Chelsea  Manhattan   \n",
       "20                    8 Ave & W 52 St             Midtown  Manhattan   \n",
       "21                 E 47 St & Park Ave             Midtown  Manhattan   \n",
       "22               E 24 St & Park Ave S            Flatiron  Manhattan   \n",
       "23                    E 40 St & 5 Ave             Midtown  Manhattan   \n",
       "24         W Broadway & Spring Street   Greenwich Village  Manhattan   \n",
       "26                    W 52 St & 9 Ave      Lincoln Square  Manhattan   \n",
       "27                 Broadway & W 53 St             Midtown  Manhattan   \n",
       "28            University Pl & E 14 St            Flatiron  Manhattan   \n",
       "29                Murray St & West St   Battery Park City  Manhattan   \n",
       "30              Mercer St & Spring St                Soho  Manhattan   \n",
       "31           MacDougal St & Prince St   Greenwich Village  Manhattan   \n",
       "32                    W 39 St & 9 Ave             Clinton  Manhattan   \n",
       "33                 Broadway & W 60 St      Lincoln Square  Manhattan   \n",
       "..                                ...                 ...        ...   \n",
       "61        Sullivan St & Washington Sq   Greenwich Village  Manhattan   \n",
       "62                 Broadway & W 41 St             Midtown  Manhattan   \n",
       "64                 Carmine St & 6 Ave   Greenwich Village  Manhattan   \n",
       "65       Bialystoker Pl & Delancey St     Lower East Side  Manhattan   \n",
       "66                   W 43 St & 10 Ave             Clinton  Manhattan   \n",
       "67                Bus Slip & State St  Financial District  Manhattan   \n",
       "68              LaGuardia Pl & W 3 St   Greenwich Village  Manhattan   \n",
       "70                    E 25 St & 2 Ave            Gramercy  Manhattan   \n",
       "71                    W 15 St & 7 Ave             Chelsea  Manhattan   \n",
       "72        Greenwich St & W Houston St        West Village  Manhattan   \n",
       "73                  E 9 St & Avenue C        East Village  Manhattan   \n",
       "74                 Broadway & E 14 St            Flatiron  Manhattan   \n",
       "75                Mott St & Prince St        Little Italy  Manhattan   \n",
       "78                    W 31 St & 7 Ave       Midtown South  Manhattan   \n",
       "79                  E 6 St & Avenue B        East Village  Manhattan   \n",
       "80      Christopher St & Greenwich St        West Village  Manhattan   \n",
       "81            Water - Whitehall Plaza  Financial District  Manhattan   \n",
       "83              Allen St & Stanton St                Noho  Manhattan   \n",
       "85                   W 59 St & 10 Ave      Lincoln Square  Manhattan   \n",
       "86                   11 Ave & W 41 St             Clinton  Manhattan   \n",
       "87  Grand Army Plaza & Central Park S        Sutton Place  Manhattan   \n",
       "88                   11 Ave & W 27 St             Chelsea  Manhattan   \n",
       "89                    W 22 St & 8 Ave             Chelsea  Manhattan   \n",
       "90                   W 4 St & 7 Ave S        West Village  Manhattan   \n",
       "91                    9 Ave & W 22 St             Chelsea  Manhattan   \n",
       "92           Cleveland Pl & Spring St        Little Italy  Manhattan   \n",
       "93                    W 21 St & 6 Ave            Flatiron  Manhattan   \n",
       "95            Suffolk St & Stanton St                Noho  Manhattan   \n",
       "97                    W 54 St & 9 Ave      Lincoln Square  Manhattan   \n",
       "99            Lispenard St & Broadway                Soho  Manhattan   \n",
       "\n",
       "         long        lat  \n",
       "0  -73.990931  40.750200  \n",
       "2  -73.977910  40.751581  \n",
       "3  -73.990026  40.756405  \n",
       "4  -73.977706  40.751873  \n",
       "5  -73.983799  40.726218  \n",
       "6  -73.990985  40.757570  \n",
       "8  -73.989551  40.740343  \n",
       "9  -74.009260  40.704718  \n",
       "10 -74.002777  40.760875  \n",
       "11 -74.013221  40.717548  \n",
       "13 -74.008387  40.703799  \n",
       "14 -73.990093  40.737050  \n",
       "15 -73.976485  40.759923  \n",
       "16 -73.981923  40.765265  \n",
       "17 -73.977724  40.729387  \n",
       "18 -74.011678  40.703652  \n",
       "19 -74.007756  40.746745  \n",
       "20 -73.985162  40.763707  \n",
       "21 -73.974987  40.755103  \n",
       "22 -73.986022  40.740964  \n",
       "23 -73.981632  40.752062  \n",
       "24 -74.001547  40.724910  \n",
       "26 -73.987895  40.764618  \n",
       "27 -73.982681  40.763441  \n",
       "28 -73.992005  40.734927  \n",
       "29 -74.013012  40.714979  \n",
       "30 -73.999496  40.723627  \n",
       "31 -74.002971  40.727103  \n",
       "32 -73.993722  40.756458  \n",
       "33 -73.981918  40.769155  \n",
       "..        ...        ...  \n",
       "61 -73.999061  40.730477  \n",
       "62 -73.986580  40.755136  \n",
       "64 -74.002150  40.730386  \n",
       "65 -73.982612  40.716226  \n",
       "66 -73.994618  40.760094  \n",
       "67 -74.013942  40.701907  \n",
       "68 -73.998102  40.729170  \n",
       "70 -73.979738  40.739126  \n",
       "71 -73.999318  40.739355  \n",
       "72 -74.008591  40.728846  \n",
       "73 -73.977688  40.725213  \n",
       "74 -73.990741  40.734546  \n",
       "75 -73.994800  40.723180  \n",
       "78 -73.991600  40.749156  \n",
       "79 -73.981854  40.724537  \n",
       "80 -74.007114  40.732916  \n",
       "81 -74.012723  40.702551  \n",
       "83 -73.989111  40.722055  \n",
       "85 -73.988038  40.770513  \n",
       "86 -73.998842  40.760301  \n",
       "87 -73.973715  40.764397  \n",
       "88 -74.005226  40.751396  \n",
       "89 -73.999154  40.744751  \n",
       "90 -74.002939  40.734011  \n",
       "91 -74.001971  40.745497  \n",
       "92 -73.997249  40.722104  \n",
       "93 -73.994156  40.741740  \n",
       "95 -73.985180  40.720664  \n",
       "97 -73.986905  40.765849  \n",
       "99 -74.002472  40.719392  \n",
       "\n",
       "[76 rows x 10 columns]"
      ]
     },
     "execution_count": 16,
     "metadata": {},
     "output_type": "execute_result"
    }
   ],
   "source": [
    "df_unbal_stations"
   ]
  },
  {
   "cell_type": "code",
   "execution_count": 17,
   "metadata": {
    "collapsed": true
   },
   "outputs": [],
   "source": [
    "# save list of top 100 unbalanced stations to pickle file for webapp\n",
    "df_unbal_stations.to_pickle('websitetools/stations.pickle')"
   ]
  },
  {
   "cell_type": "code",
   "execution_count": 5,
   "metadata": {
    "collapsed": true
   },
   "outputs": [],
   "source": [
    "subset = df_unbal_stations.iloc[:100]"
   ]
  },
  {
   "cell_type": "code",
   "execution_count": 7,
   "metadata": {},
   "outputs": [
    {
     "data": {
      "text/plain": [
       "100     116.0\n",
       "31      128.0\n",
       "39      150.0\n",
       "92      151.0\n",
       "139     152.0\n",
       "23      153.0\n",
       "68      161.0\n",
       "116     164.0\n",
       "142     167.0\n",
       "45      168.0\n",
       "141     195.0\n",
       "56      229.0\n",
       "75      251.0\n",
       "99      257.0\n",
       "18      260.0\n",
       "112     267.0\n",
       "87      281.0\n",
       "34      284.0\n",
       "74      285.0\n",
       "109     293.0\n",
       "30      303.0\n",
       "49      304.0\n",
       "29      309.0\n",
       "136     311.0\n",
       "83      312.0\n",
       "79      317.0\n",
       "140     335.0\n",
       "61      336.0\n",
       "13      337.0\n",
       "72      347.0\n",
       "        ...  \n",
       "27      469.0\n",
       "114     476.0\n",
       "3       477.0\n",
       "86      478.0\n",
       "71      482.0\n",
       "32      488.0\n",
       "133     490.0\n",
       "22      491.0\n",
       "0       492.0\n",
       "122     494.0\n",
       "14      497.0\n",
       "110     498.0\n",
       "33      499.0\n",
       "54      500.0\n",
       "43      501.0\n",
       "70      507.0\n",
       "90      509.0\n",
       "17      511.0\n",
       "10      514.0\n",
       "66      515.0\n",
       "2       517.0\n",
       "103     518.0\n",
       "4       519.0\n",
       "15      520.0\n",
       "35      527.0\n",
       "6       529.0\n",
       "105     533.0\n",
       "81      534.0\n",
       "41     2010.0\n",
       "113    2022.0\n",
       "Name: id, Length: 100, dtype: float64"
      ]
     },
     "execution_count": 7,
     "metadata": {},
     "output_type": "execute_result"
    }
   ],
   "source": [
    "subset.id.sort_values()"
   ]
  },
  {
   "cell_type": "code",
   "execution_count": 13,
   "metadata": {},
   "outputs": [],
   "source": [
    "query_check_stations = '''\n",
    "    SELECT DISTINCT id from features_subset;\n",
    "'''\n",
    "\n",
    "st_list = pd.read_sql_query(query_check_stations, con)"
   ]
  },
  {
   "cell_type": "code",
   "execution_count": 14,
   "metadata": {},
   "outputs": [
    {
     "data": {
      "text/html": [
       "<div>\n",
       "<style>\n",
       "    .dataframe thead tr:only-child th {\n",
       "        text-align: right;\n",
       "    }\n",
       "\n",
       "    .dataframe thead th {\n",
       "        text-align: left;\n",
       "    }\n",
       "\n",
       "    .dataframe tbody tr th {\n",
       "        vertical-align: top;\n",
       "    }\n",
       "</style>\n",
       "<table border=\"1\" class=\"dataframe\">\n",
       "  <thead>\n",
       "    <tr style=\"text-align: right;\">\n",
       "      <th></th>\n",
       "      <th>id</th>\n",
       "    </tr>\n",
       "  </thead>\n",
       "  <tbody>\n",
       "    <tr>\n",
       "      <th>3</th>\n",
       "      <td>128.0</td>\n",
       "    </tr>\n",
       "    <tr>\n",
       "      <th>81</th>\n",
       "      <td>150.0</td>\n",
       "    </tr>\n",
       "    <tr>\n",
       "      <th>57</th>\n",
       "      <td>151.0</td>\n",
       "    </tr>\n",
       "    <tr>\n",
       "      <th>24</th>\n",
       "      <td>153.0</td>\n",
       "    </tr>\n",
       "    <tr>\n",
       "      <th>51</th>\n",
       "      <td>161.0</td>\n",
       "    </tr>\n",
       "    <tr>\n",
       "      <th>68</th>\n",
       "      <td>168.0</td>\n",
       "    </tr>\n",
       "    <tr>\n",
       "      <th>30</th>\n",
       "      <td>217.0</td>\n",
       "    </tr>\n",
       "    <tr>\n",
       "      <th>85</th>\n",
       "      <td>225.0</td>\n",
       "    </tr>\n",
       "    <tr>\n",
       "      <th>45</th>\n",
       "      <td>229.0</td>\n",
       "    </tr>\n",
       "    <tr>\n",
       "      <th>50</th>\n",
       "      <td>243.0</td>\n",
       "    </tr>\n",
       "    <tr>\n",
       "      <th>23</th>\n",
       "      <td>251.0</td>\n",
       "    </tr>\n",
       "    <tr>\n",
       "      <th>96</th>\n",
       "      <td>258.0</td>\n",
       "    </tr>\n",
       "    <tr>\n",
       "      <th>54</th>\n",
       "      <td>260.0</td>\n",
       "    </tr>\n",
       "    <tr>\n",
       "      <th>34</th>\n",
       "      <td>262.0</td>\n",
       "    </tr>\n",
       "    <tr>\n",
       "      <th>36</th>\n",
       "      <td>281.0</td>\n",
       "    </tr>\n",
       "    <tr>\n",
       "      <th>28</th>\n",
       "      <td>284.0</td>\n",
       "    </tr>\n",
       "    <tr>\n",
       "      <th>73</th>\n",
       "      <td>285.0</td>\n",
       "    </tr>\n",
       "    <tr>\n",
       "      <th>55</th>\n",
       "      <td>303.0</td>\n",
       "    </tr>\n",
       "    <tr>\n",
       "      <th>65</th>\n",
       "      <td>304.0</td>\n",
       "    </tr>\n",
       "    <tr>\n",
       "      <th>56</th>\n",
       "      <td>309.0</td>\n",
       "    </tr>\n",
       "    <tr>\n",
       "      <th>79</th>\n",
       "      <td>312.0</td>\n",
       "    </tr>\n",
       "    <tr>\n",
       "      <th>46</th>\n",
       "      <td>317.0</td>\n",
       "    </tr>\n",
       "    <tr>\n",
       "      <th>97</th>\n",
       "      <td>324.0</td>\n",
       "    </tr>\n",
       "    <tr>\n",
       "      <th>41</th>\n",
       "      <td>336.0</td>\n",
       "    </tr>\n",
       "    <tr>\n",
       "      <th>95</th>\n",
       "      <td>337.0</td>\n",
       "    </tr>\n",
       "    <tr>\n",
       "      <th>5</th>\n",
       "      <td>347.0</td>\n",
       "    </tr>\n",
       "    <tr>\n",
       "      <th>64</th>\n",
       "      <td>348.0</td>\n",
       "    </tr>\n",
       "    <tr>\n",
       "      <th>6</th>\n",
       "      <td>356.0</td>\n",
       "    </tr>\n",
       "    <tr>\n",
       "      <th>86</th>\n",
       "      <td>358.0</td>\n",
       "    </tr>\n",
       "    <tr>\n",
       "      <th>25</th>\n",
       "      <td>359.0</td>\n",
       "    </tr>\n",
       "    <tr>\n",
       "      <th>...</th>\n",
       "      <td>...</td>\n",
       "    </tr>\n",
       "    <tr>\n",
       "      <th>87</th>\n",
       "      <td>491.0</td>\n",
       "    </tr>\n",
       "    <tr>\n",
       "      <th>33</th>\n",
       "      <td>492.0</td>\n",
       "    </tr>\n",
       "    <tr>\n",
       "      <th>2</th>\n",
       "      <td>497.0</td>\n",
       "    </tr>\n",
       "    <tr>\n",
       "      <th>38</th>\n",
       "      <td>499.0</td>\n",
       "    </tr>\n",
       "    <tr>\n",
       "      <th>99</th>\n",
       "      <td>500.0</td>\n",
       "    </tr>\n",
       "    <tr>\n",
       "      <th>78</th>\n",
       "      <td>501.0</td>\n",
       "    </tr>\n",
       "    <tr>\n",
       "      <th>91</th>\n",
       "      <td>507.0</td>\n",
       "    </tr>\n",
       "    <tr>\n",
       "      <th>22</th>\n",
       "      <td>509.0</td>\n",
       "    </tr>\n",
       "    <tr>\n",
       "      <th>67</th>\n",
       "      <td>511.0</td>\n",
       "    </tr>\n",
       "    <tr>\n",
       "      <th>53</th>\n",
       "      <td>514.0</td>\n",
       "    </tr>\n",
       "    <tr>\n",
       "      <th>61</th>\n",
       "      <td>515.0</td>\n",
       "    </tr>\n",
       "    <tr>\n",
       "      <th>76</th>\n",
       "      <td>517.0</td>\n",
       "    </tr>\n",
       "    <tr>\n",
       "      <th>71</th>\n",
       "      <td>519.0</td>\n",
       "    </tr>\n",
       "    <tr>\n",
       "      <th>19</th>\n",
       "      <td>520.0</td>\n",
       "    </tr>\n",
       "    <tr>\n",
       "      <th>90</th>\n",
       "      <td>527.0</td>\n",
       "    </tr>\n",
       "    <tr>\n",
       "      <th>44</th>\n",
       "      <td>529.0</td>\n",
       "    </tr>\n",
       "    <tr>\n",
       "      <th>14</th>\n",
       "      <td>534.0</td>\n",
       "    </tr>\n",
       "    <tr>\n",
       "      <th>83</th>\n",
       "      <td>2000.0</td>\n",
       "    </tr>\n",
       "    <tr>\n",
       "      <th>84</th>\n",
       "      <td>2002.0</td>\n",
       "    </tr>\n",
       "    <tr>\n",
       "      <th>89</th>\n",
       "      <td>2010.0</td>\n",
       "    </tr>\n",
       "    <tr>\n",
       "      <th>31</th>\n",
       "      <td>3134.0</td>\n",
       "    </tr>\n",
       "    <tr>\n",
       "      <th>1</th>\n",
       "      <td>3161.0</td>\n",
       "    </tr>\n",
       "    <tr>\n",
       "      <th>72</th>\n",
       "      <td>3163.0</td>\n",
       "    </tr>\n",
       "    <tr>\n",
       "      <th>17</th>\n",
       "      <td>3164.0</td>\n",
       "    </tr>\n",
       "    <tr>\n",
       "      <th>0</th>\n",
       "      <td>3170.0</td>\n",
       "    </tr>\n",
       "    <tr>\n",
       "      <th>40</th>\n",
       "      <td>3224.0</td>\n",
       "    </tr>\n",
       "    <tr>\n",
       "      <th>47</th>\n",
       "      <td>3232.0</td>\n",
       "    </tr>\n",
       "    <tr>\n",
       "      <th>20</th>\n",
       "      <td>3233.0</td>\n",
       "    </tr>\n",
       "    <tr>\n",
       "      <th>11</th>\n",
       "      <td>3236.0</td>\n",
       "    </tr>\n",
       "    <tr>\n",
       "      <th>98</th>\n",
       "      <td>3263.0</td>\n",
       "    </tr>\n",
       "  </tbody>\n",
       "</table>\n",
       "<p>100 rows × 1 columns</p>\n",
       "</div>"
      ],
      "text/plain": [
       "        id\n",
       "3    128.0\n",
       "81   150.0\n",
       "57   151.0\n",
       "24   153.0\n",
       "51   161.0\n",
       "68   168.0\n",
       "30   217.0\n",
       "85   225.0\n",
       "45   229.0\n",
       "50   243.0\n",
       "23   251.0\n",
       "96   258.0\n",
       "54   260.0\n",
       "34   262.0\n",
       "36   281.0\n",
       "28   284.0\n",
       "73   285.0\n",
       "55   303.0\n",
       "65   304.0\n",
       "56   309.0\n",
       "79   312.0\n",
       "46   317.0\n",
       "97   324.0\n",
       "41   336.0\n",
       "95   337.0\n",
       "5    347.0\n",
       "64   348.0\n",
       "6    356.0\n",
       "86   358.0\n",
       "25   359.0\n",
       "..     ...\n",
       "87   491.0\n",
       "33   492.0\n",
       "2    497.0\n",
       "38   499.0\n",
       "99   500.0\n",
       "78   501.0\n",
       "91   507.0\n",
       "22   509.0\n",
       "67   511.0\n",
       "53   514.0\n",
       "61   515.0\n",
       "76   517.0\n",
       "71   519.0\n",
       "19   520.0\n",
       "90   527.0\n",
       "44   529.0\n",
       "14   534.0\n",
       "83  2000.0\n",
       "84  2002.0\n",
       "89  2010.0\n",
       "31  3134.0\n",
       "1   3161.0\n",
       "72  3163.0\n",
       "17  3164.0\n",
       "0   3170.0\n",
       "40  3224.0\n",
       "47  3232.0\n",
       "20  3233.0\n",
       "11  3236.0\n",
       "98  3263.0\n",
       "\n",
       "[100 rows x 1 columns]"
      ]
     },
     "execution_count": 14,
     "metadata": {},
     "output_type": "execute_result"
    }
   ],
   "source": [
    "st_list.sort_values('id')"
   ]
  },
  {
   "cell_type": "code",
   "execution_count": null,
   "metadata": {
    "collapsed": true
   },
   "outputs": [],
   "source": []
  },
  {
   "cell_type": "code",
   "execution_count": null,
   "metadata": {
    "collapsed": true
   },
   "outputs": [],
   "source": []
  },
  {
   "cell_type": "code",
   "execution_count": null,
   "metadata": {
    "collapsed": true
   },
   "outputs": [],
   "source": []
  },
  {
   "cell_type": "code",
   "execution_count": null,
   "metadata": {
    "collapsed": true
   },
   "outputs": [],
   "source": []
  },
  {
   "cell_type": "code",
   "execution_count": null,
   "metadata": {
    "collapsed": true
   },
   "outputs": [],
   "source": []
  },
  {
   "cell_type": "code",
   "execution_count": 7,
   "metadata": {},
   "outputs": [
    {
     "data": {
      "text/plain": [
       "(221,)"
      ]
     },
     "execution_count": 7,
     "metadata": {},
     "output_type": "execute_result"
    }
   ],
   "source": [
    "def dfcol_into_sqllist(df, col):\n",
    "    # converts a column in a pandas dataframe into a string for sql queries\n",
    "    listy = list(df[col].unique())\n",
    "    listy = listy[0:10]\n",
    "    return \"(\" + str(listy)[1:-1] + \")\"\n",
    "\n",
    "string_of_unbal_stations = str(list(df_unbal_stations.id.unique()))[1:-1]\n",
    "list_of_unbal_stations = list(df_unbal_stations.id)\n",
    "df_unbal_stations.id.unique().shape"
   ]
  },
  {
   "cell_type": "code",
   "execution_count": 8,
   "metadata": {
    "collapsed": true
   },
   "outputs": [],
   "source": [
    "# look at the patterns for the rebalanced stations\n",
    "# make sure tot_docks > 0 (especially when calculating bikes available)\n",
    "\n",
    "ids_to_see = dfcol_into_sqllist(df_unbal_stations, 'id')\n",
    "# ids_to_see = '(' + str(['72'])[1:-1] + ')'\n",
    "\n",
    "query = \"\"\"\n",
    "    SELECT a.id, a.date, a.hour, bikes_out, bikes_in, dayofweek, month, is_weekday,\n",
    "            is_holiday, rbikes_out, rbikes_in, tot_docks, avail_bikes, avail_docks,\n",
    "            precip, temp, long, lat, neighborhood, borough\n",
    "    FROM features a\n",
    "    LEFT JOIN weather b ON a.date = b.date AND a.hour = b.hour\n",
    "    LEFT JOIN stations c ON a.id = c.id\n",
    "    LEFT JOIN neighborhoods d ON a.id = d.id\n",
    "    WHERE a.id in {}\n",
    "        AND tot_docks > 0\n",
    "        AND borough = 'Manhattan'\n",
    "    --WHERE tot_docks > 0\n",
    "    ORDER BY a.id, a.date, a.hour;\n",
    "\"\"\".format(ids_to_see)\n",
    "\n",
    "df = pd.read_sql_query(query, con)\n",
    "df.date = pd.to_datetime(df.date)"
   ]
  },
  {
   "cell_type": "code",
   "execution_count": 9,
   "metadata": {
    "collapsed": true
   },
   "outputs": [],
   "source": [
    "# make new features (percentages)`\n",
    "df = new_features(df)\n"
   ]
  },
  {
   "cell_type": "code",
   "execution_count": 10,
   "metadata": {
    "collapsed": true
   },
   "outputs": [],
   "source": [
    "# split data into 2015 (train) and 2016 (test) data\n",
    "# \n",
    "data_cols = ['id', 'long', 'lat', 'hour', 'month', 'dayofweek',\n",
    "             'is_weekday', \n",
    "             'is_holiday', 'precip', 'temp', 'pct_avail_bikes', \n",
    "             'pct_avail_docks']#, 'pct_avail_docks']\n",
    "# df = make_categorical(df, ['id', 'hour', 'month', 'is_weekday', 'is_holiday'])\n",
    "hist_cols = ['mean_flux', 'yest_flux', 'last_week_flux']\n",
    "\n",
    "df2015 = df[(df.date.dt.year == 2015)]\n",
    "df2016 = df[(df.date.dt.year == 2016)]"
   ]
  },
  {
   "cell_type": "markdown",
   "metadata": {
    "collapsed": true
   },
   "source": [
    "# Prepare pipeline"
   ]
  },
  {
   "cell_type": "markdown",
   "metadata": {},
   "source": [
    "### TPOT Regressor"
   ]
  },
  {
   "cell_type": "code",
   "execution_count": 14,
   "metadata": {},
   "outputs": [
    {
     "name": "stderr",
     "output_type": "stream",
     "text": [
      "Optimization Progress:  67%|██████▋   | 10/15 [02:08<03:11, 38.37s/pipeline]"
     ]
    },
    {
     "name": "stdout",
     "output_type": "stream",
     "text": [
      "Generation 1 - Current best internal CV score: 0.0279967764342\n"
     ]
    },
    {
     "name": "stderr",
     "output_type": "stream",
     "text": [
      "                                                                            \r"
     ]
    },
    {
     "name": "stdout",
     "output_type": "stream",
     "text": [
      "Generation 2 - Current best internal CV score: 0.0279967764342\n",
      "\n",
      "Best pipeline: GradientBoostingRegressor(input_matrix, GradientBoostingRegressor__alpha=0.99, GradientBoostingRegressor__learning_rate=0.01, GradientBoostingRegressor__loss=DEFAULT, GradientBoostingRegressor__max_depth=9, GradientBoostingRegressor__max_features=0.45, GradientBoostingRegressor__min_samples_leaf=3, GradientBoostingRegressor__min_samples_split=4, GradientBoostingRegressor__n_estimators=DEFAULT, GradientBoostingRegressor__subsample=0.1)\n"
     ]
    }
   ],
   "source": [
    "# tpot regressor\n",
    "\n",
    "from tpot import TPOTRegressor\n",
    "from sklearn.model_selection import train_test_split\n",
    "\n",
    "# data = df[data_cols + hist_cols].sort_index()\n",
    "# target = df.pct_flux\n",
    "\n",
    "# X_train, X_test, y_train, y_test = train_test_split(data, target, \n",
    "#                                                     train_size = 0.75, test_size = 0.25)\n",
    "\n",
    "X_train = df2015[data_cols]\n",
    "y_train = df2015.pct_flux\n",
    "\n",
    "X_test = df2016[data_cols]\n",
    "y_test = df2016.pct_flux\n",
    "\n",
    "\n",
    "reg = TPOTRegressor(generations=2, population_size = 5, verbosity=2)\n",
    "reg.fit(X_train, y_train)\n",
    "pred = tpot.predict(X_test)"
   ]
  },
  {
   "cell_type": "markdown",
   "metadata": {},
   "source": [
    "### RandomForestRegressor"
   ]
  },
  {
   "cell_type": "code",
   "execution_count": null,
   "metadata": {
    "collapsed": true
   },
   "outputs": [],
   "source": [
    "# from sklearn.ensemble import ExtraTreesRegressor\n",
    "# X_train = df2015[data_cols + hist_cols]\n",
    "# y_train = df2015.pct_flux\n",
    "\n",
    "# X_test = df2016[data_cols + hist_cols]\n",
    "# y_test = df2016.pct_flux\n",
    "\n",
    "# reg = ExtraTreesRegressor(min_samples_leaf=11, min_samples_split=3, max_features = 0.85, n_estimators = 100,\n",
    "#                             n_jobs=-1)\n",
    "# reg.fit(X_train, y_train)\n",
    "# pred = reg.predict(X_test)"
   ]
  },
  {
   "cell_type": "code",
   "execution_count": 11,
   "metadata": {
    "collapsed": true
   },
   "outputs": [],
   "source": [
    "from sklearn.ensemble import RandomForestRegressor\n",
    "from sklearn.model_selection import GridSearchCV\n",
    "\n",
    "params = [{'min_samples_leaf': [12, 14, 16],\n",
    "          'min_samples_split': [6, 8, 10],\n",
    "          'max_features': [0.85,0.95,1.]}]\n",
    "\n",
    "\n",
    "X_train = df2015[data_cols]\n",
    "y_train = df2015.pct_flux#.apply(flux_conditions, 0.15)\n",
    "\n",
    "X_test = df2016[data_cols]\n",
    "y_test = df2016.pct_flux#.apply(flux_conditions, 0.15)\n",
    "\n",
    "# reg = GridSearchCV(RandomForestRegressor(), params, cv=2, scoring = 'neg_mean_squared_error')\n",
    "reg = RandomForestRegressor(min_samples_leaf=16, min_samples_split=6, max_features = 0.95,\n",
    "                            n_jobs=-1)\n",
    "reg.fit(X_train, y_train)\n",
    "pred = reg.predict(X_test)\n"
   ]
  },
  {
   "cell_type": "code",
   "execution_count": 20,
   "metadata": {},
   "outputs": [
    {
     "data": {
      "text/plain": [
       "{'max_features': 0.95, 'min_samples_leaf': 16, 'min_samples_split': 6}"
      ]
     },
     "execution_count": 20,
     "metadata": {},
     "output_type": "execute_result"
    }
   ],
   "source": [
    "reg.best_params_"
   ]
  },
  {
   "cell_type": "code",
   "execution_count": null,
   "metadata": {
    "collapsed": true
   },
   "outputs": [],
   "source": []
  },
  {
   "cell_type": "code",
   "execution_count": null,
   "metadata": {
    "collapsed": true
   },
   "outputs": [],
   "source": []
  },
  {
   "cell_type": "code",
   "execution_count": null,
   "metadata": {
    "collapsed": true
   },
   "outputs": [],
   "source": []
  },
  {
   "cell_type": "code",
   "execution_count": null,
   "metadata": {
    "collapsed": true
   },
   "outputs": [],
   "source": []
  },
  {
   "cell_type": "code",
   "execution_count": 12,
   "metadata": {},
   "outputs": [
    {
     "data": {
      "text/plain": [
       "<matplotlib.text.Text at 0x7fc710978310>"
      ]
     },
     "execution_count": 12,
     "metadata": {},
     "output_type": "execute_result"
    },
    {
     "data": {
      "image/png": "[encoded data removed]",
      "text/plain": [
       "<matplotlib.figure.Figure at 0x7fc7108fbd90>"
      ]
     },
     "metadata": {},
     "output_type": "display_data"
    }
   ],
   "source": [
    "reg.feature_importances_.round(2)\n",
    "importances = list(reg.feature_importances_.round(2))\n",
    "\n",
    "features_dict = {}\n",
    "for importance, col in zip(importances, data_cols):\n",
    "    features_dict[col] = importance\n",
    "\n",
    "feature_imp = pd.Series(features_dict)\n",
    "values_to_plot = feature_imp.sort_values()\n",
    "values_to_plot.rename(index = {'id':'Station ID',\n",
    "                                 'hour': 'Hour',\n",
    "                                 'pct_avail_bikes': 'Available Bikes',\n",
    "                                 'dayofweek': 'Day of the Week',\n",
    "                                 'is_weekday': 'Is a Weekday',\n",
    "                                 'temp': 'Temperature',\n",
    "                                 'precip': 'Precipitation',\n",
    "                                'month': 'Month',\n",
    "                              'lat': 'Station Latitude',\n",
    "                              'long': 'Station Longitude',\n",
    "                              'pct_avail_docks': 'Available Docks',\n",
    "                              'is_holiday': 'Is a Holiday'}, inplace = True)\n",
    "values_to_plot.plot(kind = 'barh', figsize=(7,7))\n",
    "xlabel('Feature Importance', fontsize = 15)"
   ]
  },
  {
   "cell_type": "code",
   "execution_count": null,
   "metadata": {
    "collapsed": true
   },
   "outputs": [],
   "source": [
    "df2015.shape"
   ]
  },
  {
   "cell_type": "code",
   "execution_count": null,
   "metadata": {
    "collapsed": true
   },
   "outputs": [],
   "source": []
  },
  {
   "cell_type": "code",
   "execution_count": null,
   "metadata": {
    "collapsed": true
   },
   "outputs": [],
   "source": []
  },
  {
   "cell_type": "code",
   "execution_count": null,
   "metadata": {
    "collapsed": true
   },
   "outputs": [],
   "source": []
  },
  {
   "cell_type": "code",
   "execution_count": null,
   "metadata": {
    "collapsed": true
   },
   "outputs": [],
   "source": [
    "stations2015[stations2015.id == 517]"
   ]
  },
  {
   "cell_type": "code",
   "execution_count": null,
   "metadata": {
    "collapsed": true
   },
   "outputs": [],
   "source": []
  },
  {
   "cell_type": "markdown",
   "metadata": {},
   "source": [
    "# Test Model"
   ]
  },
  {
   "cell_type": "code",
   "execution_count": 31,
   "metadata": {},
   "outputs": [
    {
     "data": {
      "image/png": "[encoded data removed]",
      "text/plain": [
       "<matplotlib.figure.Figure at 0x7f55b6dd02d0>"
      ]
     },
     "metadata": {},
     "output_type": "display_data"
    }
   ],
   "source": [
    "def merge_pred_test(pred, y_test):\n",
    "    tests = pd.DataFrame()\n",
    "    tests['pct_flux_test'] = y_test.reset_index().pct_flux\n",
    "    tests['pct_flux_pred'] = pred\n",
    "    return tests\n",
    "\n",
    "def plot_pred_test(test,X_test):\n",
    "    cmap= sns.color_palette('Set1')\n",
    "    sns.set_palette(cmap)\n",
    "    tests.iloc[50050:51000].plot(figsize = (13,5), alpha = 0.5)\n",
    "    X_test.reset_index().iloc[50050:51000].pct_avail_bikes.plot(alpha = 0.3)\n",
    "    \n",
    "   \n",
    "tests = merge_pred_test(pred, y_test)\n",
    "# tests.pct_flux_test = tests.pct_flux_test.apply(flux_conditions, 0.2)\n",
    "# tests.pct_flux_pred = tests.pct_flux_pred.apply(flux_conditions, 0.2)\n",
    "plot_pred_test(tests, X_test)"
   ]
  },
  {
   "cell_type": "code",
   "execution_count": null,
   "metadata": {
    "collapsed": true
   },
   "outputs": [],
   "source": []
  },
  {
   "cell_type": "code",
   "execution_count": null,
   "metadata": {
    "collapsed": true
   },
   "outputs": [],
   "source": [
    "def merge_test_pred(X, y, pred):\n",
    "    pred_series = pd.Series(pred)\n",
    "    X = X.reset_index()\n",
    "    X['pct_flux_test'] = y.reset_index().pct_flux\n",
    "    X['pct_flux_pred'] = pred_series\n",
    "    return X\n",
    "\n",
    "df_compare = merge_test_pred(X_test, y_test, pred)\n",
    "    "
   ]
  },
  {
   "cell_type": "code",
   "execution_count": null,
   "metadata": {
    "collapsed": true
   },
   "outputs": [],
   "source": [
    "df_compare.head()"
   ]
  },
  {
   "cell_type": "code",
   "execution_count": null,
   "metadata": {
    "collapsed": true
   },
   "outputs": [],
   "source": [
    "ids_to_see"
   ]
  },
  {
   "cell_type": "code",
   "execution_count": null,
   "metadata": {
    "collapsed": true,
    "scrolled": true
   },
   "outputs": [],
   "source": [
    "plot_by_hour(df_compare,['pct_flux_test','pct_flux_pred', 'hour'], 477, weekday = 1)\n",
    "suptitle('Bike Activity for Station {} (Weekday)'.format(477))"
   ]
  },
  {
   "cell_type": "code",
   "execution_count": null,
   "metadata": {
    "collapsed": true
   },
   "outputs": [],
   "source": [
    "cols  = ['pct_flux_pred', 'pct_flux_test', 'hour']\n",
    "weekday = 1\n",
    "dock_id = 477\n",
    "grps = df_compare.groupby(['id','is_weekday', 'hour']).mean().reset_index()\n",
    "grps_std = df_compare.groupby(['id','is_weekday', 'hour']).std().reset_index()\n",
    "cond = (grps.is_weekday ==  weekday) & (grps.id == dock_id)\n",
    "# grps[cond][cols].set_index('hour').plot()\n",
    "\n",
    "hr_profile = grps[cond][cols].set_index('hour')\n",
    "hr_profile_errors = grps_std[cond][cols].set_index('hour')\n",
    "\n",
    "x = hr_profile.pct_flux_pred\n",
    "error = hr_profile_errors.pct_flux_pred\n",
    "\n",
    "ax = x.plot(linewidth = 3, label = '2016 Prediction')\n",
    "fill_between(list(x.index), list(x - error), list(x + error), alpha = 0.2)\n",
    "hr_profile.pct_flux_test.plot(label = '2016 Data', linewidth = 3)\n",
    "labels = ['12 AM', '5 AM', '10 AM', '3 PM', '8 PM']\n",
    "ax.set_xticklabels(labels)\n",
    "\n",
    "\n",
    "xlabel('Time of Day', size = 20)\n",
    "legend(loc = 2, prop = {'size':15})\n",
    "ylim([-0.45,0.45])\n",
    "suptitle('2016 Bike Flow for Station {} (Weekday)'.format(477))"
   ]
  },
  {
   "cell_type": "code",
   "execution_count": null,
   "metadata": {
    "collapsed": true
   },
   "outputs": [],
   "source": []
  },
  {
   "cell_type": "code",
   "execution_count": null,
   "metadata": {
    "collapsed": true
   },
   "outputs": [],
   "source": []
  },
  {
   "cell_type": "code",
   "execution_count": null,
   "metadata": {
    "collapsed": true
   },
   "outputs": [],
   "source": [
    "from sklearn.metrics import mean_squared_error, r2_score\n",
    "\n",
    "def scoring_metrics(predicted, labeled):\n",
    "    mse = mean_squared_error(predicted, labeled)\n",
    "    r2 = r2_score(predicted, labeled)\n",
    "    \n",
    "    print 'MSE: {}'.format(mse)\n",
    "    print 'R2: {}'.format(r2)\n",
    "    \n",
    "    \n",
    "scoring_metrics(hr_profile.pct_flux_pred, hr_profile.pct_flux_test)\n",
    "#     return mse, r2\n",
    "\n",
    "# mean_squared_error(y_test, pred)\n",
    "# r2_score(y_test, pred)\n",
    "# explained_variance_score(y_test, pred)\n",
    "# RegressorMixin.score(X_test, y_test)"
   ]
  },
  {
   "cell_type": "code",
   "execution_count": null,
   "metadata": {
    "collapsed": true
   },
   "outputs": [],
   "source": []
  },
  {
   "cell_type": "markdown",
   "metadata": {
    "collapsed": true
   },
   "source": [
    "# Miscellaneous Plotting"
   ]
  },
  {
   "cell_type": "code",
   "execution_count": null,
   "metadata": {
    "collapsed": true
   },
   "outputs": [],
   "source": [
    "# prediction/observation plot\n",
    "\n",
    "line = linspace(-1,1, num = 50)\n",
    "\n",
    "fig = plt.figure(figsize = (10,10))\n",
    "pl = fig.add_subplot(111)\n",
    "pl.scatter(pred, y_test, alpha = 0.1)\n",
    "pl.plot(line, line, c = 'k', linestyle = '--')\n",
    "xlabel('Predicted',fontsize = 15)\n",
    "ylabel('Observed',fontsize = 15)\n"
   ]
  },
  {
   "cell_type": "code",
   "execution_count": null,
   "metadata": {
    "collapsed": true
   },
   "outputs": [],
   "source": [
    "# queries the entire features table to calculate pct_flux\n",
    "ids_to_see = dfcol_into_sqllist(df_unbal_stations, 'id')\n",
    "\n",
    "query = \"\"\"\n",
    "    SELECT a.id, a.date, a.hour, bikes_out, bikes_in, dayofweek, month, is_weekday,\n",
    "            is_holiday, rebal_net_flux, tot_docks, avail_bikes, avail_docks,\n",
    "            precip, snow, temp, c.long, c.lat\n",
    "    FROM features a\n",
    "    LEFT JOIN weather b ON a.date = b.date AND a.hour = b.hour\n",
    "    LEFT JOIN stations c ON a.id = c.id\n",
    "    WHERE tot_docks > 0 AND a.id in {}\n",
    "    ORDER BY a.id, a.date, a.hour;\n",
    "\"\"\".format(ids_to_see)\n",
    "\n",
    "df = pd.read_sql_query(query, con)\n",
    "df.date = pd.to_datetime(df.date)\n",
    "df = new_features(df)"
   ]
  },
  {
   "cell_type": "code",
   "execution_count": null,
   "metadata": {
    "collapsed": true
   },
   "outputs": [],
   "source": [
    "# histogram of pct_flux compared to normal distribution\n",
    "\n",
    "from scipy.stats import norm\n",
    "x_axis = np.arange(-1,1,0.001)\n",
    "\n",
    "df.pct_flux.plot(kind = 'hist', logy = True, bins=400, normed = True, alpha = 0.5)\n",
    "plot(x_axis, norm.pdf(x_axis, df.pct_flux.mean(), df.pct_flux.std()))\n",
    "xlim([-0.5,0.5])\n",
    "ylim([0.001, None])\n",
    "xlabel('Bike Flow', fontsize = 15)\n",
    "ylabel('Frequency', fontsize = 15)"
   ]
  },
  {
   "cell_type": "code",
   "execution_count": null,
   "metadata": {
    "collapsed": true
   },
   "outputs": [],
   "source": [
    "# df['hours12'] = pd.to_datetime(df.hour, format='%H').dt.strftime('%I %p')\n",
    "\n",
    "cols  = ['pct_flux', 'pct_avail_bikes', 'hour']\n",
    "weekday = 1\n",
    "dock_id = 477\n",
    "grps = df.groupby(['id','is_weekday', 'hour']).mean().reset_index()\n",
    "cond = (grps.is_weekday == weekday) & (grps.id == dock_id)\n",
    "plotter = grps[cond][cols].sort_values('hour').set_index('hour')\n",
    "\n",
    "plot1 = plotter['pct_avail_bikes'].plot(c = 'steelblue', label = 'Available Bikes')\n",
    "# change ticklabels\n",
    "# labels = [item.get_text() for item in ax.get_xticklabels()]\n",
    "labels = ['12 AM', '5 AM', '10 AM', '3 PM', '8 PM']\n",
    "plot1.set_xticklabels(labels)\n",
    "\n",
    "plot2 = plotter['pct_flux'].plot(c = 'r', label = 'Flow')\n",
    "legend(loc = 4, prop = {'size':15})\n",
    "xlabel('Time of Day', fontsize = 15)\n",
    "ylim([-.45, 0.7])\n",
    "\n",
    "\n",
    "suptitle('Bikes Activity for Station {} (Weekday)'.format(dock_id))\n",
    "\n",
    "# grps.xs((dock_id,weekday), level=('id', 'is_weekday'))[cols].plot()"
   ]
  },
  {
   "cell_type": "code",
   "execution_count": null,
   "metadata": {
    "collapsed": true
   },
   "outputs": [],
   "source": [
    "grps = df.groupby(['id','dayofweek', 'hour']).mean().reset_index()\n",
    "cond = (grps.dayofweek == 1) & (grps.id == 477)\n",
    "# grps[cond][['pct_flux', 'hour']].set_index('hour').head()\n",
    "grps.dayofweek.head()"
   ]
  },
  {
   "cell_type": "code",
   "execution_count": null,
   "metadata": {
    "collapsed": true
   },
   "outputs": [],
   "source": [
    "def plot_by_hour(df, cols, dock_id, dayofweek = 0, weekday = None):\n",
    "    #plot hourly profile for any bike for any day\n",
    "    if weekday == 1 or weekday == 0:\n",
    "        grps = df.groupby(['id','is_weekday', 'hour']).mean().reset_index()\n",
    "        cond = (grps.is_weekday == weekday) & (grps.id == dock_id)\n",
    "        grps[cond][cols].set_index('hour').plot()\n",
    "    else:\n",
    "        grps = df.groupby(['id','dayofweek', 'hour']).mean()\n",
    "        cond = (grps.dayofweek == dayofweek) & (grps.id == dock_id)\n",
    "        grps[cond][cols].set_index('hour').plot()\n",
    "#         grps.xs((dock_id, dayofweek), level=('id', 'dayofweek'))[cols].plot()\n",
    "    plt.xlabel('Hour', size = 20)\n",
    "    legend(loc = 'best', prop = {'size':15})"
   ]
  },
  {
   "cell_type": "code",
   "execution_count": null,
   "metadata": {
    "collapsed": true,
    "scrolled": true
   },
   "outputs": [],
   "source": [
    "unbal_stations_list = df_unbal_stations[df_unbal_stations.id.isin(stations2015.id)].id\n",
    "for id in list(unbal_stations_list)[0:5]:\n",
    "    plot_by_hour(df,['pct_flux', 'pct_avail_bikes'], id, dayofweek=3)\n",
    "    suptitle('Bike Activity for station {}'.format(id))"
   ]
  },
  {
   "cell_type": "code",
   "execution_count": null,
   "metadata": {
    "collapsed": true,
    "scrolled": true
   },
   "outputs": [],
   "source": [
    "plot_by_hour(df,['pct_flux', 'hour'], 477, weekday = 1)\n",
    "suptitle('Bike Activity for station {} (Weekday)'.format(529))"
   ]
  },
  {
   "cell_type": "code",
   "execution_count": null,
   "metadata": {
    "collapsed": true
   },
   "outputs": [],
   "source": [
    "def flux_by_hour(df, cols, dock_id, day = 0, weekday = None):\n",
    "    #plot hourly profile for any bike for any day\n",
    "    if weekday == 1 or weekday == 0:\n",
    "        grps = df.groupby(['id','is_weekday', 'hour']).mean().reset_index()\n",
    "        cond = ((grps.is_weekday == weekday) & (grps.id == dock_id))\n",
    "        return grps[cond][cols]\n",
    "    else:\n",
    "        grps = df.groupby(['id','dayofweek', 'hour']).mean().reset_index()\n",
    "        cond = ((grps.dayofweek == day) & (grps.id == dock_id))\n",
    "        return grps[cond][cols]"
   ]
  },
  {
   "cell_type": "code",
   "execution_count": null,
   "metadata": {
    "collapsed": true,
    "scrolled": true
   },
   "outputs": [],
   "source": [
    "flux_by_hour(df,['pct_flux','hour'], 477, day = 1)"
   ]
  },
  {
   "cell_type": "code",
   "execution_count": null,
   "metadata": {
    "collapsed": true,
    "scrolled": true
   },
   "outputs": [],
   "source": [
    "plot_by_hour(df,['pct_flux','hour'], 477, dayofweek = 1)\n",
    "suptitle('Bike Activity for station {} (Weekend)'.format(529))"
   ]
  },
  {
   "cell_type": "code",
   "execution_count": null,
   "metadata": {
    "collapsed": true
   },
   "outputs": [],
   "source": [
    "stations2015[stations2015.id == 529]"
   ]
  },
  {
   "cell_type": "code",
   "execution_count": null,
   "metadata": {
    "collapsed": true
   },
   "outputs": [],
   "source": [
    "import pickle\n",
    "\n",
    "PICKLE_FILENAME = 'regressor.pkl'\n",
    "\n",
    "with open(PICKLE_FILENAME, \"r\") as reg_infile:\n",
    "        reg = pickle.load(reg_infile)\n",
    "        \n",
    "reg"
   ]
  },
  {
   "cell_type": "code",
   "execution_count": null,
   "metadata": {
    "collapsed": true
   },
   "outputs": [],
   "source": []
  },
  {
   "cell_type": "code",
   "execution_count": null,
   "metadata": {
    "collapsed": true
   },
   "outputs": [],
   "source": []
  },
  {
   "cell_type": "code",
   "execution_count": null,
   "metadata": {
    "collapsed": true
   },
   "outputs": [],
   "source": []
  },
  {
   "cell_type": "code",
   "execution_count": null,
   "metadata": {
    "collapsed": true
   },
   "outputs": [],
   "source": [
    "# most unbalanced stations\n",
    "query_unbal_stations_byhr = \"\"\"\n",
    "    SELECT a.id,  a.hour, abs(a.bikes_in - a.bikes_out) as flux,\n",
    "                 abs(a.rbikes_in - a.rbikes_out) as rflux,\n",
    "                 a.bikes_in, a.bikes_out,\n",
    "                 c.name, neighborhood, borough, long, lat\n",
    "    FROM   (SELECT id, hour, sum(bikes_out) as bikes_out, sum(bikes_in) as bikes_in,\n",
    "                sum(rbikes_in) as rbikes_in, sum(rbikes_out) as rbikes_out\n",
    "            FROM features\n",
    "            GROUP BY id, hour) a\n",
    "    JOIN neighborhoods b ON a.id = b.id\n",
    "    JOIN stations c on b.id = c.id\n",
    "    ORDER BY flux DESC;\n",
    "\"\"\"\n",
    "\n",
    "df_unbal_stations_byhr = pd.read_sql_query(query_unbal_stations_byhr, con)\n",
    "df_unbal_stations_byhr = df_unbal_stations_byhr[df_unbal_stations_byhr.id.isin(stations2015.id)]"
   ]
  },
  {
   "cell_type": "code",
   "execution_count": null,
   "metadata": {
    "collapsed": true,
    "scrolled": true
   },
   "outputs": [],
   "source": [
    "df_unbal_stations_byhr.sort_values(['id','hour'])"
   ]
  },
  {
   "cell_type": "code",
   "execution_count": null,
   "metadata": {
    "collapsed": true
   },
   "outputs": [],
   "source": []
  },
  {
   "cell_type": "code",
   "execution_count": null,
   "metadata": {
    "collapsed": true
   },
   "outputs": [],
   "source": [
    "\n",
    "aggregators = {'bikes_in': 'sum', 'bikes_out': 'sum', 'long': 'max', 'lat': 'max'}\n",
    "df_morn = df_unbal_stations_byhr[df_unbal_stations_byhr.hour.isin([7,8,9])].groupby('id').agg(aggregators)"
   ]
  },
  {
   "cell_type": "code",
   "execution_count": null,
   "metadata": {
    "collapsed": true
   },
   "outputs": [],
   "source": [
    "df_morn.head()"
   ]
  },
  {
   "cell_type": "code",
   "execution_count": null,
   "metadata": {
    "collapsed": true
   },
   "outputs": [],
   "source": [
    "# map plot of difference between 8 am and 6 pm bike activity\n",
    "\n",
    "aggregators = {'bikes_in': 'sum', 'bikes_out': 'sum'}\n",
    "morn_cond = df_unbal_stations_byhr.hour.isin([8])\n",
    "even_cond = df_unbal_stations_byhr.hour.isin([17])\n",
    "grp_cols = ['id', 'lat', 'long', 'name']\n",
    "df_morn = df_unbal_stations_byhr[morn_cond].groupby(grp_cols).agg(aggregators).reset_index()\n",
    "df_even = df_unbal_stations_byhr[even_cond].groupby(grp_cols).agg(aggregators).reset_index()\n",
    "\n",
    "fig = plt.figure(figsize = (15,15))\n",
    "pl1 = fig.add_subplot(111)\n",
    "pl1.scatter(df_morn.long, df_morn.lat,\n",
    "           s = df_morn.bikes_out/50, color = 'r', alpha=0.9,\n",
    "           label = 'bikes out at 8 am')\n",
    "pl1.scatter(df_even.long, df_even.lat,\n",
    "           s = df_even.bikes_out/50, color = 'g', alpha=0.6,\n",
    "           label = 'bikes out at 6 pm')\n",
    "\n",
    "plt.axes().set_aspect('equal')\n",
    "plt.legend(loc='best')"
   ]
  },
  {
   "cell_type": "code",
   "execution_count": null,
   "metadata": {
    "collapsed": true
   },
   "outputs": [],
   "source": [
    "df_morn.head()"
   ]
  },
  {
   "cell_type": "code",
   "execution_count": null,
   "metadata": {
    "collapsed": true
   },
   "outputs": [],
   "source": [
    "import folium\n",
    "\n",
    "# norm = Normalize(start_station['trip count'].min(), start_station['trip count'].max())\n",
    "# Get dark tileset from CartoBD (https://cartodb.com/basemaps)\n",
    "tileset = r'http://{s}.basemaps.cartocdn.com/light_all/{z}/{x}/{y}.png'\n",
    "\n",
    "station_map = folium.Map(location = [40.73, -73.985], width = 400, height = 700,\n",
    "                        tiles = tileset,\n",
    "                        attr = '&copy; <a href=\"http://www.openstreetmap.org/copyright\">OpenStreetMap</a> contributors, &copy; <a href=\"http://cartodb.com/attributions\">CartoDB</a>',\n",
    "                        zoom_start = 13)\n",
    "\n",
    "\n",
    "for index, row in df_morn.iterrows():\n",
    "    morn_color = 'red' #rgb2hex(cm.YlOrRd(norm(row['trip count'])))\n",
    "    folium.CircleMarker(\n",
    "        location = [row['lat'], row['long']],\n",
    "        popup = row['name'],\n",
    "        radius = sqrt(row['bikes_out'])/15,\n",
    "        color = None, fill_color = morn_color).add_to(station_map)\n",
    "    \n",
    "for index, row in df_even.iterrows():\n",
    "    green_color = 'green' #rgb2hex(cm.YlOrRd(norm(row['trip count'])))\n",
    "    folium.CircleMarker(\n",
    "        location = [row['lat'], row['long']],\n",
    "        popup = row['name'],\n",
    "        radius = sqrt(row['bikes_out'])/15,\n",
    "        color = None, fill_color = green_color).add_to(station_map)\n",
    "    \n",
    "station_map    \n",
    "# station_map.save('station_map.html')"
   ]
  },
  {
   "cell_type": "code",
   "execution_count": null,
   "metadata": {
    "collapsed": true
   },
   "outputs": [],
   "source": [
    "station_map"
   ]
  },
  {
   "cell_type": "code",
   "execution_count": null,
   "metadata": {
    "collapsed": true
   },
   "outputs": [],
   "source": []
  },
  {
   "cell_type": "code",
   "execution_count": null,
   "metadata": {
    "collapsed": true
   },
   "outputs": [],
   "source": []
  },
  {
   "cell_type": "code",
   "execution_count": null,
   "metadata": {
    "collapsed": true
   },
   "outputs": [],
   "source": []
  },
  {
   "cell_type": "code",
   "execution_count": null,
   "metadata": {
    "collapsed": true
   },
   "outputs": [],
   "source": [
    "# map plot of flow activity vs. rebalancing activity\n",
    "\n",
    "fig = plt.figure(figsize = (10,15))\n",
    "pl1 = fig.add_subplot(111)\n",
    "pl1.scatter(df_unbal_stations.long, df_unbal_stations.lat,\n",
    "           s = df_unbal_stations.flux/25, color = 'k', alpha=0.9,\n",
    "           label = 'total bike flow')\n",
    "pl1.scatter(df_unbal_stations.long, df_unbal_stations.lat,\n",
    "           s = df_unbal_stations.rflux/25, color = 'y', alpha=0.6,\n",
    "           label = 'total rebalancing flow')\n",
    "\n",
    "plt.axes().set_aspect('equal')\n",
    "plt.legend(loc='best')"
   ]
  },
  {
   "cell_type": "code",
   "execution_count": null,
   "metadata": {
    "collapsed": true
   },
   "outputs": [],
   "source": []
  },
  {
   "cell_type": "code",
   "execution_count": null,
   "metadata": {
    "collapsed": true
   },
   "outputs": [],
   "source": [
    "hrs = df.hours12.sort_values().unique()\n",
    "hrs"
   ]
  },
  {
   "cell_type": "code",
   "execution_count": null,
   "metadata": {
    "collapsed": true
   },
   "outputs": [],
   "source": [
    "pd.to_datetime(df.hour, format='%H').dt.strftime('%I %p')"
   ]
  },
  {
   "cell_type": "code",
   "execution_count": null,
   "metadata": {
    "collapsed": true
   },
   "outputs": [],
   "source": []
  },
  {
   "cell_type": "code",
   "execution_count": null,
   "metadata": {
    "collapsed": true
   },
   "outputs": [],
   "source": []
  },
  {
   "cell_type": "code",
   "execution_count": null,
   "metadata": {
    "collapsed": true
   },
   "outputs": [],
   "source": []
  },
  {
   "cell_type": "code",
   "execution_count": null,
   "metadata": {
    "collapsed": true
   },
   "outputs": [],
   "source": []
  },
  {
   "cell_type": "markdown",
   "metadata": {},
   "source": [
    "## Sample Queries"
   ]
  },
  {
   "cell_type": "code",
   "execution_count": null,
   "metadata": {
    "collapsed": true
   },
   "outputs": [],
   "source": [
    "# find the most active stations by bikes_out\n",
    "query_stations_out = \"\"\"\n",
    "    SELECT a.id, bikes_out, c.name, neighborhood, borough\n",
    "    FROM   (SELECT id, sum(bikes_out) as bikes_out\n",
    "            FROM features\n",
    "            GROUP BY id) a\n",
    "    JOIN neighborhoods b ON a.id = b.id\n",
    "    JOIN stations c on b.id = c.id\n",
    "    ORDER BY bikes_out DESC;\n",
    "\"\"\"\n",
    "\n",
    "df_stations_out = pd.read_sql_query(query_stations_out, con)\n",
    "df_stations_out.head(20)"
   ]
  },
  {
   "cell_type": "code",
   "execution_count": null,
   "metadata": {
    "collapsed": true
   },
   "outputs": [],
   "source": [
    "# find the most active stations by bikes_in\n",
    "query_stations_in = \"\"\"\n",
    "    SELECT a.id, bikes_in, c.name, neighborhood, borough\n",
    "    FROM   (SELECT id, sum(bikes_in) as bikes_in\n",
    "            FROM features\n",
    "            GROUP BY id) a\n",
    "    JOIN neighborhoods b ON a.id = b.id\n",
    "    JOIN stations c ON b.id = c.id\n",
    "    ORDER BY bikes_in DESC;\n",
    "\"\"\"\n",
    "\n",
    "df_stations_in = pd.read_sql_query(query_stations_in, con)\n",
    "df_stations_in.head(20)"
   ]
  },
  {
   "cell_type": "code",
   "execution_count": null,
   "metadata": {
    "collapsed": true
   },
   "outputs": [],
   "source": [
    "# find the most active neighborhoods by bikes_out\n",
    "query_hoods_out = \"\"\"\n",
    "        SELECT sum(a.bikes_out) as bikes_out, \n",
    "                b.neighborhood, b.borough\n",
    "        FROM features a\n",
    "        JOIN neighborhoods b on a.id = b.id\n",
    "        GROUP BY borough, neighborhood\n",
    "        ORDER BY bikes_out DESC;\n",
    "\"\"\"\n",
    "\n",
    "df_hoods_out = pd.read_sql_query(query_hoods_out, con)\n",
    "df_hoods_out.head(20)"
   ]
  },
  {
   "cell_type": "code",
   "execution_count": null,
   "metadata": {
    "collapsed": true
   },
   "outputs": [],
   "source": [
    "# find the most active neighborhoods by bikes_in\n",
    "query_hoods_in = \"\"\"\n",
    "        SELECT sum(a.bikes_in) as bikes_in, \n",
    "                b.neighborhood, b.borough\n",
    "        FROM features a\n",
    "        JOIN neighborhoods b on a.id = b.id\n",
    "        GROUP BY borough, neighborhood\n",
    "        ORDER BY bikes_in DESC;\n",
    "\"\"\"\n",
    "\n",
    "df_hoods_in = pd.read_sql_query(query_hoods_in, con)\n",
    "df_hoods_in.head(20)"
   ]
  },
  {
   "cell_type": "code",
   "execution_count": null,
   "metadata": {
    "collapsed": true
   },
   "outputs": [],
   "source": [
    "# find the most unbalanced neighborhoods\n",
    "query_hoods_in = \"\"\"\n",
    "        SELECT sum(a.bikes_in - a.bikes_out) as flux, \n",
    "                b.neighborhood, b.borough\n",
    "        FROM features a\n",
    "        JOIN neighborhoods b on a.id = b.id\n",
    "        GROUP BY borough, neighborhood\n",
    "        ORDER BY flux DESC;\n",
    "\"\"\"\n",
    "\n",
    "df_hoods_in = pd.read_sql_query(query_hoods_in, con)\n",
    "df_hoods_in.head(20)"
   ]
  },
  {
   "cell_type": "code",
   "execution_count": null,
   "metadata": {
    "collapsed": true
   },
   "outputs": [],
   "source": []
  },
  {
   "cell_type": "code",
   "execution_count": null,
   "metadata": {
    "collapsed": true
   },
   "outputs": [],
   "source": []
  },
  {
   "cell_type": "code",
   "execution_count": null,
   "metadata": {
    "collapsed": true
   },
   "outputs": [],
   "source": []
  },
  {
   "cell_type": "markdown",
   "metadata": {},
   "source": [
    "# Make dummy variables"
   ]
  },
  {
   "cell_type": "code",
   "execution_count": null,
   "metadata": {
    "collapsed": true
   },
   "outputs": [],
   "source": [
    "unique_values = [len(unique(df.iloc[:,i])) for i in xrange(df.shape[1])]\n",
    "plt.bar(range(df.shape[1]), unique_values, width = 1, align='edge')"
   ]
  },
  {
   "cell_type": "code",
   "execution_count": null,
   "metadata": {
    "collapsed": true
   },
   "outputs": [],
   "source": [
    "# def dummies(col_name):\n",
    "#     unique = sorted(data[col_name].unique())\n",
    "#     return pd.get_dummies(unique)\n",
    "\n",
    "# dummy_hour = pd.get_dummies(dummies('hour'))\n",
    "# dummy_dayofweek = pd.get_dummies(dummies('dayofweek'))\n",
    "# dummy_month = pd.get_dummies(dummies('month'))"
   ]
  },
  {
   "cell_type": "code",
   "execution_count": null,
   "metadata": {
    "collapsed": true
   },
   "outputs": [],
   "source": [
    "cat_data = df[['hour', 'dayofweek', 'month']]\n",
    "dummy_hr = pd.get_dummies(cat_data['hour']).rename(columns = lambda x: 'hour' + '{:02}'.format(x))\n",
    "dummy_dow = pd.get_dummies(cat_data['dayofweek']).rename(columns = lambda x: 'day' + '{:02.0f}'.format(x))\n",
    "dummy_mo = pd.get_dummies(cat_data['month']).rename(columns = lambda x: 'month' + '{:02.0f}'.format(x))"
   ]
  },
  {
   "cell_type": "code",
   "execution_count": null,
   "metadata": {
    "collapsed": true,
    "scrolled": true
   },
   "outputs": [],
   "source": [
    "dummy_df = pd.concat([df, dummy_hr, dummy_dow, dummy_mo], axis = 1)\n",
    "dummy_df.drop(['hour', 'month', 'dayofweek'], axis=1, inplace=True)\n",
    "dummy_df.drop(['id', 'date', 'bikes_out', 'bikes_in', 'rebal_net_flux',\n",
    "              'avail_bikes', 'avail_docks', 'tot_docks', 'flux'], axis = 1, inplace = True)\n",
    "dummy_df.head()"
   ]
  },
  {
   "cell_type": "code",
   "execution_count": null,
   "metadata": {
    "collapsed": true
   },
   "outputs": [],
   "source": []
  },
  {
   "cell_type": "code",
   "execution_count": null,
   "metadata": {
    "collapsed": true
   },
   "outputs": [],
   "source": []
  },
  {
   "cell_type": "code",
   "execution_count": null,
   "metadata": {
    "collapsed": true
   },
   "outputs": [],
   "source": []
  },
  {
   "cell_type": "code",
   "execution_count": null,
   "metadata": {
    "collapsed": true
   },
   "outputs": [],
   "source": []
  },
  {
   "cell_type": "code",
   "execution_count": null,
   "metadata": {
    "collapsed": true
   },
   "outputs": [],
   "source": []
  },
  {
   "cell_type": "code",
   "execution_count": null,
   "metadata": {
    "collapsed": true
   },
   "outputs": [],
   "source": []
  },
  {
   "cell_type": "code",
   "execution_count": null,
   "metadata": {
    "collapsed": true
   },
   "outputs": [],
   "source": []
  },
  {
   "cell_type": "code",
   "execution_count": null,
   "metadata": {
    "collapsed": true
   },
   "outputs": [],
   "source": []
  }
 ],
 "metadata": {
  "kernelspec": {
   "display_name": "Python 2",
   "language": "python",
   "name": "python2"
  },
  "language_info": {
   "codemirror_mode": {
    "name": "ipython",
    "version": 2
   },
   "file_extension": ".py",
   "mimetype": "text/x-python",
   "name": "python",
   "nbconvert_exporter": "python",
   "pygments_lexer": "ipython2",
   "version": "2.7.13"
  }
 },
 "nbformat": 4,
 "nbformat_minor": 2
}
