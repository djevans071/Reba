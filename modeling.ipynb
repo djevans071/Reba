{
 "cells": [
  {
   "cell_type": "code",
   "execution_count": 1,
   "metadata": {},
   "outputs": [
    {
     "name": "stdout",
     "output_type": "stream",
     "text": [
      "Populating the interactive namespace from numpy and matplotlib\n"
     ]
    },
    {
     "data": {
      "text/plain": [
       "<function matplotlib.pyplot.tight_layout>"
      ]
     },
     "execution_count": 1,
     "metadata": {},
     "output_type": "execute_result"
    }
   ],
   "source": [
    "%pylab inline\n",
    "from matplotlib import pyplot as plt\n",
    "from workflow.data import *\n",
    "import pandas as pd\n",
    "import numpy as np\n",
    "import seaborn as sns\n",
    "\n",
    "from sqlalchemy import create_engine\n",
    "from sqlalchemy_utils import database_exists, create_database\n",
    "import psycopg2\n",
    "plt.tight_layout"
   ]
  },
  {
   "cell_type": "code",
   "execution_count": 3,
   "metadata": {
    "collapsed": true
   },
   "outputs": [],
   "source": [
    "# connect to SQL database\n",
    "\n",
    "username = 'psam071'\n",
    "host = 'localhost'\n",
    "dbname = 'citibike'\n",
    "\n",
    "db = create_engine('postgres://%s%s/%s' % (username,host,dbname))\n",
    "con = None\n",
    "\n",
    "con = psycopg2.connect(database = dbname, user = username, host = host)"
   ]
  },
  {
   "cell_type": "markdown",
   "metadata": {},
   "source": [
    "## Querying and Selecting Data"
   ]
  },
  {
   "cell_type": "code",
   "execution_count": 34,
   "metadata": {},
   "outputs": [
    {
     "data": {
      "text/html": [
       "<div>\n",
       "<style>\n",
       "    .dataframe thead tr:only-child th {\n",
       "        text-align: right;\n",
       "    }\n",
       "\n",
       "    .dataframe thead th {\n",
       "        text-align: left;\n",
       "    }\n",
       "\n",
       "    .dataframe tbody tr th {\n",
       "        vertical-align: top;\n",
       "    }\n",
       "</style>\n",
       "<table border=\"1\" class=\"dataframe\">\n",
       "  <thead>\n",
       "    <tr style=\"text-align: right;\">\n",
       "      <th></th>\n",
       "      <th>id</th>\n",
       "      <th>bikes_out</th>\n",
       "      <th>name</th>\n",
       "      <th>neighborhood</th>\n",
       "      <th>borough</th>\n",
       "    </tr>\n",
       "  </thead>\n",
       "  <tbody>\n",
       "    <tr>\n",
       "      <th>0</th>\n",
       "      <td>519.0</td>\n",
       "      <td>269165.0</td>\n",
       "      <td>Pershing Square North</td>\n",
       "      <td>Murray Hill</td>\n",
       "      <td>Manhattan</td>\n",
       "    </tr>\n",
       "    <tr>\n",
       "      <th>1</th>\n",
       "      <td>435.0</td>\n",
       "      <td>193870.0</td>\n",
       "      <td>W 21 St &amp; 6 Ave</td>\n",
       "      <td>Flatiron</td>\n",
       "      <td>Manhattan</td>\n",
       "    </tr>\n",
       "    <tr>\n",
       "      <th>2</th>\n",
       "      <td>497.0</td>\n",
       "      <td>192056.0</td>\n",
       "      <td>E 17 St &amp; Broadway</td>\n",
       "      <td>Flatiron</td>\n",
       "      <td>Manhattan</td>\n",
       "    </tr>\n",
       "    <tr>\n",
       "      <th>3</th>\n",
       "      <td>426.0</td>\n",
       "      <td>182324.0</td>\n",
       "      <td>West St &amp; Chambers St</td>\n",
       "      <td>Tribeca</td>\n",
       "      <td>Manhattan</td>\n",
       "    </tr>\n",
       "    <tr>\n",
       "      <th>4</th>\n",
       "      <td>402.0</td>\n",
       "      <td>171496.0</td>\n",
       "      <td>Broadway &amp; E 22 St</td>\n",
       "      <td>Flatiron</td>\n",
       "      <td>Manhattan</td>\n",
       "    </tr>\n",
       "    <tr>\n",
       "      <th>5</th>\n",
       "      <td>285.0</td>\n",
       "      <td>163412.0</td>\n",
       "      <td>Broadway &amp; E 14 St</td>\n",
       "      <td>Flatiron</td>\n",
       "      <td>Manhattan</td>\n",
       "    </tr>\n",
       "    <tr>\n",
       "      <th>6</th>\n",
       "      <td>490.0</td>\n",
       "      <td>155497.0</td>\n",
       "      <td>8 Ave &amp; W 33 St</td>\n",
       "      <td>Midtown South</td>\n",
       "      <td>Manhattan</td>\n",
       "    </tr>\n",
       "    <tr>\n",
       "      <th>7</th>\n",
       "      <td>151.0</td>\n",
       "      <td>155115.0</td>\n",
       "      <td>Cleveland Pl &amp; Spring St</td>\n",
       "      <td>Little Italy</td>\n",
       "      <td>Manhattan</td>\n",
       "    </tr>\n",
       "    <tr>\n",
       "      <th>8</th>\n",
       "      <td>284.0</td>\n",
       "      <td>153329.0</td>\n",
       "      <td>Greenwich Ave &amp; 8 Ave</td>\n",
       "      <td>Chelsea</td>\n",
       "      <td>Manhattan</td>\n",
       "    </tr>\n",
       "    <tr>\n",
       "      <th>9</th>\n",
       "      <td>368.0</td>\n",
       "      <td>149260.0</td>\n",
       "      <td>Carmine St &amp; 6 Ave</td>\n",
       "      <td>Greenwich Village</td>\n",
       "      <td>Manhattan</td>\n",
       "    </tr>\n",
       "    <tr>\n",
       "      <th>10</th>\n",
       "      <td>459.0</td>\n",
       "      <td>148007.0</td>\n",
       "      <td>W 20 St &amp; 11 Ave</td>\n",
       "      <td>Chelsea</td>\n",
       "      <td>Manhattan</td>\n",
       "    </tr>\n",
       "    <tr>\n",
       "      <th>11</th>\n",
       "      <td>293.0</td>\n",
       "      <td>147174.0</td>\n",
       "      <td>Lafayette St &amp; E 8 St</td>\n",
       "      <td>Noho</td>\n",
       "      <td>Manhattan</td>\n",
       "    </tr>\n",
       "    <tr>\n",
       "      <th>12</th>\n",
       "      <td>477.0</td>\n",
       "      <td>145704.0</td>\n",
       "      <td>W 41 St &amp; 8 Ave</td>\n",
       "      <td>Clinton</td>\n",
       "      <td>Manhattan</td>\n",
       "    </tr>\n",
       "    <tr>\n",
       "      <th>13</th>\n",
       "      <td>444.0</td>\n",
       "      <td>140934.0</td>\n",
       "      <td>Broadway &amp; W 24 St</td>\n",
       "      <td>Flatiron</td>\n",
       "      <td>Manhattan</td>\n",
       "    </tr>\n",
       "    <tr>\n",
       "      <th>14</th>\n",
       "      <td>2006.0</td>\n",
       "      <td>138242.0</td>\n",
       "      <td>Central Park S &amp; 6 Ave</td>\n",
       "      <td>Lincoln Square</td>\n",
       "      <td>Manhattan</td>\n",
       "    </tr>\n",
       "    <tr>\n",
       "      <th>15</th>\n",
       "      <td>327.0</td>\n",
       "      <td>135113.0</td>\n",
       "      <td>Vesey Pl &amp; River Terrace</td>\n",
       "      <td>Battery Park City</td>\n",
       "      <td>Manhattan</td>\n",
       "    </tr>\n",
       "    <tr>\n",
       "      <th>16</th>\n",
       "      <td>514.0</td>\n",
       "      <td>133683.0</td>\n",
       "      <td>12 Ave &amp; W 40 St</td>\n",
       "      <td>Clinton</td>\n",
       "      <td>Manhattan</td>\n",
       "    </tr>\n",
       "    <tr>\n",
       "      <th>17</th>\n",
       "      <td>358.0</td>\n",
       "      <td>132488.0</td>\n",
       "      <td>Christopher St &amp; Greenwich St</td>\n",
       "      <td>West Village</td>\n",
       "      <td>Manhattan</td>\n",
       "    </tr>\n",
       "    <tr>\n",
       "      <th>18</th>\n",
       "      <td>379.0</td>\n",
       "      <td>130692.0</td>\n",
       "      <td>W 31 St &amp; 7 Ave</td>\n",
       "      <td>Midtown South</td>\n",
       "      <td>Manhattan</td>\n",
       "    </tr>\n",
       "    <tr>\n",
       "      <th>19</th>\n",
       "      <td>499.0</td>\n",
       "      <td>128372.0</td>\n",
       "      <td>Broadway &amp; W 60 St</td>\n",
       "      <td>Lincoln Square</td>\n",
       "      <td>Manhattan</td>\n",
       "    </tr>\n",
       "  </tbody>\n",
       "</table>\n",
       "</div>"
      ],
      "text/plain": [
       "        id  bikes_out                           name       neighborhood  \\\n",
       "0    519.0   269165.0          Pershing Square North        Murray Hill   \n",
       "1    435.0   193870.0                W 21 St & 6 Ave           Flatiron   \n",
       "2    497.0   192056.0             E 17 St & Broadway           Flatiron   \n",
       "3    426.0   182324.0          West St & Chambers St            Tribeca   \n",
       "4    402.0   171496.0             Broadway & E 22 St           Flatiron   \n",
       "5    285.0   163412.0             Broadway & E 14 St           Flatiron   \n",
       "6    490.0   155497.0                8 Ave & W 33 St      Midtown South   \n",
       "7    151.0   155115.0       Cleveland Pl & Spring St       Little Italy   \n",
       "8    284.0   153329.0          Greenwich Ave & 8 Ave            Chelsea   \n",
       "9    368.0   149260.0             Carmine St & 6 Ave  Greenwich Village   \n",
       "10   459.0   148007.0               W 20 St & 11 Ave            Chelsea   \n",
       "11   293.0   147174.0          Lafayette St & E 8 St               Noho   \n",
       "12   477.0   145704.0                W 41 St & 8 Ave            Clinton   \n",
       "13   444.0   140934.0             Broadway & W 24 St           Flatiron   \n",
       "14  2006.0   138242.0         Central Park S & 6 Ave     Lincoln Square   \n",
       "15   327.0   135113.0       Vesey Pl & River Terrace  Battery Park City   \n",
       "16   514.0   133683.0               12 Ave & W 40 St            Clinton   \n",
       "17   358.0   132488.0  Christopher St & Greenwich St       West Village   \n",
       "18   379.0   130692.0                W 31 St & 7 Ave      Midtown South   \n",
       "19   499.0   128372.0             Broadway & W 60 St     Lincoln Square   \n",
       "\n",
       "      borough  \n",
       "0   Manhattan  \n",
       "1   Manhattan  \n",
       "2   Manhattan  \n",
       "3   Manhattan  \n",
       "4   Manhattan  \n",
       "5   Manhattan  \n",
       "6   Manhattan  \n",
       "7   Manhattan  \n",
       "8   Manhattan  \n",
       "9   Manhattan  \n",
       "10  Manhattan  \n",
       "11  Manhattan  \n",
       "12  Manhattan  \n",
       "13  Manhattan  \n",
       "14  Manhattan  \n",
       "15  Manhattan  \n",
       "16  Manhattan  \n",
       "17  Manhattan  \n",
       "18  Manhattan  \n",
       "19  Manhattan  "
      ]
     },
     "execution_count": 34,
     "metadata": {},
     "output_type": "execute_result"
    }
   ],
   "source": [
    "# find the most active stations by bikes_out\n",
    "query = \"\"\"\n",
    "    SELECT a.id, bikes_out, c.name, neighborhood, borough\n",
    "    FROM   (SELECT id, sum(bikes_out) as bikes_out\n",
    "            FROM features\n",
    "            GROUP BY id) a\n",
    "    JOIN neighborhoods b ON a.id = b.id\n",
    "    JOIN stations c on b.id = c.id\n",
    "    ORDER BY bikes_out DESC;\n",
    "\"\"\"\n",
    "\n",
    "df = pd.read_sql_query(query, con)\n",
    "df.head(20)"
   ]
  },
  {
   "cell_type": "code",
   "execution_count": 35,
   "metadata": {},
   "outputs": [
    {
     "data": {
      "text/html": [
       "<div>\n",
       "<style>\n",
       "    .dataframe thead tr:only-child th {\n",
       "        text-align: right;\n",
       "    }\n",
       "\n",
       "    .dataframe thead th {\n",
       "        text-align: left;\n",
       "    }\n",
       "\n",
       "    .dataframe tbody tr th {\n",
       "        vertical-align: top;\n",
       "    }\n",
       "</style>\n",
       "<table border=\"1\" class=\"dataframe\">\n",
       "  <thead>\n",
       "    <tr style=\"text-align: right;\">\n",
       "      <th></th>\n",
       "      <th>id</th>\n",
       "      <th>bikes_in</th>\n",
       "      <th>name</th>\n",
       "      <th>neighborhood</th>\n",
       "      <th>borough</th>\n",
       "    </tr>\n",
       "  </thead>\n",
       "  <tbody>\n",
       "    <tr>\n",
       "      <th>0</th>\n",
       "      <td>519.0</td>\n",
       "      <td>256714.0</td>\n",
       "      <td>Pershing Square North</td>\n",
       "      <td>Murray Hill</td>\n",
       "      <td>Manhattan</td>\n",
       "    </tr>\n",
       "    <tr>\n",
       "      <th>1</th>\n",
       "      <td>497.0</td>\n",
       "      <td>199728.0</td>\n",
       "      <td>E 17 St &amp; Broadway</td>\n",
       "      <td>Flatiron</td>\n",
       "      <td>Manhattan</td>\n",
       "    </tr>\n",
       "    <tr>\n",
       "      <th>2</th>\n",
       "      <td>435.0</td>\n",
       "      <td>195769.0</td>\n",
       "      <td>W 21 St &amp; 6 Ave</td>\n",
       "      <td>Flatiron</td>\n",
       "      <td>Manhattan</td>\n",
       "    </tr>\n",
       "    <tr>\n",
       "      <th>3</th>\n",
       "      <td>426.0</td>\n",
       "      <td>190497.0</td>\n",
       "      <td>West St &amp; Chambers St</td>\n",
       "      <td>Tribeca</td>\n",
       "      <td>Manhattan</td>\n",
       "    </tr>\n",
       "    <tr>\n",
       "      <th>4</th>\n",
       "      <td>402.0</td>\n",
       "      <td>180692.0</td>\n",
       "      <td>Broadway &amp; E 22 St</td>\n",
       "      <td>Flatiron</td>\n",
       "      <td>Manhattan</td>\n",
       "    </tr>\n",
       "    <tr>\n",
       "      <th>5</th>\n",
       "      <td>285.0</td>\n",
       "      <td>165656.0</td>\n",
       "      <td>Broadway &amp; E 14 St</td>\n",
       "      <td>Flatiron</td>\n",
       "      <td>Manhattan</td>\n",
       "    </tr>\n",
       "    <tr>\n",
       "      <th>6</th>\n",
       "      <td>284.0</td>\n",
       "      <td>157641.0</td>\n",
       "      <td>Greenwich Ave &amp; 8 Ave</td>\n",
       "      <td>Chelsea</td>\n",
       "      <td>Manhattan</td>\n",
       "    </tr>\n",
       "    <tr>\n",
       "      <th>7</th>\n",
       "      <td>151.0</td>\n",
       "      <td>156434.0</td>\n",
       "      <td>Cleveland Pl &amp; Spring St</td>\n",
       "      <td>Little Italy</td>\n",
       "      <td>Manhattan</td>\n",
       "    </tr>\n",
       "    <tr>\n",
       "      <th>8</th>\n",
       "      <td>477.0</td>\n",
       "      <td>156029.0</td>\n",
       "      <td>W 41 St &amp; 8 Ave</td>\n",
       "      <td>Clinton</td>\n",
       "      <td>Manhattan</td>\n",
       "    </tr>\n",
       "    <tr>\n",
       "      <th>9</th>\n",
       "      <td>459.0</td>\n",
       "      <td>154681.0</td>\n",
       "      <td>W 20 St &amp; 11 Ave</td>\n",
       "      <td>Chelsea</td>\n",
       "      <td>Manhattan</td>\n",
       "    </tr>\n",
       "    <tr>\n",
       "      <th>10</th>\n",
       "      <td>490.0</td>\n",
       "      <td>153652.0</td>\n",
       "      <td>8 Ave &amp; W 33 St</td>\n",
       "      <td>Midtown South</td>\n",
       "      <td>Manhattan</td>\n",
       "    </tr>\n",
       "    <tr>\n",
       "      <th>11</th>\n",
       "      <td>368.0</td>\n",
       "      <td>151681.0</td>\n",
       "      <td>Carmine St &amp; 6 Ave</td>\n",
       "      <td>Greenwich Village</td>\n",
       "      <td>Manhattan</td>\n",
       "    </tr>\n",
       "    <tr>\n",
       "      <th>12</th>\n",
       "      <td>293.0</td>\n",
       "      <td>148603.0</td>\n",
       "      <td>Lafayette St &amp; E 8 St</td>\n",
       "      <td>Noho</td>\n",
       "      <td>Manhattan</td>\n",
       "    </tr>\n",
       "    <tr>\n",
       "      <th>13</th>\n",
       "      <td>514.0</td>\n",
       "      <td>142691.0</td>\n",
       "      <td>12 Ave &amp; W 40 St</td>\n",
       "      <td>Clinton</td>\n",
       "      <td>Manhattan</td>\n",
       "    </tr>\n",
       "    <tr>\n",
       "      <th>14</th>\n",
       "      <td>444.0</td>\n",
       "      <td>139091.0</td>\n",
       "      <td>Broadway &amp; W 24 St</td>\n",
       "      <td>Flatiron</td>\n",
       "      <td>Manhattan</td>\n",
       "    </tr>\n",
       "    <tr>\n",
       "      <th>15</th>\n",
       "      <td>358.0</td>\n",
       "      <td>134681.0</td>\n",
       "      <td>Christopher St &amp; Greenwich St</td>\n",
       "      <td>West Village</td>\n",
       "      <td>Manhattan</td>\n",
       "    </tr>\n",
       "    <tr>\n",
       "      <th>16</th>\n",
       "      <td>2006.0</td>\n",
       "      <td>134368.0</td>\n",
       "      <td>Central Park S &amp; 6 Ave</td>\n",
       "      <td>Lincoln Square</td>\n",
       "      <td>Manhattan</td>\n",
       "    </tr>\n",
       "    <tr>\n",
       "      <th>17</th>\n",
       "      <td>327.0</td>\n",
       "      <td>134313.0</td>\n",
       "      <td>Vesey Pl &amp; River Terrace</td>\n",
       "      <td>Battery Park City</td>\n",
       "      <td>Manhattan</td>\n",
       "    </tr>\n",
       "    <tr>\n",
       "      <th>18</th>\n",
       "      <td>379.0</td>\n",
       "      <td>131765.0</td>\n",
       "      <td>W 31 St &amp; 7 Ave</td>\n",
       "      <td>Midtown South</td>\n",
       "      <td>Manhattan</td>\n",
       "    </tr>\n",
       "    <tr>\n",
       "      <th>19</th>\n",
       "      <td>382.0</td>\n",
       "      <td>131418.0</td>\n",
       "      <td>University Pl &amp; E 14 St</td>\n",
       "      <td>Flatiron</td>\n",
       "      <td>Manhattan</td>\n",
       "    </tr>\n",
       "  </tbody>\n",
       "</table>\n",
       "</div>"
      ],
      "text/plain": [
       "        id  bikes_in                           name       neighborhood  \\\n",
       "0    519.0  256714.0          Pershing Square North        Murray Hill   \n",
       "1    497.0  199728.0             E 17 St & Broadway           Flatiron   \n",
       "2    435.0  195769.0                W 21 St & 6 Ave           Flatiron   \n",
       "3    426.0  190497.0          West St & Chambers St            Tribeca   \n",
       "4    402.0  180692.0             Broadway & E 22 St           Flatiron   \n",
       "5    285.0  165656.0             Broadway & E 14 St           Flatiron   \n",
       "6    284.0  157641.0          Greenwich Ave & 8 Ave            Chelsea   \n",
       "7    151.0  156434.0       Cleveland Pl & Spring St       Little Italy   \n",
       "8    477.0  156029.0                W 41 St & 8 Ave            Clinton   \n",
       "9    459.0  154681.0               W 20 St & 11 Ave            Chelsea   \n",
       "10   490.0  153652.0                8 Ave & W 33 St      Midtown South   \n",
       "11   368.0  151681.0             Carmine St & 6 Ave  Greenwich Village   \n",
       "12   293.0  148603.0          Lafayette St & E 8 St               Noho   \n",
       "13   514.0  142691.0               12 Ave & W 40 St            Clinton   \n",
       "14   444.0  139091.0             Broadway & W 24 St           Flatiron   \n",
       "15   358.0  134681.0  Christopher St & Greenwich St       West Village   \n",
       "16  2006.0  134368.0         Central Park S & 6 Ave     Lincoln Square   \n",
       "17   327.0  134313.0       Vesey Pl & River Terrace  Battery Park City   \n",
       "18   379.0  131765.0                W 31 St & 7 Ave      Midtown South   \n",
       "19   382.0  131418.0        University Pl & E 14 St           Flatiron   \n",
       "\n",
       "      borough  \n",
       "0   Manhattan  \n",
       "1   Manhattan  \n",
       "2   Manhattan  \n",
       "3   Manhattan  \n",
       "4   Manhattan  \n",
       "5   Manhattan  \n",
       "6   Manhattan  \n",
       "7   Manhattan  \n",
       "8   Manhattan  \n",
       "9   Manhattan  \n",
       "10  Manhattan  \n",
       "11  Manhattan  \n",
       "12  Manhattan  \n",
       "13  Manhattan  \n",
       "14  Manhattan  \n",
       "15  Manhattan  \n",
       "16  Manhattan  \n",
       "17  Manhattan  \n",
       "18  Manhattan  \n",
       "19  Manhattan  "
      ]
     },
     "execution_count": 35,
     "metadata": {},
     "output_type": "execute_result"
    }
   ],
   "source": [
    "# find the most active stations by bikes_in\n",
    "query = \"\"\"\n",
    "    SELECT a.id, bikes_in, c.name, neighborhood, borough\n",
    "    FROM   (SELECT id, sum(bikes_in) as bikes_in\n",
    "            FROM features\n",
    "            GROUP BY id) a\n",
    "    JOIN neighborhoods b ON a.id = b.id\n",
    "    JOIN stations c ON b.id = c.id\n",
    "    ORDER BY bikes_in DESC;\n",
    "\"\"\"\n",
    "\n",
    "df = pd.read_sql_query(query, con)\n",
    "df.head(20)"
   ]
  },
  {
   "cell_type": "code",
   "execution_count": null,
   "metadata": {},
   "outputs": [],
   "source": [
    "query = \"\"\"\n",
    "    SELECT date, sum(bikes_in) as bikes_in, sum(bikes_out) as bikes_out FROM features\n",
    "    GROUP BY date;\n",
    "\"\"\"\n",
    "\n",
    "df1 = pd.read_sql_query(query, con)\n",
    "#df1.plot(kind = 'bar', stacked = True, width = 1)\n",
    "df1.index = pd.to_datetime(df1.date)\n",
    "df1.plot(figsize = (10,10))"
   ]
  },
  {
   "cell_type": "code",
   "execution_count": null,
   "metadata": {},
   "outputs": [],
   "source": [
    "df1['net'] = df1.bikes_in - df1.bikes_out\n",
    "df1['net'].plot()"
   ]
  },
  {
   "cell_type": "code",
   "execution_count": null,
   "metadata": {},
   "outputs": [],
   "source": [
    "query = \"\"\"\n",
    "    SELECT sum(rbikes_in) as bikes_in, sum(rbikes_out) as bikes_out FROM features\n",
    "    WHERE is_weekday = 'True'\n",
    "    GROUP BY hour;\n",
    "\"\"\"\n",
    "\n",
    "df1 = pd.read_sql_query(query, con)\n",
    "df1.plot(kind = 'bar', stacked = True, width = 1)"
   ]
  },
  {
   "cell_type": "code",
   "execution_count": null,
   "metadata": {},
   "outputs": [],
   "source": [
    "query = \"\"\"\n",
    "    SELECT sum(rbikes_in) as bikes_in, sum(rbikes_out) as bikes_out FROM features\n",
    "    WHERE is_weekday = 'True'\n",
    "    GROUP BY hour;\n",
    "\"\"\"\n",
    "\n",
    "df1 = pd.read_sql_query(query, con)\n",
    "df1.plot(kind = 'bar', stacked = True, width = 1)"
   ]
  },
  {
   "cell_type": "code",
   "execution_count": null,
   "metadata": {},
   "outputs": [],
   "source": [
    "in_out.index = in_out.index.to_datetime()\n",
    "in_out.index"
   ]
  },
  {
   "cell_type": "code",
   "execution_count": null,
   "metadata": {},
   "outputs": [],
   "source": []
  },
  {
   "cell_type": "code",
   "execution_count": null,
   "metadata": {},
   "outputs": [],
   "source": [
    "in_out = df.groupby(['date'])[['bikes_out', 'bikes_in']].sum()\n",
    "in_out.index = in_out.index.to_datetime()\n",
    "in_out2015 = in_out[in_out.index.date < datetime.date(2016,3,1)]\n",
    "in_out2016 = in_out[~in_out.isin(in_out2015)]\n",
    "in_out2015.head()"
   ]
  },
  {
   "cell_type": "code",
   "execution_count": null,
   "metadata": {
    "collapsed": true
   },
   "outputs": [],
   "source": [
    "in_out2016 = in_out2016.dropna()"
   ]
  },
  {
   "cell_type": "code",
   "execution_count": null,
   "metadata": {
    "collapsed": true
   },
   "outputs": [],
   "source": [
    "from pandas.core import datetools\n",
    "from statsmodels.tsa.arima_model import ARIMA"
   ]
  },
  {
   "cell_type": "code",
   "execution_count": null,
   "metadata": {},
   "outputs": [],
   "source": [
    "model = ARIMA(in_out2015, order=(5,1,0))\n",
    "model_fit = model.fit(disp=0)\n",
    "model_fit.summary()"
   ]
  },
  {
   "cell_type": "code",
   "execution_count": null,
   "metadata": {},
   "outputs": [],
   "source": [
    "in_out2015.reset_index().head().set_index('index')"
   ]
  },
  {
   "cell_type": "code",
   "execution_count": null,
   "metadata": {},
   "outputs": [],
   "source": [
    "all_2015_query = \"\"\"\n",
    "    SELECT * from features\n",
    "    WHERE date < '2016-03-01';\n",
    "\"\"\"\n",
    "all_2015 = pd.read_sql_query(all_2015_query, con)\n",
    "all_2015.tail()"
   ]
  },
  {
   "cell_type": "code",
   "execution_count": null,
   "metadata": {},
   "outputs": [],
   "source": [
    "all_2015.shape"
   ]
  },
  {
   "cell_type": "code",
   "execution_count": null,
   "metadata": {
    "collapsed": true
   },
   "outputs": [],
   "source": [
    "grouped = all_2015.groupby(['date']).sum()[['bikes_in', 'bikes_out', 'rbikes_in', 'rbikes_out']]"
   ]
  },
  {
   "cell_type": "code",
   "execution_count": null,
   "metadata": {
    "collapsed": true
   },
   "outputs": [],
   "source": [
    "grouped['pct_rebal'] = 100 * grouped.rbikes_in / grouped.bikes_in"
   ]
  },
  {
   "cell_type": "code",
   "execution_count": null,
   "metadata": {
    "collapsed": true
   },
   "outputs": [],
   "source": [
    "grouped.pct_rebal.plot(rot = 30)"
   ]
  },
  {
   "cell_type": "code",
   "execution_count": null,
   "metadata": {
    "collapsed": true
   },
   "outputs": [],
   "source": []
  },
  {
   "cell_type": "code",
   "execution_count": null,
   "metadata": {
    "collapsed": true
   },
   "outputs": [],
   "source": []
  },
  {
   "cell_type": "code",
   "execution_count": null,
   "metadata": {
    "collapsed": true
   },
   "outputs": [],
   "source": []
  },
  {
   "cell_type": "code",
   "execution_count": null,
   "metadata": {
    "collapsed": true
   },
   "outputs": [],
   "source": []
  },
  {
   "cell_type": "code",
   "execution_count": null,
   "metadata": {
    "collapsed": true
   },
   "outputs": [],
   "source": []
  },
  {
   "cell_type": "code",
   "execution_count": null,
   "metadata": {
    "collapsed": true
   },
   "outputs": [],
   "source": []
  },
  {
   "cell_type": "code",
   "execution_count": null,
   "metadata": {
    "collapsed": true
   },
   "outputs": [],
   "source": []
  },
  {
   "cell_type": "code",
   "execution_count": null,
   "metadata": {
    "collapsed": true
   },
   "outputs": [],
   "source": []
  },
  {
   "cell_type": "code",
   "execution_count": null,
   "metadata": {},
   "outputs": [],
   "source": [
    "query = \"\"\"\n",
    "    SELECT date, sum(bikes_out) as bikes_out, sum(bikes_in) as bikes_in, \n",
    "        sum(rbikes_in) as rbikes_in, sum(rbikes_out) as rbikes_out,\n",
    "        avg(avail_bikes) as avail_bikes, avg(avail_docks) as avail_docks,\n",
    "        max(tot_docks) as tot_docks\n",
    "        from features\n",
    "    -- WHERE date < '2016-03-01'\n",
    "    GROUP BY date\n",
    "    ORDER BY date;\n",
    "\"\"\"\n",
    "df = pd.read_sql_query(query, con)\n",
    "df.head()"
   ]
  },
  {
   "cell_type": "code",
   "execution_count": null,
   "metadata": {},
   "outputs": [],
   "source": [
    "df['net'] = df.bikes_in - df.bikes_out\n",
    "df.index = pd.to_datetime(df.date)\n",
    "df['pct_rebal'] = 100 * df.rbikes_out / df.bikes_out\n",
    "df.pct_rebal.plot(figsize = (10,5))"
   ]
  },
  {
   "cell_type": "code",
   "execution_count": null,
   "metadata": {},
   "outputs": [],
   "source": [
    "df['pct'] = 100 * df.rbikes_out / df.bikes_out\n",
    "df['date'] = pd.to_datetime(df.date)\n",
    "\n",
    "df = df.set_index('date')"
   ]
  },
  {
   "cell_type": "code",
   "execution_count": null,
   "metadata": {},
   "outputs": [],
   "source": [
    "df1['bikes_in'].head()"
   ]
  },
  {
   "cell_type": "code",
   "execution_count": null,
   "metadata": {
    "collapsed": true
   },
   "outputs": [],
   "source": []
  }
 ],
 "metadata": {
  "kernelspec": {
   "display_name": "Python 2",
   "language": "python",
   "name": "python2"
  },
  "language_info": {
   "codemirror_mode": {
    "name": "ipython",
    "version": 2
   },
   "file_extension": ".py",
   "mimetype": "text/x-python",
   "name": "python",
   "nbconvert_exporter": "python",
   "pygments_lexer": "ipython2",
   "version": "2.7.13"
  }
 },
 "nbformat": 4,
 "nbformat_minor": 2
}
