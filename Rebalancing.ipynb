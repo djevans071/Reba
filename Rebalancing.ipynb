{
 "cells": [
  {
   "cell_type": "code",
   "execution_count": 1,
   "metadata": {},
   "outputs": [
    {
     "name": "stdout",
     "output_type": "stream",
     "text": [
      "Populating the interactive namespace from numpy and matplotlib\n"
     ]
    }
   ],
   "source": [
    "%pylab inline\n",
    "import requests, zipfile\n",
    "import StringIO\n",
    "import datetime\n",
    "import pandas as pd\n",
    "import numpy as np\n",
    "from workflow.data import *\n",
    "import pdb\n",
    "import seaborn as sns\n",
    "from matplotlib import pyplot"
   ]
  },
  {
   "cell_type": "code",
   "execution_count": 8,
   "metadata": {},
   "outputs": [
    {
     "data": {
      "text/html": [
       "<div>\n",
       "<style>\n",
       "    .dataframe thead tr:only-child th {\n",
       "        text-align: right;\n",
       "    }\n",
       "\n",
       "    .dataframe thead th {\n",
       "        text-align: left;\n",
       "    }\n",
       "\n",
       "    .dataframe tbody tr th {\n",
       "        vertical-align: top;\n",
       "    }\n",
       "</style>\n",
       "<table border=\"1\" class=\"dataframe\">\n",
       "  <thead>\n",
       "    <tr style=\"text-align: right;\">\n",
       "      <th></th>\n",
       "      <th>duration</th>\n",
       "      <th>start_time</th>\n",
       "      <th>stop_time</th>\n",
       "      <th>start_id</th>\n",
       "      <th>start_name</th>\n",
       "      <th>start_lat</th>\n",
       "      <th>start_long</th>\n",
       "      <th>stop_id</th>\n",
       "      <th>stop_name</th>\n",
       "      <th>stop_lat</th>\n",
       "      <th>stop_long</th>\n",
       "      <th>bike_id</th>\n",
       "      <th>user_type</th>\n",
       "      <th>birth_year</th>\n",
       "      <th>gender</th>\n",
       "    </tr>\n",
       "  </thead>\n",
       "  <tbody>\n",
       "    <tr>\n",
       "      <th>0</th>\n",
       "      <td>669</td>\n",
       "      <td>2015-03-01 00:00:00</td>\n",
       "      <td>2015-03-01 00:11:00</td>\n",
       "      <td>164</td>\n",
       "      <td>E 47 St &amp; 2 Ave</td>\n",
       "      <td>40.753231</td>\n",
       "      <td>-73.970325</td>\n",
       "      <td>477</td>\n",
       "      <td>W 41 St &amp; 8 Ave</td>\n",
       "      <td>40.756405</td>\n",
       "      <td>-73.990026</td>\n",
       "      <td>21409</td>\n",
       "      <td>Subscriber</td>\n",
       "      <td>1987.0</td>\n",
       "      <td>1</td>\n",
       "    </tr>\n",
       "    <tr>\n",
       "      <th>1</th>\n",
       "      <td>750</td>\n",
       "      <td>2015-03-01 00:01:00</td>\n",
       "      <td>2015-03-01 00:14:00</td>\n",
       "      <td>258</td>\n",
       "      <td>DeKalb Ave &amp; Vanderbilt Ave</td>\n",
       "      <td>40.689407</td>\n",
       "      <td>-73.968855</td>\n",
       "      <td>436</td>\n",
       "      <td>Hancock St &amp; Bedford Ave</td>\n",
       "      <td>40.682166</td>\n",
       "      <td>-73.953990</td>\n",
       "      <td>19397</td>\n",
       "      <td>Subscriber</td>\n",
       "      <td>1968.0</td>\n",
       "      <td>1</td>\n",
       "    </tr>\n",
       "    <tr>\n",
       "      <th>2</th>\n",
       "      <td>663</td>\n",
       "      <td>2015-03-01 00:01:00</td>\n",
       "      <td>2015-03-01 00:12:00</td>\n",
       "      <td>497</td>\n",
       "      <td>E 17 St &amp; Broadway</td>\n",
       "      <td>40.737050</td>\n",
       "      <td>-73.990093</td>\n",
       "      <td>477</td>\n",
       "      <td>W 41 St &amp; 8 Ave</td>\n",
       "      <td>40.756405</td>\n",
       "      <td>-73.990026</td>\n",
       "      <td>20998</td>\n",
       "      <td>Customer</td>\n",
       "      <td>NaN</td>\n",
       "      <td>0</td>\n",
       "    </tr>\n",
       "    <tr>\n",
       "      <th>3</th>\n",
       "      <td>480</td>\n",
       "      <td>2015-03-01 00:02:00</td>\n",
       "      <td>2015-03-01 00:10:00</td>\n",
       "      <td>470</td>\n",
       "      <td>W 20 St &amp; 8 Ave</td>\n",
       "      <td>40.743453</td>\n",
       "      <td>-74.000040</td>\n",
       "      <td>491</td>\n",
       "      <td>E 24 St &amp; Park Ave S</td>\n",
       "      <td>40.740964</td>\n",
       "      <td>-73.986022</td>\n",
       "      <td>21565</td>\n",
       "      <td>Subscriber</td>\n",
       "      <td>1983.0</td>\n",
       "      <td>1</td>\n",
       "    </tr>\n",
       "    <tr>\n",
       "      <th>4</th>\n",
       "      <td>1258</td>\n",
       "      <td>2015-03-01 00:02:00</td>\n",
       "      <td>2015-03-01 00:23:00</td>\n",
       "      <td>345</td>\n",
       "      <td>W 13 St &amp; 6 Ave</td>\n",
       "      <td>40.736494</td>\n",
       "      <td>-73.997044</td>\n",
       "      <td>473</td>\n",
       "      <td>Rivington St &amp; Chrystie St</td>\n",
       "      <td>40.721101</td>\n",
       "      <td>-73.991925</td>\n",
       "      <td>14693</td>\n",
       "      <td>Subscriber</td>\n",
       "      <td>1970.0</td>\n",
       "      <td>1</td>\n",
       "    </tr>\n",
       "  </tbody>\n",
       "</table>\n",
       "</div>"
      ],
      "text/plain": [
       "   duration          start_time           stop_time  start_id  \\\n",
       "0       669 2015-03-01 00:00:00 2015-03-01 00:11:00       164   \n",
       "1       750 2015-03-01 00:01:00 2015-03-01 00:14:00       258   \n",
       "2       663 2015-03-01 00:01:00 2015-03-01 00:12:00       497   \n",
       "3       480 2015-03-01 00:02:00 2015-03-01 00:10:00       470   \n",
       "4      1258 2015-03-01 00:02:00 2015-03-01 00:23:00       345   \n",
       "\n",
       "                    start_name  start_lat  start_long  stop_id  \\\n",
       "0              E 47 St & 2 Ave  40.753231  -73.970325      477   \n",
       "1  DeKalb Ave & Vanderbilt Ave  40.689407  -73.968855      436   \n",
       "2           E 17 St & Broadway  40.737050  -73.990093      477   \n",
       "3              W 20 St & 8 Ave  40.743453  -74.000040      491   \n",
       "4              W 13 St & 6 Ave  40.736494  -73.997044      473   \n",
       "\n",
       "                    stop_name   stop_lat  stop_long  bike_id   user_type  \\\n",
       "0             W 41 St & 8 Ave  40.756405 -73.990026    21409  Subscriber   \n",
       "1    Hancock St & Bedford Ave  40.682166 -73.953990    19397  Subscriber   \n",
       "2             W 41 St & 8 Ave  40.756405 -73.990026    20998    Customer   \n",
       "3        E 24 St & Park Ave S  40.740964 -73.986022    21565  Subscriber   \n",
       "4  Rivington St & Chrystie St  40.721101 -73.991925    14693  Subscriber   \n",
       "\n",
       "   birth_year  gender  \n",
       "0      1987.0       1  \n",
       "1      1968.0       1  \n",
       "2         NaN       0  \n",
       "3      1983.0       1  \n",
       "4      1970.0       1  "
      ]
     },
     "execution_count": 8,
     "metadata": {},
     "output_type": "execute_result"
    }
   ],
   "source": [
    "# find csv file for tripdata\n",
    "year = 2015\n",
    "month = 3\n",
    "#csvPath = '{}{:02}-citibike-tripdata.csv'.format(year, month)\n",
    "#df = pd.read_csv(basepath + csvPath, parse_dates = ['Start Time', 'Stop Time'])\n",
    "df = trip_data(year, month)\n",
    "#df['trip_id'] = df.index.values\n",
    "df.head()"
   ]
  },
  {
   "cell_type": "code",
   "execution_count": 20,
   "metadata": {},
   "outputs": [
    {
     "data": {
      "text/html": [
       "<div>\n",
       "<style>\n",
       "    .dataframe thead tr:only-child th {\n",
       "        text-align: right;\n",
       "    }\n",
       "\n",
       "    .dataframe thead th {\n",
       "        text-align: left;\n",
       "    }\n",
       "\n",
       "    .dataframe tbody tr th {\n",
       "        vertical-align: top;\n",
       "    }\n",
       "</style>\n",
       "<table border=\"1\" class=\"dataframe\">\n",
       "  <thead>\n",
       "    <tr style=\"text-align: right;\">\n",
       "      <th></th>\n",
       "      <th>duration</th>\n",
       "      <th>start_time</th>\n",
       "      <th>stop_time</th>\n",
       "      <th>start_id</th>\n",
       "      <th>start_name</th>\n",
       "      <th>start_lat</th>\n",
       "      <th>start_long</th>\n",
       "      <th>stop_id</th>\n",
       "      <th>stop_name</th>\n",
       "      <th>stop_lat</th>\n",
       "      <th>stop_long</th>\n",
       "      <th>bike_id</th>\n",
       "      <th>user_type</th>\n",
       "      <th>birth_year</th>\n",
       "      <th>gender</th>\n",
       "      <th>trip_id</th>\n",
       "    </tr>\n",
       "  </thead>\n",
       "  <tbody>\n",
       "    <tr>\n",
       "      <th>0</th>\n",
       "      <td>345</td>\n",
       "      <td>2015-03-17 15:42:00</td>\n",
       "      <td>2015-03-16 22:35:00</td>\n",
       "      <td>402</td>\n",
       "      <td>Broadway &amp; E 22 St</td>\n",
       "      <td>40.740343</td>\n",
       "      <td>-73.989551</td>\n",
       "      <td>487.0</td>\n",
       "      <td>E 20 St &amp; FDR Drive</td>\n",
       "      <td>40.733143</td>\n",
       "      <td>-73.975739</td>\n",
       "      <td>14529</td>\n",
       "      <td>Subscriber</td>\n",
       "      <td>1979.0</td>\n",
       "      <td>1</td>\n",
       "      <td>161757</td>\n",
       "    </tr>\n",
       "    <tr>\n",
       "      <th>1</th>\n",
       "      <td>820</td>\n",
       "      <td>2015-03-19 21:31:00</td>\n",
       "      <td>2015-03-19 20:12:00</td>\n",
       "      <td>523</td>\n",
       "      <td>W 38 St &amp; 8 Ave</td>\n",
       "      <td>40.754666</td>\n",
       "      <td>-73.991382</td>\n",
       "      <td>480.0</td>\n",
       "      <td>W 53 St &amp; 10 Ave</td>\n",
       "      <td>40.766697</td>\n",
       "      <td>-73.990617</td>\n",
       "      <td>14529</td>\n",
       "      <td>Subscriber</td>\n",
       "      <td>1982.0</td>\n",
       "      <td>1</td>\n",
       "      <td>197300</td>\n",
       "    </tr>\n",
       "    <tr>\n",
       "      <th>2</th>\n",
       "      <td>520</td>\n",
       "      <td>2015-03-30 20:05:00</td>\n",
       "      <td>2015-03-30 18:20:00</td>\n",
       "      <td>491</td>\n",
       "      <td>E 24 St &amp; Park Ave S</td>\n",
       "      <td>40.740964</td>\n",
       "      <td>-73.986022</td>\n",
       "      <td>229.0</td>\n",
       "      <td>Great Jones St</td>\n",
       "      <td>40.727434</td>\n",
       "      <td>-73.993790</td>\n",
       "      <td>14529</td>\n",
       "      <td>Subscriber</td>\n",
       "      <td>1957.0</td>\n",
       "      <td>1</td>\n",
       "      <td>325665</td>\n",
       "    </tr>\n",
       "    <tr>\n",
       "      <th>3</th>\n",
       "      <td>624</td>\n",
       "      <td>2015-03-31 07:57:00</td>\n",
       "      <td>2015-03-30 21:05:00</td>\n",
       "      <td>501</td>\n",
       "      <td>FDR Drive &amp; E 35 St</td>\n",
       "      <td>40.744219</td>\n",
       "      <td>-73.971212</td>\n",
       "      <td>487.0</td>\n",
       "      <td>E 20 St &amp; FDR Drive</td>\n",
       "      <td>40.733143</td>\n",
       "      <td>-73.975739</td>\n",
       "      <td>14529</td>\n",
       "      <td>Subscriber</td>\n",
       "      <td>1960.0</td>\n",
       "      <td>1</td>\n",
       "      <td>329600</td>\n",
       "    </tr>\n",
       "    <tr>\n",
       "      <th>4</th>\n",
       "      <td>1464</td>\n",
       "      <td>2015-03-07 18:02:00</td>\n",
       "      <td>2015-03-07 02:12:00</td>\n",
       "      <td>410</td>\n",
       "      <td>Suffolk St &amp; Stanton St</td>\n",
       "      <td>40.720664</td>\n",
       "      <td>-73.985180</td>\n",
       "      <td>438.0</td>\n",
       "      <td>St Marks Pl &amp; 1 Ave</td>\n",
       "      <td>40.727791</td>\n",
       "      <td>-73.985649</td>\n",
       "      <td>14530</td>\n",
       "      <td>Subscriber</td>\n",
       "      <td>1966.0</td>\n",
       "      <td>1</td>\n",
       "      <td>35360</td>\n",
       "    </tr>\n",
       "  </tbody>\n",
       "</table>\n",
       "</div>"
      ],
      "text/plain": [
       "   duration          start_time           stop_time  start_id  \\\n",
       "0       345 2015-03-17 15:42:00 2015-03-16 22:35:00       402   \n",
       "1       820 2015-03-19 21:31:00 2015-03-19 20:12:00       523   \n",
       "2       520 2015-03-30 20:05:00 2015-03-30 18:20:00       491   \n",
       "3       624 2015-03-31 07:57:00 2015-03-30 21:05:00       501   \n",
       "4      1464 2015-03-07 18:02:00 2015-03-07 02:12:00       410   \n",
       "\n",
       "                start_name  start_lat  start_long  stop_id  \\\n",
       "0       Broadway & E 22 St  40.740343  -73.989551    487.0   \n",
       "1          W 38 St & 8 Ave  40.754666  -73.991382    480.0   \n",
       "2     E 24 St & Park Ave S  40.740964  -73.986022    229.0   \n",
       "3      FDR Drive & E 35 St  40.744219  -73.971212    487.0   \n",
       "4  Suffolk St & Stanton St  40.720664  -73.985180    438.0   \n",
       "\n",
       "             stop_name   stop_lat  stop_long  bike_id   user_type  birth_year  \\\n",
       "0  E 20 St & FDR Drive  40.733143 -73.975739    14529  Subscriber      1979.0   \n",
       "1     W 53 St & 10 Ave  40.766697 -73.990617    14529  Subscriber      1982.0   \n",
       "2       Great Jones St  40.727434 -73.993790    14529  Subscriber      1957.0   \n",
       "3  E 20 St & FDR Drive  40.733143 -73.975739    14529  Subscriber      1960.0   \n",
       "4  St Marks Pl & 1 Ave  40.727791 -73.985649    14530  Subscriber      1966.0   \n",
       "\n",
       "   gender  trip_id  \n",
       "0       1   161757  \n",
       "1       1   197300  \n",
       "2       1   325665  \n",
       "3       1   329600  \n",
       "4       1    35360  "
      ]
     },
     "execution_count": 20,
     "metadata": {},
     "output_type": "execute_result"
    }
   ],
   "source": [
    "rebals = rebal_data(year,month)\n",
    "rebals.head()"
   ]
  },
  {
   "cell_type": "markdown",
   "metadata": {},
   "source": [
    "## Interesting stats"
   ]
  },
  {
   "cell_type": "code",
   "execution_count": null,
   "metadata": {
    "collapsed": true
   },
   "outputs": [],
   "source": [
    "print \"Total trips for {}-{:02}: {}\".format(year, month, df.shape[0])"
   ]
  },
  {
   "cell_type": "code",
   "execution_count": null,
   "metadata": {
    "collapsed": true
   },
   "outputs": [],
   "source": [
    "sub_trips = df[df.user_type == 'Subscriber'].shape[0] / float(df.shape[0])\n",
    "print \"% subscribers: {:.3f}\".format(100*sub_trips)"
   ]
  },
  {
   "cell_type": "code",
   "execution_count": null,
   "metadata": {
    "collapsed": true
   },
   "outputs": [],
   "source": [
    "male_trips = df[df.gender == 1].shape[0] / float(df.shape[0])\n",
    "female_trips = df[df.gender == 2].shape[0] / float(df.shape[0])# add a column called trip_id within\n",
    "print \"% Male trips: {:.3f}\".format(100*male_trips)\n",
    "print \"% Female trips: {:.3f}\".format(100*female_trips)\n",
    "print \"% other trips: {:.3f}\".format(100*(1 - male_trips - female_trips))"
   ]
  },
  {
   "cell_type": "code",
   "execution_count": null,
   "metadata": {
    "collapsed": true
   },
   "outputs": [],
   "source": [
    "top_starts.head()"
   ]
  },
  {
   "cell_type": "code",
   "execution_count": null,
   "metadata": {
    "collapsed": true
   },
   "outputs": [],
   "source": [
    "# top 10 starting locations\n",
    "top_starts = df.groupby(['start_name', 'start_lat', 'start_long', 'start_id']).count().duration.sort_values(ascending = False)\n",
    "top_starts = top_starts.reset_index()\n",
    "top_starts['number_trips'] = top_starts.duration\n",
    "top_starts\n",
    "\n",
    "top_starts.sort_values('number_trips').tail(10).plot(kind = 'barh', \n",
    "                         x = 'start_name', y = 'number_trips',figsize=(7,7))\n",
    "plt.tick_params(labelsize=18)"
   ]
  },
  {
   "cell_type": "code",
   "execution_count": null,
   "metadata": {
    "collapsed": true
   },
   "outputs": [],
   "source": [
    "# top 10 stopping locations\n",
    "top_stops = df.groupby(['stop_name', 'stop_lat', 'stop_long', 'stop_id']).count().duration.sort_values(ascending = False)\n",
    "top_stops = top_stops.reset_index()\n",
    "top_stops['number_trips'] = top_stops.duration\n",
    "top_stops\n",
    "\n",
    "top_stops.sort_values('number_trips').tail(10).plot(kind = 'barh', \n",
    "                         x = 'stop_name', y = 'number_trips', figsize=(7,7))\n",
    "plt.tick_params(labelsize=18)"
   ]
  },
  {
   "cell_type": "code",
   "execution_count": null,
   "metadata": {
    "collapsed": true
   },
   "outputs": [],
   "source": [
    "stations1[]"
   ]
  },
  {
   "cell_type": "code",
   "execution_count": null,
   "metadata": {
    "collapsed": true
   },
   "outputs": [],
   "source": [
    "def plot_top_stations(df, x_values, y_values):\n",
    "    pl = df.plot(kind = 'scatter', x = x_values, y = y_values, \n",
    "                alpha = 0.5, figsize = (5,8))\n",
    "    df.head(10).reset_index().plot(kind = 'scatter', x = x_values,\n",
    "                 color = 'r', y = y_values, ax = pl)\n",
    "\n",
    "plot_top_stations(top_starts, 'start_long', 'start_lat')\n",
    "plot_top_stations(top_stops, 'stop_long', 'stop_lat')"
   ]
  },
  {
   "cell_type": "markdown",
   "metadata": {},
   "source": [
    "## Rebalancing"
   ]
  },
  {
   "cell_type": "code",
   "execution_count": null,
   "metadata": {
    "collapsed": true
   },
   "outputs": [],
   "source": [
    "oneday = df[(df.start_time.dt.day == 1) & (df.start_time.dt.month == 3)]"
   ]
  },
  {
   "cell_type": "code",
   "execution_count": null,
   "metadata": {
    "collapsed": true
   },
   "outputs": [],
   "source": [
    "bike_list = df.bike_id.unique()\n",
    "\n",
    "# collect rebal events for the first 100 bikes\n",
    "df = df.sort_values(['bike_id', 'start_time'])\n",
    "#cols = ['start_id','stop_id', 'start_time', 'stop_time', 'bike_id']\n",
    "df1 = df[df.bike_id.isin(bike_list[:100])]\n",
    "\n",
    "# track rebalancing events \n",
    "#(REMEMBER THAT REBAL EVENTS USE STOP_TIME AS THE STARTING TIME)\n",
    "\n",
    "shift_cols = ['stop_id','stop_time', 'stop_long', 'stop_lat', 'stop_name']\n",
    "\n",
    "def shift_cond(bike_df):\n",
    "    bike_df[shift_cols] = bike_df[shift_cols].shift(1)\n",
    "    return bike_df[bike_df.start_id != bike_df.stop_id]"
   ]
  },
  {
   "cell_type": "code",
   "execution_count": null,
   "metadata": {
    "collapsed": true
   },
   "outputs": [],
   "source": [
    "rebal_df.head()"
   ]
  },
  {
   "cell_type": "code",
   "execution_count": null,
   "metadata": {
    "collapsed": true
   },
   "outputs": [],
   "source": [
    "rebal_times = ((rebal_df.start_time - rebal_df.stop_time) / 2) + rebal_df.stop_time\n",
    "rebal_spreads = (rebal_df.start_time - rebal_df.stop_time) / 2"
   ]
  },
  {
   "cell_type": "code",
   "execution_count": null,
   "metadata": {
    "collapsed": true
   },
   "outputs": [],
   "source": []
  },
  {
   "cell_type": "code",
   "execution_count": null,
   "metadata": {
    "collapsed": true
   },
   "outputs": [],
   "source": []
  },
  {
   "cell_type": "code",
   "execution_count": null,
   "metadata": {
    "collapsed": true
   },
   "outputs": [],
   "source": []
  },
  {
   "cell_type": "code",
   "execution_count": null,
   "metadata": {
    "collapsed": true
   },
   "outputs": [],
   "source": []
  },
  {
   "cell_type": "markdown",
   "metadata": {
    "collapsed": true
   },
   "source": [
    "## Calculate fluxes"
   ]
  },
  {
   "cell_type": "code",
   "execution_count": null,
   "metadata": {
    "collapsed": true
   },
   "outputs": [],
   "source": [
    "#oneday = df[(df.start_time.dt.day == 1) & (df.start_time.dt.month) == 1]"
   ]
  },
  {
   "cell_type": "code",
   "execution_count": 11,
   "metadata": {},
   "outputs": [
    {
     "data": {
      "text/html": [
       "<div>\n",
       "<style>\n",
       "    .dataframe thead tr:only-child th {\n",
       "        text-align: right;\n",
       "    }\n",
       "\n",
       "    .dataframe thead th {\n",
       "        text-align: left;\n",
       "    }\n",
       "\n",
       "    .dataframe tbody tr th {\n",
       "        vertical-align: top;\n",
       "    }\n",
       "</style>\n",
       "<table border=\"1\" class=\"dataframe\">\n",
       "  <thead>\n",
       "    <tr style=\"text-align: right;\">\n",
       "      <th></th>\n",
       "      <th>duration</th>\n",
       "      <th>start_time</th>\n",
       "      <th>stop_time</th>\n",
       "      <th>start_id</th>\n",
       "      <th>start_name</th>\n",
       "      <th>start_lat</th>\n",
       "      <th>start_long</th>\n",
       "      <th>stop_id</th>\n",
       "      <th>stop_name</th>\n",
       "      <th>stop_lat</th>\n",
       "      <th>stop_long</th>\n",
       "      <th>bike_id</th>\n",
       "      <th>user_type</th>\n",
       "      <th>birth_year</th>\n",
       "      <th>gender</th>\n",
       "      <th>start_hour</th>\n",
       "      <th>stop_hour</th>\n",
       "      <th>start_date</th>\n",
       "      <th>stop_date</th>\n",
       "    </tr>\n",
       "  </thead>\n",
       "  <tbody>\n",
       "    <tr>\n",
       "      <th>341821</th>\n",
       "      <td>536</td>\n",
       "      <td>2015-03-31 23:58:00</td>\n",
       "      <td>2015-04-01 00:07:00</td>\n",
       "      <td>324</td>\n",
       "      <td>DeKalb Ave &amp; Hudson Ave</td>\n",
       "      <td>40.689888</td>\n",
       "      <td>-73.981013</td>\n",
       "      <td>421</td>\n",
       "      <td>Clermont Ave &amp; Park Ave</td>\n",
       "      <td>40.695734</td>\n",
       "      <td>-73.971297</td>\n",
       "      <td>19615</td>\n",
       "      <td>Subscriber</td>\n",
       "      <td>1985.0</td>\n",
       "      <td>1</td>\n",
       "      <td>23</td>\n",
       "      <td>0</td>\n",
       "      <td>2015-03-31</td>\n",
       "      <td>2015-04-01</td>\n",
       "    </tr>\n",
       "    <tr>\n",
       "      <th>341822</th>\n",
       "      <td>1030</td>\n",
       "      <td>2015-03-31 23:59:00</td>\n",
       "      <td>2015-04-01 00:16:00</td>\n",
       "      <td>495</td>\n",
       "      <td>W 47 St &amp; 10 Ave</td>\n",
       "      <td>40.762699</td>\n",
       "      <td>-73.993012</td>\n",
       "      <td>404</td>\n",
       "      <td>9 Ave &amp; W 14 St</td>\n",
       "      <td>40.740583</td>\n",
       "      <td>-74.005509</td>\n",
       "      <td>15086</td>\n",
       "      <td>Subscriber</td>\n",
       "      <td>1978.0</td>\n",
       "      <td>1</td>\n",
       "      <td>23</td>\n",
       "      <td>0</td>\n",
       "      <td>2015-03-31</td>\n",
       "      <td>2015-04-01</td>\n",
       "    </tr>\n",
       "    <tr>\n",
       "      <th>341823</th>\n",
       "      <td>171</td>\n",
       "      <td>2015-03-31 23:59:00</td>\n",
       "      <td>2015-04-01 00:02:00</td>\n",
       "      <td>450</td>\n",
       "      <td>W 49 St &amp; 8 Ave</td>\n",
       "      <td>40.762272</td>\n",
       "      <td>-73.987882</td>\n",
       "      <td>479</td>\n",
       "      <td>9 Ave &amp; W 45 St</td>\n",
       "      <td>40.760193</td>\n",
       "      <td>-73.991255</td>\n",
       "      <td>18943</td>\n",
       "      <td>Subscriber</td>\n",
       "      <td>1986.0</td>\n",
       "      <td>1</td>\n",
       "      <td>23</td>\n",
       "      <td>0</td>\n",
       "      <td>2015-03-31</td>\n",
       "      <td>2015-04-01</td>\n",
       "    </tr>\n",
       "    <tr>\n",
       "      <th>341824</th>\n",
       "      <td>616</td>\n",
       "      <td>2015-03-31 23:59:00</td>\n",
       "      <td>2015-04-01 00:09:00</td>\n",
       "      <td>455</td>\n",
       "      <td>1 Ave &amp; E 44 St</td>\n",
       "      <td>40.750020</td>\n",
       "      <td>-73.969053</td>\n",
       "      <td>477</td>\n",
       "      <td>W 41 St &amp; 8 Ave</td>\n",
       "      <td>40.756405</td>\n",
       "      <td>-73.990026</td>\n",
       "      <td>21364</td>\n",
       "      <td>Subscriber</td>\n",
       "      <td>1970.0</td>\n",
       "      <td>1</td>\n",
       "      <td>23</td>\n",
       "      <td>0</td>\n",
       "      <td>2015-03-31</td>\n",
       "      <td>2015-04-01</td>\n",
       "    </tr>\n",
       "    <tr>\n",
       "      <th>341825</th>\n",
       "      <td>227</td>\n",
       "      <td>2015-03-31 23:55:00</td>\n",
       "      <td>2015-03-31 23:59:00</td>\n",
       "      <td>477</td>\n",
       "      <td>W 41 St &amp; 8 Ave</td>\n",
       "      <td>40.756405</td>\n",
       "      <td>-73.990026</td>\n",
       "      <td>478</td>\n",
       "      <td>11 Ave &amp; W 41 St</td>\n",
       "      <td>40.760301</td>\n",
       "      <td>-73.998842</td>\n",
       "      <td>16020</td>\n",
       "      <td>Subscriber</td>\n",
       "      <td>1998.0</td>\n",
       "      <td>1</td>\n",
       "      <td>23</td>\n",
       "      <td>23</td>\n",
       "      <td>2015-03-31</td>\n",
       "      <td>2015-03-31</td>\n",
       "    </tr>\n",
       "  </tbody>\n",
       "</table>\n",
       "</div>"
      ],
      "text/plain": [
       "        duration          start_time           stop_time  start_id  \\\n",
       "341821       536 2015-03-31 23:58:00 2015-04-01 00:07:00       324   \n",
       "341822      1030 2015-03-31 23:59:00 2015-04-01 00:16:00       495   \n",
       "341823       171 2015-03-31 23:59:00 2015-04-01 00:02:00       450   \n",
       "341824       616 2015-03-31 23:59:00 2015-04-01 00:09:00       455   \n",
       "341825       227 2015-03-31 23:55:00 2015-03-31 23:59:00       477   \n",
       "\n",
       "                     start_name  start_lat  start_long  stop_id  \\\n",
       "341821  DeKalb Ave & Hudson Ave  40.689888  -73.981013      421   \n",
       "341822         W 47 St & 10 Ave  40.762699  -73.993012      404   \n",
       "341823          W 49 St & 8 Ave  40.762272  -73.987882      479   \n",
       "341824          1 Ave & E 44 St  40.750020  -73.969053      477   \n",
       "341825          W 41 St & 8 Ave  40.756405  -73.990026      478   \n",
       "\n",
       "                      stop_name   stop_lat  stop_long  bike_id   user_type  \\\n",
       "341821  Clermont Ave & Park Ave  40.695734 -73.971297    19615  Subscriber   \n",
       "341822          9 Ave & W 14 St  40.740583 -74.005509    15086  Subscriber   \n",
       "341823          9 Ave & W 45 St  40.760193 -73.991255    18943  Subscriber   \n",
       "341824          W 41 St & 8 Ave  40.756405 -73.990026    21364  Subscriber   \n",
       "341825         11 Ave & W 41 St  40.760301 -73.998842    16020  Subscriber   \n",
       "\n",
       "        birth_year  gender  start_hour  stop_hour start_date  stop_date  \n",
       "341821      1985.0       1          23          0 2015-03-31 2015-04-01  \n",
       "341822      1978.0       1          23          0 2015-03-31 2015-04-01  \n",
       "341823      1986.0       1          23          0 2015-03-31 2015-04-01  \n",
       "341824      1970.0       1          23          0 2015-03-31 2015-04-01  \n",
       "341825      1998.0       1          23         23 2015-03-31 2015-03-31  "
      ]
     },
     "execution_count": 11,
     "metadata": {},
     "output_type": "execute_result"
    }
   ],
   "source": [
    "df['start_hour'] = df.start_time.dt.hour\n",
    "df['stop_hour'] = df.stop_time.dt.hour\n",
    "#df[['start_hour', 'stop_hour']] = df[['start_time', 'stop_time']].apply(lambda x: x.dt.hour)\n",
    "df[['start_date', 'stop_date']] = df[['start_time', 'stop_time']].apply(lambda x: x.dt.floor('d'))\n",
    "df.tail()"
   ]
  },
  {
   "cell_type": "code",
   "execution_count": 18,
   "metadata": {
    "collapsed": true
   },
   "outputs": [],
   "source": [
    "def split_off_times(df):\n",
    "    df['start_hour'] = df.start_time.dt.hour\n",
    "    df['stop_hour'] = df.stop_time.dt.hour\n",
    "    df[['start_date', 'stop_date']] = df[['start_time', 'stop_time']].apply(lambda x: x.dt.floor('d'))\n",
    "    return df\n",
    "\n",
    "def create_fluxes(df, id_key, date_key, hour_key, fl_key):\n",
    "    # id_key and hour_key are start_id/stop_id and start_date/end_date\n",
    "    # start is associated with an fl_key = 'flux_out',\n",
    "    # and stop is associated with fl_key = 'flux_in'\n",
    "    use_cols = [id_key, date_key, hour_key, 'duration']\n",
    "\n",
    "    flux = df.groupby([id_key, date_key, hour_key]).count()\n",
    "    flux = flux.reset_index()[use_cols]\n",
    "    col_dict = {'duration': fl_key,\n",
    "                date_key: 'date', hour_key: 'hour',\n",
    "                id_key: 'id'}\n",
    "    return flux.rename(columns = col_dict)\n",
    "\n",
    "def transform_times(df):\n",
    "    # calculate approximate pickup and drop-off times for rebalancing trips\n",
    "    t_start = df.start_time\n",
    "    t_end = df.stop_time\n",
    "    time_diff = t_start - t_end\n",
    "\n",
    "    r_start = t_end + time_diff/3.\n",
    "    r_end = t_end + time_diff*(2/3.)\n",
    "\n",
    "    df['start_time'] = r_start\n",
    "    df['stop_time'] = r_end\n",
    "    return df.rename(columns = {'start_id':'stop_id', 'stop_id':'start_id'})\n",
    "\n",
    "\n",
    "def merge_fluxes(df1, df2):\n",
    "    # concatenate fluxes or any other dataset with the keys\n",
    "    # 'id' 'date' and 'hour\n",
    "    return pd.merge(df1, df2, how='outer',\n",
    "                              on = ['id', 'date', 'hour']).fillna(0)"
   ]
  },
  {
   "cell_type": "code",
   "execution_count": 48,
   "metadata": {},
   "outputs": [],
   "source": [
    "# create fluxes from normal trips and merge\n",
    "bikes_out = create_fluxes(df, 'start_id', 'start_date','start_hour', 'bikes_out')\n",
    "bikes_in = create_fluxes(df, 'stop_id', 'stop_date','stop_hour', 'bikes_in')\n",
    "\n",
    "merged = merge_fluxes(bikes_out, bikes_in)"
   ]
  },
  {
   "cell_type": "code",
   "execution_count": 50,
   "metadata": {
    "collapsed": true
   },
   "outputs": [],
   "source": [
    "import holidays\n",
    "us_holidays = holidays.UnitedStates()\n",
    "\n",
    "merged['dayofweek'] = merged.date.dt.weekday\n",
    "merged['month'] = merged.date.dt.month\n",
    "merged['year'] = merged.date.dt.year\n",
    "merged['is_weekday'] = merged.dayofweek.isin(range(5))\n",
    "merged['is_holiday'] = merged.date.isin(holidays.UnitedStates())"
   ]
  },
  {
   "cell_type": "code",
   "execution_count": 51,
   "metadata": {},
   "outputs": [
    {
     "data": {
      "text/html": [
       "<div>\n",
       "<style>\n",
       "    .dataframe thead tr:only-child th {\n",
       "        text-align: right;\n",
       "    }\n",
       "\n",
       "    .dataframe thead th {\n",
       "        text-align: left;\n",
       "    }\n",
       "\n",
       "    .dataframe tbody tr th {\n",
       "        vertical-align: top;\n",
       "    }\n",
       "</style>\n",
       "<table border=\"1\" class=\"dataframe\">\n",
       "  <thead>\n",
       "    <tr style=\"text-align: right;\">\n",
       "      <th></th>\n",
       "      <th>id</th>\n",
       "      <th>date</th>\n",
       "      <th>hour</th>\n",
       "      <th>bikes_out</th>\n",
       "      <th>bikes_in</th>\n",
       "      <th>dayofweek</th>\n",
       "      <th>month</th>\n",
       "      <th>year</th>\n",
       "      <th>is_weekday</th>\n",
       "      <th>is_holiday</th>\n",
       "    </tr>\n",
       "  </thead>\n",
       "  <tbody>\n",
       "    <tr>\n",
       "      <th>0</th>\n",
       "      <td>72</td>\n",
       "      <td>2015-03-01</td>\n",
       "      <td>9</td>\n",
       "      <td>1.0</td>\n",
       "      <td>0.0</td>\n",
       "      <td>6</td>\n",
       "      <td>3</td>\n",
       "      <td>2015</td>\n",
       "      <td>False</td>\n",
       "      <td>False</td>\n",
       "    </tr>\n",
       "    <tr>\n",
       "      <th>1</th>\n",
       "      <td>72</td>\n",
       "      <td>2015-03-01</td>\n",
       "      <td>10</td>\n",
       "      <td>1.0</td>\n",
       "      <td>0.0</td>\n",
       "      <td>6</td>\n",
       "      <td>3</td>\n",
       "      <td>2015</td>\n",
       "      <td>False</td>\n",
       "      <td>False</td>\n",
       "    </tr>\n",
       "    <tr>\n",
       "      <th>2</th>\n",
       "      <td>72</td>\n",
       "      <td>2015-03-01</td>\n",
       "      <td>11</td>\n",
       "      <td>1.0</td>\n",
       "      <td>0.0</td>\n",
       "      <td>6</td>\n",
       "      <td>3</td>\n",
       "      <td>2015</td>\n",
       "      <td>False</td>\n",
       "      <td>False</td>\n",
       "    </tr>\n",
       "    <tr>\n",
       "      <th>3</th>\n",
       "      <td>72</td>\n",
       "      <td>2015-03-02</td>\n",
       "      <td>6</td>\n",
       "      <td>1.0</td>\n",
       "      <td>0.0</td>\n",
       "      <td>0</td>\n",
       "      <td>3</td>\n",
       "      <td>2015</td>\n",
       "      <td>True</td>\n",
       "      <td>False</td>\n",
       "    </tr>\n",
       "    <tr>\n",
       "      <th>4</th>\n",
       "      <td>72</td>\n",
       "      <td>2015-03-02</td>\n",
       "      <td>8</td>\n",
       "      <td>1.0</td>\n",
       "      <td>2.0</td>\n",
       "      <td>0</td>\n",
       "      <td>3</td>\n",
       "      <td>2015</td>\n",
       "      <td>True</td>\n",
       "      <td>False</td>\n",
       "    </tr>\n",
       "  </tbody>\n",
       "</table>\n",
       "</div>"
      ],
      "text/plain": [
       "   id       date  hour  bikes_out  bikes_in  dayofweek  month  year  \\\n",
       "0  72 2015-03-01     9        1.0       0.0          6      3  2015   \n",
       "1  72 2015-03-01    10        1.0       0.0          6      3  2015   \n",
       "2  72 2015-03-01    11        1.0       0.0          6      3  2015   \n",
       "3  72 2015-03-02     6        1.0       0.0          0      3  2015   \n",
       "4  72 2015-03-02     8        1.0       2.0          0      3  2015   \n",
       "\n",
       "   is_weekday  is_holiday  \n",
       "0       False       False  \n",
       "1       False       False  \n",
       "2       False       False  \n",
       "3        True       False  \n",
       "4        True       False  "
      ]
     },
     "execution_count": 51,
     "metadata": {},
     "output_type": "execute_result"
    }
   ],
   "source": [
    "merged.head()"
   ]
  },
  {
   "cell_type": "code",
   "execution_count": 30,
   "metadata": {},
   "outputs": [],
   "source": [
    "# merge rebal fluxes\n",
    "rebals = transform_times(rebals)\n",
    "rebals = split_off_times(rebals)\n",
    "#create fluxes from rebalanced trips\n",
    "rflux_out = create_fluxes(rebals, 'start_id', 'start_date', 'start_hour', 'rbikes_out')\n",
    "rflux_in = create_fluxes(rebals, 'stop_id', 'stop_date', 'stop_hour', 'rbikes_in')\n",
    "\n",
    "rmerged = merge_fluxes(rflux_out, rflux_in)\n",
    "rmerged['rebal_net_flux'] = rmerged.rbikes_in - rmerged.rbikes_out\n",
    "rmerged = rmerged.drop(['rbikes_in', 'rbikes_out'], axis=1)"
   ]
  },
  {
   "cell_type": "code",
   "execution_count": 31,
   "metadata": {},
   "outputs": [
    {
     "data": {
      "text/html": [
       "<div>\n",
       "<style>\n",
       "    .dataframe thead tr:only-child th {\n",
       "        text-align: right;\n",
       "    }\n",
       "\n",
       "    .dataframe thead th {\n",
       "        text-align: left;\n",
       "    }\n",
       "\n",
       "    .dataframe tbody tr th {\n",
       "        vertical-align: top;\n",
       "    }\n",
       "</style>\n",
       "<table border=\"1\" class=\"dataframe\">\n",
       "  <thead>\n",
       "    <tr style=\"text-align: right;\">\n",
       "      <th></th>\n",
       "      <th>id</th>\n",
       "      <th>date</th>\n",
       "      <th>hour</th>\n",
       "      <th>rebal_net_flux</th>\n",
       "    </tr>\n",
       "  </thead>\n",
       "  <tbody>\n",
       "    <tr>\n",
       "      <th>0</th>\n",
       "      <td>72.0</td>\n",
       "      <td>2015-03-02</td>\n",
       "      <td>10</td>\n",
       "      <td>-1.0</td>\n",
       "    </tr>\n",
       "    <tr>\n",
       "      <th>1</th>\n",
       "      <td>72.0</td>\n",
       "      <td>2015-03-04</td>\n",
       "      <td>4</td>\n",
       "      <td>-1.0</td>\n",
       "    </tr>\n",
       "    <tr>\n",
       "      <th>2</th>\n",
       "      <td>72.0</td>\n",
       "      <td>2015-03-04</td>\n",
       "      <td>18</td>\n",
       "      <td>-1.0</td>\n",
       "    </tr>\n",
       "    <tr>\n",
       "      <th>3</th>\n",
       "      <td>72.0</td>\n",
       "      <td>2015-03-05</td>\n",
       "      <td>20</td>\n",
       "      <td>-1.0</td>\n",
       "    </tr>\n",
       "    <tr>\n",
       "      <th>4</th>\n",
       "      <td>72.0</td>\n",
       "      <td>2015-03-06</td>\n",
       "      <td>5</td>\n",
       "      <td>-1.0</td>\n",
       "    </tr>\n",
       "  </tbody>\n",
       "</table>\n",
       "</div>"
      ],
      "text/plain": [
       "     id       date  hour  rebal_net_flux\n",
       "0  72.0 2015-03-02    10            -1.0\n",
       "1  72.0 2015-03-04     4            -1.0\n",
       "2  72.0 2015-03-04    18            -1.0\n",
       "3  72.0 2015-03-05    20            -1.0\n",
       "4  72.0 2015-03-06     5            -1.0"
      ]
     },
     "execution_count": 31,
     "metadata": {},
     "output_type": "execute_result"
    }
   ],
   "source": [
    "rmerged.head()"
   ]
  },
  {
   "cell_type": "code",
   "execution_count": 23,
   "metadata": {},
   "outputs": [
    {
     "data": {
      "text/html": [
       "<div>\n",
       "<style>\n",
       "    .dataframe thead tr:only-child th {\n",
       "        text-align: right;\n",
       "    }\n",
       "\n",
       "    .dataframe thead th {\n",
       "        text-align: left;\n",
       "    }\n",
       "\n",
       "    .dataframe tbody tr th {\n",
       "        vertical-align: top;\n",
       "    }\n",
       "</style>\n",
       "<table border=\"1\" class=\"dataframe\">\n",
       "  <thead>\n",
       "    <tr style=\"text-align: right;\">\n",
       "      <th></th>\n",
       "      <th>id</th>\n",
       "      <th>date</th>\n",
       "      <th>hour</th>\n",
       "      <th>bikes_out</th>\n",
       "      <th>bikes_in</th>\n",
       "      <th>is_holiday</th>\n",
       "      <th>is_weekday</th>\n",
       "    </tr>\n",
       "  </thead>\n",
       "  <tbody>\n",
       "    <tr>\n",
       "      <th>0</th>\n",
       "      <td>72</td>\n",
       "      <td>2015-03-01</td>\n",
       "      <td>9</td>\n",
       "      <td>1.0</td>\n",
       "      <td>0.0</td>\n",
       "      <td>False</td>\n",
       "      <td>False</td>\n",
       "    </tr>\n",
       "    <tr>\n",
       "      <th>1</th>\n",
       "      <td>72</td>\n",
       "      <td>2015-03-01</td>\n",
       "      <td>10</td>\n",
       "      <td>1.0</td>\n",
       "      <td>0.0</td>\n",
       "      <td>False</td>\n",
       "      <td>False</td>\n",
       "    </tr>\n",
       "    <tr>\n",
       "      <th>2</th>\n",
       "      <td>72</td>\n",
       "      <td>2015-03-01</td>\n",
       "      <td>11</td>\n",
       "      <td>1.0</td>\n",
       "      <td>0.0</td>\n",
       "      <td>False</td>\n",
       "      <td>False</td>\n",
       "    </tr>\n",
       "    <tr>\n",
       "      <th>3</th>\n",
       "      <td>72</td>\n",
       "      <td>2015-03-02</td>\n",
       "      <td>6</td>\n",
       "      <td>1.0</td>\n",
       "      <td>0.0</td>\n",
       "      <td>False</td>\n",
       "      <td>True</td>\n",
       "    </tr>\n",
       "    <tr>\n",
       "      <th>4</th>\n",
       "      <td>72</td>\n",
       "      <td>2015-03-02</td>\n",
       "      <td>8</td>\n",
       "      <td>1.0</td>\n",
       "      <td>2.0</td>\n",
       "      <td>False</td>\n",
       "      <td>True</td>\n",
       "    </tr>\n",
       "  </tbody>\n",
       "</table>\n",
       "</div>"
      ],
      "text/plain": [
       "   id       date  hour  bikes_out  bikes_in  is_holiday  is_weekday\n",
       "0  72 2015-03-01     9        1.0       0.0       False       False\n",
       "1  72 2015-03-01    10        1.0       0.0       False       False\n",
       "2  72 2015-03-01    11        1.0       0.0       False       False\n",
       "3  72 2015-03-02     6        1.0       0.0       False        True\n",
       "4  72 2015-03-02     8        1.0       2.0       False        True"
      ]
     },
     "execution_count": 23,
     "metadata": {},
     "output_type": "execute_result"
    }
   ],
   "source": [
    "merged.head()"
   ]
  },
  {
   "cell_type": "code",
   "execution_count": 35,
   "metadata": {},
   "outputs": [
    {
     "data": {
      "text/html": [
       "<div>\n",
       "<style>\n",
       "    .dataframe thead tr:only-child th {\n",
       "        text-align: right;\n",
       "    }\n",
       "\n",
       "    .dataframe thead th {\n",
       "        text-align: left;\n",
       "    }\n",
       "\n",
       "    .dataframe tbody tr th {\n",
       "        vertical-align: top;\n",
       "    }\n",
       "</style>\n",
       "<table border=\"1\" class=\"dataframe\">\n",
       "  <thead>\n",
       "    <tr style=\"text-align: right;\">\n",
       "      <th></th>\n",
       "      <th>id</th>\n",
       "      <th>date</th>\n",
       "      <th>hour</th>\n",
       "      <th>bikes_out</th>\n",
       "      <th>bikes_in</th>\n",
       "      <th>is_holiday</th>\n",
       "      <th>is_weekday</th>\n",
       "      <th>dayofweek</th>\n",
       "      <th>month</th>\n",
       "      <th>year</th>\n",
       "      <th>rebal_net_flux</th>\n",
       "    </tr>\n",
       "  </thead>\n",
       "  <tbody>\n",
       "    <tr>\n",
       "      <th>0</th>\n",
       "      <td>72.0</td>\n",
       "      <td>2015-03-01</td>\n",
       "      <td>0</td>\n",
       "      <td>1.0</td>\n",
       "      <td>0.0</td>\n",
       "      <td>False</td>\n",
       "      <td>False</td>\n",
       "      <td>6.0</td>\n",
       "      <td>3.0</td>\n",
       "      <td>2015.0</td>\n",
       "      <td>0.0</td>\n",
       "    </tr>\n",
       "    <tr>\n",
       "      <th>1</th>\n",
       "      <td>72.0</td>\n",
       "      <td>2015-03-01</td>\n",
       "      <td>0</td>\n",
       "      <td>1.0</td>\n",
       "      <td>0.0</td>\n",
       "      <td>False</td>\n",
       "      <td>False</td>\n",
       "      <td>6.0</td>\n",
       "      <td>3.0</td>\n",
       "      <td>2015.0</td>\n",
       "      <td>0.0</td>\n",
       "    </tr>\n",
       "    <tr>\n",
       "      <th>2</th>\n",
       "      <td>72.0</td>\n",
       "      <td>2015-03-01</td>\n",
       "      <td>0</td>\n",
       "      <td>1.0</td>\n",
       "      <td>0.0</td>\n",
       "      <td>False</td>\n",
       "      <td>False</td>\n",
       "      <td>6.0</td>\n",
       "      <td>3.0</td>\n",
       "      <td>2015.0</td>\n",
       "      <td>0.0</td>\n",
       "    </tr>\n",
       "    <tr>\n",
       "      <th>3</th>\n",
       "      <td>72.0</td>\n",
       "      <td>2015-03-01</td>\n",
       "      <td>0</td>\n",
       "      <td>0.0</td>\n",
       "      <td>2.0</td>\n",
       "      <td>False</td>\n",
       "      <td>False</td>\n",
       "      <td>6.0</td>\n",
       "      <td>3.0</td>\n",
       "      <td>2015.0</td>\n",
       "      <td>0.0</td>\n",
       "    </tr>\n",
       "    <tr>\n",
       "      <th>4</th>\n",
       "      <td>72.0</td>\n",
       "      <td>2015-03-01</td>\n",
       "      <td>0</td>\n",
       "      <td>0.0</td>\n",
       "      <td>1.0</td>\n",
       "      <td>False</td>\n",
       "      <td>False</td>\n",
       "      <td>6.0</td>\n",
       "      <td>3.0</td>\n",
       "      <td>2015.0</td>\n",
       "      <td>0.0</td>\n",
       "    </tr>\n",
       "  </tbody>\n",
       "</table>\n",
       "</div>"
      ],
      "text/plain": [
       "     id       date  hour  bikes_out  bikes_in is_holiday is_weekday  \\\n",
       "0  72.0 2015-03-01     0        1.0       0.0      False      False   \n",
       "1  72.0 2015-03-01     0        1.0       0.0      False      False   \n",
       "2  72.0 2015-03-01     0        1.0       0.0      False      False   \n",
       "3  72.0 2015-03-01     0        0.0       2.0      False      False   \n",
       "4  72.0 2015-03-01     0        0.0       1.0      False      False   \n",
       "\n",
       "   dayofweek  month    year  rebal_net_flux  \n",
       "0        6.0    3.0  2015.0             0.0  \n",
       "1        6.0    3.0  2015.0             0.0  \n",
       "2        6.0    3.0  2015.0             0.0  \n",
       "3        6.0    3.0  2015.0             0.0  \n",
       "4        6.0    3.0  2015.0             0.0  "
      ]
     },
     "execution_count": 35,
     "metadata": {},
     "output_type": "execute_result"
    }
   ],
   "source": [
    "feat = merge_fluxes(merged, rmerged)\n",
    "feat.head()"
   ]
  },
  {
   "cell_type": "code",
   "execution_count": 25,
   "metadata": {
    "collapsed": true
   },
   "outputs": [],
   "source": [
    "avail_db = station_data(year,month)"
   ]
  },
  {
   "cell_type": "code",
   "execution_count": 36,
   "metadata": {},
   "outputs": [
    {
     "data": {
      "text/html": [
       "<div>\n",
       "<style>\n",
       "    .dataframe thead tr:only-child th {\n",
       "        text-align: right;\n",
       "    }\n",
       "\n",
       "    .dataframe thead th {\n",
       "        text-align: left;\n",
       "    }\n",
       "\n",
       "    .dataframe tbody tr th {\n",
       "        vertical-align: top;\n",
       "    }\n",
       "</style>\n",
       "<table border=\"1\" class=\"dataframe\">\n",
       "  <thead>\n",
       "    <tr style=\"text-align: right;\">\n",
       "      <th></th>\n",
       "      <th>id</th>\n",
       "      <th>date</th>\n",
       "      <th>hour</th>\n",
       "      <th>tot_docks</th>\n",
       "      <th>avail_bikes</th>\n",
       "      <th>avail_docks</th>\n",
       "    </tr>\n",
       "  </thead>\n",
       "  <tbody>\n",
       "    <tr>\n",
       "      <th>0</th>\n",
       "      <td>72</td>\n",
       "      <td>2015-03-01</td>\n",
       "      <td>0</td>\n",
       "      <td>39.0</td>\n",
       "      <td>8.0</td>\n",
       "      <td>31.0</td>\n",
       "    </tr>\n",
       "    <tr>\n",
       "      <th>1</th>\n",
       "      <td>72</td>\n",
       "      <td>2015-03-01</td>\n",
       "      <td>1</td>\n",
       "      <td>39.0</td>\n",
       "      <td>8.0</td>\n",
       "      <td>31.0</td>\n",
       "    </tr>\n",
       "    <tr>\n",
       "      <th>2</th>\n",
       "      <td>72</td>\n",
       "      <td>2015-03-01</td>\n",
       "      <td>2</td>\n",
       "      <td>39.0</td>\n",
       "      <td>8.0</td>\n",
       "      <td>30.0</td>\n",
       "    </tr>\n",
       "    <tr>\n",
       "      <th>3</th>\n",
       "      <td>72</td>\n",
       "      <td>2015-03-01</td>\n",
       "      <td>3</td>\n",
       "      <td>39.0</td>\n",
       "      <td>8.0</td>\n",
       "      <td>31.0</td>\n",
       "    </tr>\n",
       "    <tr>\n",
       "      <th>4</th>\n",
       "      <td>72</td>\n",
       "      <td>2015-03-01</td>\n",
       "      <td>4</td>\n",
       "      <td>39.0</td>\n",
       "      <td>8.0</td>\n",
       "      <td>31.0</td>\n",
       "    </tr>\n",
       "  </tbody>\n",
       "</table>\n",
       "</div>"
      ],
      "text/plain": [
       "   id       date  hour  tot_docks  avail_bikes  avail_docks\n",
       "0  72 2015-03-01     0       39.0          8.0         31.0\n",
       "1  72 2015-03-01     1       39.0          8.0         31.0\n",
       "2  72 2015-03-01     2       39.0          8.0         30.0\n",
       "3  72 2015-03-01     3       39.0          8.0         31.0\n",
       "4  72 2015-03-01     4       39.0          8.0         31.0"
      ]
     },
     "execution_count": 36,
     "metadata": {},
     "output_type": "execute_result"
    }
   ],
   "source": [
    "avail_db.head()"
   ]
  },
  {
   "cell_type": "code",
   "execution_count": 34,
   "metadata": {},
   "outputs": [
    {
     "data": {
      "text/html": [
       "<div>\n",
       "<style>\n",
       "    .dataframe thead tr:only-child th {\n",
       "        text-align: right;\n",
       "    }\n",
       "\n",
       "    .dataframe thead th {\n",
       "        text-align: left;\n",
       "    }\n",
       "\n",
       "    .dataframe tbody tr th {\n",
       "        vertical-align: top;\n",
       "    }\n",
       "</style>\n",
       "<table border=\"1\" class=\"dataframe\">\n",
       "  <thead>\n",
       "    <tr style=\"text-align: right;\">\n",
       "      <th></th>\n",
       "      <th>id</th>\n",
       "      <th>date</th>\n",
       "      <th>hour</th>\n",
       "      <th>bikes_out</th>\n",
       "      <th>bikes_in</th>\n",
       "      <th>is_holiday</th>\n",
       "      <th>is_weekday</th>\n",
       "      <th>dayofweek</th>\n",
       "      <th>month</th>\n",
       "      <th>year</th>\n",
       "      <th>rebal_net_flux</th>\n",
       "    </tr>\n",
       "  </thead>\n",
       "  <tbody>\n",
       "    <tr>\n",
       "      <th>0</th>\n",
       "      <td>72.0</td>\n",
       "      <td>2015-03-01</td>\n",
       "      <td>0</td>\n",
       "      <td>1.0</td>\n",
       "      <td>0.0</td>\n",
       "      <td>False</td>\n",
       "      <td>False</td>\n",
       "      <td>6.0</td>\n",
       "      <td>3.0</td>\n",
       "      <td>2015.0</td>\n",
       "      <td>0.0</td>\n",
       "    </tr>\n",
       "    <tr>\n",
       "      <th>1</th>\n",
       "      <td>72.0</td>\n",
       "      <td>2015-03-01</td>\n",
       "      <td>0</td>\n",
       "      <td>1.0</td>\n",
       "      <td>0.0</td>\n",
       "      <td>False</td>\n",
       "      <td>False</td>\n",
       "      <td>6.0</td>\n",
       "      <td>3.0</td>\n",
       "      <td>2015.0</td>\n",
       "      <td>0.0</td>\n",
       "    </tr>\n",
       "    <tr>\n",
       "      <th>2</th>\n",
       "      <td>72.0</td>\n",
       "      <td>2015-03-01</td>\n",
       "      <td>0</td>\n",
       "      <td>1.0</td>\n",
       "      <td>0.0</td>\n",
       "      <td>False</td>\n",
       "      <td>False</td>\n",
       "      <td>6.0</td>\n",
       "      <td>3.0</td>\n",
       "      <td>2015.0</td>\n",
       "      <td>0.0</td>\n",
       "    </tr>\n",
       "    <tr>\n",
       "      <th>3</th>\n",
       "      <td>72.0</td>\n",
       "      <td>2015-03-01</td>\n",
       "      <td>0</td>\n",
       "      <td>0.0</td>\n",
       "      <td>2.0</td>\n",
       "      <td>False</td>\n",
       "      <td>False</td>\n",
       "      <td>6.0</td>\n",
       "      <td>3.0</td>\n",
       "      <td>2015.0</td>\n",
       "      <td>0.0</td>\n",
       "    </tr>\n",
       "    <tr>\n",
       "      <th>4</th>\n",
       "      <td>72.0</td>\n",
       "      <td>2015-03-01</td>\n",
       "      <td>0</td>\n",
       "      <td>0.0</td>\n",
       "      <td>1.0</td>\n",
       "      <td>False</td>\n",
       "      <td>False</td>\n",
       "      <td>6.0</td>\n",
       "      <td>3.0</td>\n",
       "      <td>2015.0</td>\n",
       "      <td>0.0</td>\n",
       "    </tr>\n",
       "  </tbody>\n",
       "</table>\n",
       "</div>"
      ],
      "text/plain": [
       "     id       date  hour  bikes_out  bikes_in is_holiday is_weekday  \\\n",
       "0  72.0 2015-03-01     0        1.0       0.0      False      False   \n",
       "1  72.0 2015-03-01     0        1.0       0.0      False      False   \n",
       "2  72.0 2015-03-01     0        1.0       0.0      False      False   \n",
       "3  72.0 2015-03-01     0        0.0       2.0      False      False   \n",
       "4  72.0 2015-03-01     0        0.0       1.0      False      False   \n",
       "\n",
       "   dayofweek  month    year  rebal_net_flux  \n",
       "0        6.0    3.0  2015.0             0.0  \n",
       "1        6.0    3.0  2015.0             0.0  \n",
       "2        6.0    3.0  2015.0             0.0  \n",
       "3        6.0    3.0  2015.0             0.0  \n",
       "4        6.0    3.0  2015.0             0.0  "
      ]
     },
     "execution_count": 34,
     "metadata": {},
     "output_type": "execute_result"
    }
   ],
   "source": [
    "feat.head()"
   ]
  },
  {
   "cell_type": "code",
   "execution_count": null,
   "metadata": {
    "collapsed": true
   },
   "outputs": [],
   "source": []
  },
  {
   "cell_type": "code",
   "execution_count": null,
   "metadata": {
    "collapsed": true
   },
   "outputs": [],
   "source": []
  },
  {
   "cell_type": "code",
   "execution_count": null,
   "metadata": {
    "collapsed": true
   },
   "outputs": [],
   "source": []
  },
  {
   "cell_type": "code",
   "execution_count": null,
   "metadata": {
    "collapsed": true
   },
   "outputs": [],
   "source": [
    "'''\n",
    "def create_fluxes(df, id_key, time_key, fl_key):\n",
    "    # id_key and time_key are start_id/stop_id and start_time/end_time\n",
    "    # for normal trips, start is associated with an fl_key = 'flux_out',\n",
    "    # and stop is associated with fl_key = 'flux_in'\n",
    "\n",
    "    flux = df[[id_key, time_key]].groupby([df[time_key].dt.to_period('H'), id_key]).count()\n",
    "    flux = flux[time_key].fillna(0).unstack(level=0).stack()\n",
    "    flux = flux.reset_index().set_index(time_key)\n",
    "    flux.index.name = 'date'\n",
    "    return flux.rename(columns = {0:fl_key, id_key:'id'}).reset_index()\n",
    "\n",
    "def merge_fluxes(flux_out, flux_in):\n",
    "    return pd.merge(flux_out, flux_in, how='outer',\n",
    "                    on = ['date', 'id']).fillna(0)\n",
    "'''"
   ]
  },
  {
   "cell_type": "code",
   "execution_count": null,
   "metadata": {
    "collapsed": true
   },
   "outputs": [],
   "source": [
    "'''\n",
    "# create fluxes from normal trips\n",
    "flux_out = create_fluxes(trips, 'start_id', 'start_time', 'flux_out')\n",
    "flux_in = create_fluxes(trips, 'stop_id', 'stop_time', 'flux_in')\n",
    "\n",
    "merged = merge_fluxes(flux_out, flux_in)\n",
    "\n",
    "# create weekday column with values 1 if weekday and 0 if weekend\n",
    "wkd_cond = lambda x: 1 if True else 0\n",
    "merged['weekday'] = merged.date.dt.weekday.isin(range(5)).apply(wkd_cond)\n",
    "merged['hour'] = merged.date.dt.hour\n",
    "'''"
   ]
  },
  {
   "cell_type": "code",
   "execution_count": null,
   "metadata": {
    "collapsed": true
   },
   "outputs": [],
   "source": [
    "ages = year - trips.birth_year \n",
    "trips['ages'] = ages\n",
    "trips.groupby([trips.start_time.dt.to_period('H'), ages]).mean()"
   ]
  },
  {
   "cell_type": "code",
   "execution_count": null,
   "metadata": {
    "collapsed": true
   },
   "outputs": [],
   "source": []
  },
  {
   "cell_type": "code",
   "execution_count": null,
   "metadata": {
    "collapsed": true
   },
   "outputs": [],
   "source": [
    "rebal_df = rebal_data(year,month)\n",
    "rebal_df = rebal_df[['start_time', 'stop_time', 'start_id', 'stop_id', 'duration']]"
   ]
  },
  {
   "cell_type": "code",
   "execution_count": null,
   "metadata": {
    "collapsed": true
   },
   "outputs": [],
   "source": [
    "def transform_times(df):\n",
    "    # calculate approximate pickup and drop-off times for rebalancing trips\n",
    "    t_start = df.start_time\n",
    "    t_end = df.stop_time\n",
    "    time_diff = t_start - t_end\n",
    "\n",
    "    r_start = t_end + time_diff/3.\n",
    "    r_end = t_end + time_diff*(2/3.)\n",
    "    \n",
    "    df['start_time'] = r_start\n",
    "    df['stop_time'] = r_end\n",
    "    return df.rename(columns = {'start_id':'stop_id', 'stop_id':'start_id'})\n",
    "\n",
    "def split_off_times(df):\n",
    "    df['start_hour'] = df.start_time.dt.hour\n",
    "    df['stop_hour'] = df.stop_time.dt.hour\n",
    "    df[['start_date', 'stop_date']] = df[['start_time', 'stop_time']].apply(lambda x: x.dt.floor('d'))\n",
    "    return df\n",
    "\n",
    "rebal_df = transform_times(rebal_df)\n",
    "rebal_df = split_off_times(rebal_df)"
   ]
  },
  {
   "cell_type": "code",
   "execution_count": null,
   "metadata": {
    "collapsed": true
   },
   "outputs": [],
   "source": [
    "rflux_out = create_fluxes(rebal_df, 'start_id', 'start_date', 'start_hour', 'rbikes_out')\n",
    "rflux_in = create_fluxes(rebal_df, 'stop_id', 'stop_date', 'stop_hour', 'rbikes_in')\n"
   ]
  },
  {
   "cell_type": "code",
   "execution_count": null,
   "metadata": {
    "collapsed": true
   },
   "outputs": [],
   "source": [
    "rflux_out\n"
   ]
  },
  {
   "cell_type": "code",
   "execution_count": null,
   "metadata": {
    "collapsed": true
   },
   "outputs": [],
   "source": [
    "rmerged = merge_fluxes(rflux_out, rflux_in)\n",
    "rmerged = rmerged.drop(['rbikes_in', 'rbikes_out'], axis=1)"
   ]
  },
  {
   "cell_type": "code",
   "execution_count": null,
   "metadata": {
    "collapsed": true
   },
   "outputs": [],
   "source": [
    "merged"
   ]
  },
  {
   "cell_type": "code",
   "execution_count": null,
   "metadata": {
    "collapsed": true
   },
   "outputs": [],
   "source": [
    "rmerged['net_flux'] = rmerged.rflux_in - rmerged.rflux_out\n",
    "rmerged"
   ]
  },
  {
   "cell_type": "code",
   "execution_count": null,
   "metadata": {
    "collapsed": true
   },
   "outputs": [],
   "source": [
    "rmerged.sort_values('net_flux', ascending = False).head(50)"
   ]
  },
  {
   "cell_type": "code",
   "execution_count": null,
   "metadata": {
    "collapsed": true
   },
   "outputs": [],
   "source": [
    "a = pd.merge(merged, rmerged, how = 'outer', on=['date','id']).fillna(0)"
   ]
  },
  {
   "cell_type": "code",
   "execution_count": null,
   "metadata": {
    "collapsed": true
   },
   "outputs": [],
   "source": [
    "stations.head()"
   ]
  },
  {
   "cell_type": "code",
   "execution_count": null,
   "metadata": {
    "collapsed": true
   },
   "outputs": [],
   "source": [
    "a.head(20)"
   ]
  },
  {
   "cell_type": "code",
   "execution_count": null,
   "metadata": {
    "collapsed": true
   },
   "outputs": [],
   "source": [
    "a.drop(['rflux_out', 'rflux_in'], axis=1)"
   ]
  },
  {
   "cell_type": "code",
   "execution_count": null,
   "metadata": {
    "collapsed": true
   },
   "outputs": [],
   "source": [
    "a.head()"
   ]
  },
  {
   "cell_type": "code",
   "execution_count": null,
   "metadata": {
    "collapsed": true
   },
   "outputs": [],
   "source": [
    "stations = pd.read_csv('stations.csv')\n",
    "stations.head()\n",
    "\n",
    "aa = pd.merge(a, stations[['id', 'docks']], on = 'id')"
   ]
  },
  {
   "cell_type": "code",
   "execution_count": null,
   "metadata": {
    "collapsed": true
   },
   "outputs": [],
   "source": []
  },
  {
   "cell_type": "code",
   "execution_count": null,
   "metadata": {
    "collapsed": true
   },
   "outputs": [],
   "source": []
  },
  {
   "cell_type": "code",
   "execution_count": null,
   "metadata": {
    "collapsed": true
   },
   "outputs": [],
   "source": []
  },
  {
   "cell_type": "code",
   "execution_count": null,
   "metadata": {
    "collapsed": true
   },
   "outputs": [],
   "source": [
    "rflux_out = rebal_df[['stop_id', 'stop_time']].groupby([rebal_df.stop_time.dt.to_period('H'),'stop_id']).count()\n",
    "rflux_in = rebal_df[['start_id', 'start_time']].groupby([rebal_df.start_time.dt.to_period('H'),'start_id']).count()"
   ]
  },
  {
   "cell_type": "code",
   "execution_count": null,
   "metadata": {
    "collapsed": true
   },
   "outputs": [],
   "source": [
    "rflux_out.head()"
   ]
  },
  {
   "cell_type": "code",
   "execution_count": null,
   "metadata": {
    "collapsed": true
   },
   "outputs": [],
   "source": [
    "t = rflux_out.fillna(0).stop_time.unstack(level=0).stack()\n",
    "t = t.reset_index().set_index('stop_time')\n",
    "t.rename(columns = {0:'rflux_out'}, inplace = True)\n",
    "t.head()"
   ]
  },
  {
   "cell_type": "code",
   "execution_count": null,
   "metadata": {
    "collapsed": true
   },
   "outputs": [],
   "source": []
  },
  {
   "cell_type": "code",
   "execution_count": null,
   "metadata": {
    "collapsed": true
   },
   "outputs": [],
   "source": []
  },
  {
   "cell_type": "code",
   "execution_count": null,
   "metadata": {
    "collapsed": true
   },
   "outputs": [],
   "source": [
    "sample = flux_out.start_time.head(25).unstack(level=0).stack()\n",
    "new_sample = sample.reset_index().set_index('start_time')\n",
    "new_sample.columns"
   ]
  },
  {
   "cell_type": "code",
   "execution_count": null,
   "metadata": {
    "collapsed": true
   },
   "outputs": [],
   "source": [
    "# flux out is FROM start stations\n",
    "flux_out = oneday.groupby('start_id').count().duration\n",
    "flux_out.head(10)"
   ]
  },
  {
   "cell_type": "code",
   "execution_count": null,
   "metadata": {
    "collapsed": true
   },
   "outputs": [],
   "source": [
    "#flux in is TO stop stations\n",
    "flux_in = oneday.groupby('stop_id').count().duration\n",
    "flux_in.head(10)"
   ]
  },
  {
   "cell_type": "code",
   "execution_count": null,
   "metadata": {
    "collapsed": true
   },
   "outputs": [],
   "source": [
    "net_flux = flux_in - flux_out\n",
    "net_flux.head()"
   ]
  },
  {
   "cell_type": "code",
   "execution_count": null,
   "metadata": {
    "collapsed": true
   },
   "outputs": [],
   "source": [
    "flux_out = df[['start_id', 'start_time']].groupby([df.start_time.dt.to_period('H'),'start_id']).count()\n",
    "flux_in = df[['stop_id', 'stop_time']].groupby([df.stop_time.dt.to_period('H'),'stop_id']).count()"
   ]
  },
  {
   "cell_type": "code",
   "execution_count": null,
   "metadata": {
    "collapsed": true
   },
   "outputs": [],
   "source": [
    "flux_out.head()"
   ]
  },
  {
   "cell_type": "code",
   "execution_count": null,
   "metadata": {
    "collapsed": true
   },
   "outputs": [],
   "source": [
    "flux_out.unstack().fillna(0).start_time"
   ]
  },
  {
   "cell_type": "code",
   "execution_count": null,
   "metadata": {
    "collapsed": true
   },
   "outputs": [],
   "source": [
    "net_flux = flux_in.unstack().stop_time.fillna(0) - flux_out.unstack().start_time.fillna(0)\n",
    "\n",
    "net_flux.shape"
   ]
  },
  {
   "cell_type": "code",
   "execution_count": null,
   "metadata": {
    "collapsed": true
   },
   "outputs": [],
   "source": []
  },
  {
   "cell_type": "code",
   "execution_count": null,
   "metadata": {
    "collapsed": true
   },
   "outputs": [],
   "source": [
    "from concat_data import create_fluxes"
   ]
  },
  {
   "cell_type": "code",
   "execution_count": null,
   "metadata": {
    "collapsed": true
   },
   "outputs": [],
   "source": []
  },
  {
   "cell_type": "code",
   "execution_count": null,
   "metadata": {
    "collapsed": true
   },
   "outputs": [],
   "source": []
  },
  {
   "cell_type": "code",
   "execution_count": null,
   "metadata": {
    "collapsed": true
   },
   "outputs": [],
   "source": []
  },
  {
   "cell_type": "code",
   "execution_count": null,
   "metadata": {
    "collapsed": true
   },
   "outputs": [],
   "source": [
    "rebal_df[['start_id', 'start_time']].groupby([rebal_df.start_time.dt.to_period('2H'),'start_id']).count().unstack()"
   ]
  },
  {
   "cell_type": "code",
   "execution_count": null,
   "metadata": {
    "collapsed": true
   },
   "outputs": [],
   "source": []
  },
  {
   "cell_type": "code",
   "execution_count": null,
   "metadata": {
    "collapsed": true
   },
   "outputs": [],
   "source": []
  },
  {
   "cell_type": "code",
   "execution_count": null,
   "metadata": {
    "collapsed": true
   },
   "outputs": [],
   "source": [
    "rebal_df.start_id.astype(int).unique().shape"
   ]
  },
  {
   "cell_type": "code",
   "execution_count": null,
   "metadata": {
    "collapsed": true
   },
   "outputs": [],
   "source": [
    "rebal_df.stop_id.astype(int).unique().shape"
   ]
  },
  {
   "cell_type": "code",
   "execution_count": null,
   "metadata": {
    "collapsed": true
   },
   "outputs": [],
   "source": []
  },
  {
   "cell_type": "code",
   "execution_count": null,
   "metadata": {
    "collapsed": true
   },
   "outputs": [],
   "source": []
  },
  {
   "cell_type": "code",
   "execution_count": null,
   "metadata": {
    "collapsed": true
   },
   "outputs": [],
   "source": []
  },
  {
   "cell_type": "code",
   "execution_count": null,
   "metadata": {
    "collapsed": true
   },
   "outputs": [],
   "source": []
  },
  {
   "cell_type": "code",
   "execution_count": null,
   "metadata": {
    "collapsed": true
   },
   "outputs": [],
   "source": []
  },
  {
   "cell_type": "code",
   "execution_count": null,
   "metadata": {
    "collapsed": true
   },
   "outputs": [],
   "source": []
  },
  {
   "cell_type": "code",
   "execution_count": null,
   "metadata": {
    "collapsed": true
   },
   "outputs": [],
   "source": []
  },
  {
   "cell_type": "code",
   "execution_count": null,
   "metadata": {
    "collapsed": true
   },
   "outputs": [],
   "source": []
  },
  {
   "cell_type": "code",
   "execution_count": null,
   "metadata": {
    "collapsed": true
   },
   "outputs": [],
   "source": []
  },
  {
   "cell_type": "code",
   "execution_count": null,
   "metadata": {
    "collapsed": true
   },
   "outputs": [],
   "source": []
  },
  {
   "cell_type": "code",
   "execution_count": null,
   "metadata": {
    "collapsed": true
   },
   "outputs": [],
   "source": []
  },
  {
   "cell_type": "code",
   "execution_count": null,
   "metadata": {
    "collapsed": true
   },
   "outputs": [],
   "source": []
  },
  {
   "cell_type": "code",
   "execution_count": null,
   "metadata": {
    "collapsed": true
   },
   "outputs": [],
   "source": []
  },
  {
   "cell_type": "code",
   "execution_count": null,
   "metadata": {
    "collapsed": true
   },
   "outputs": [],
   "source": []
  },
  {
   "cell_type": "code",
   "execution_count": null,
   "metadata": {
    "collapsed": true
   },
   "outputs": [],
   "source": []
  },
  {
   "cell_type": "code",
   "execution_count": null,
   "metadata": {
    "collapsed": true
   },
   "outputs": [],
   "source": []
  },
  {
   "cell_type": "code",
   "execution_count": null,
   "metadata": {
    "collapsed": true
   },
   "outputs": [],
   "source": []
  },
  {
   "cell_type": "code",
   "execution_count": null,
   "metadata": {
    "collapsed": true
   },
   "outputs": [],
   "source": []
  },
  {
   "cell_type": "code",
   "execution_count": null,
   "metadata": {
    "collapsed": true
   },
   "outputs": [],
   "source": []
  },
  {
   "cell_type": "code",
   "execution_count": null,
   "metadata": {
    "collapsed": true
   },
   "outputs": [],
   "source": []
  },
  {
   "cell_type": "code",
   "execution_count": null,
   "metadata": {
    "collapsed": true
   },
   "outputs": [],
   "source": []
  },
  {
   "cell_type": "code",
   "execution_count": null,
   "metadata": {
    "collapsed": true
   },
   "outputs": [],
   "source": []
  },
  {
   "cell_type": "code",
   "execution_count": null,
   "metadata": {
    "collapsed": true
   },
   "outputs": [],
   "source": []
  },
  {
   "cell_type": "code",
   "execution_count": null,
   "metadata": {
    "collapsed": true
   },
   "outputs": [],
   "source": [
    "\"\"\"\n",
    "#visualize rebalancing (with Bokeh)\n",
    "import bokeh.plotting as bkp\n",
    "import bokeh.models as bkm\n",
    "import bokeh.charts as bkc\n",
    "from bokeh.layouts import gridplot\n",
    "\n",
    "N = 20  # number of top choices\n",
    "station_lists = [0, 0]\n",
    "station_lists[0] = xfers_in.groupby('start_id').apply(\n",
    "                        lambda x: x.trip_id.count()).sort_values(ascending = False)[:N]\n",
    "station_lists[1] = xfers_out.groupby('stop_id').apply(\n",
    "                        lambda x: x.trip_id.count()).sort_values(ascending = False)[:N]\n",
    "\n",
    "# output to notebook\n",
    "bkp.output_notebook()\n",
    "\n",
    "ps = [0, 0]  # initilized the list\n",
    "source = [0, 0]  # initilized the list\n",
    "colors = ['navy', 'red']  # ['In', 'Out']\n",
    "labels = ['Out - In','In - Out']\n",
    "\n",
    "for i, item in enumerate(['Transferred IN', 'Transferred OUT']):\n",
    "    source[i] = bkp.ColumnDataSource(\n",
    "    data = dict(station = list(map(str, station_lists[i].index)),\n",
    "                count = station_lists[i].values,\n",
    "                name = [stations.loc[x, 'name'] for x in station_lists[i].index],\n",
    "                diff = [(-1)**(i+1)*station_count.loc[str(x), 'diff'] for x in station_lists[i].index]))\n",
    "                        \n",
    "    ps[i] = bkp.figure(plot_height = 300, plot_width = 350, toolbar_location = 'above',\n",
    "                 tools = 'pan,box_zoom,reset,resize,save', \n",
    "                 x_range = list(map(str, station_lists[i].index)),\n",
    "                 x_axis_label='Station id', y_axis_label = 'Counts', title = item)\n",
    "    show = ps[i].vbar('station', top = 'count', width = 0.8, alpha = 0.5, line_alpha = 0.0,\n",
    "               source = source[i], color = colors[i])\n",
    "    ps[i].vbar('station', top = 'diff', width = 0.8, alpha = 1, line_alpha = 0.0,\n",
    "               source = source[i], color = 'black')\n",
    "    ps[i].xaxis.major_label_orientation = np.pi/4\n",
    "    hover = bkm.HoverTool(tooltips=[('Station','@name'), \n",
    "                                    (item, '@count'),\n",
    "                                    (labels[i],'@diff')], renderers=[show] )\n",
    "    ps[i].add_tools(hover)\n",
    "grid = gridplot([ps])\n",
    "\n",
    "bkp.output_file('most_xferred_stations_'+str(year)+'.html')\n",
    "bkp.show(grid) \n",
    "bkp.save(grid)\n",
    "\"\"\""
   ]
  },
  {
   "cell_type": "code",
   "execution_count": null,
   "metadata": {
    "collapsed": true,
    "scrolled": true
   },
   "outputs": [],
   "source": [
    "\"\"\"# find bikes by bike id\n",
    "bike_ids = df.id.unique()\n",
    "bike_trajectory = df[df.id == bike_ids[0]][['id', 'start_id', 'stop_id', \n",
    "                                            'start_time', 'stop_time',\n",
    "                                           'start_long', 'start_lat',\n",
    "                                           'stop_long', 'stop_lat']]\n",
    "\n",
    "# find and link up bike trajectories to find rebalancing events\n",
    "rebal_events = pd.DataFrame(columns = bike_trajectory.columns)\n",
    "rebal_list = []\n",
    "\n",
    "def find_rebal_events(traj, pre_or_post = 'pre'):\n",
    "# find rebalancing events\n",
    "    mask = (df.start_id.values[1:] != df.stop_id.values[:-1])\n",
    "    if pre_or_post == 'pre':\n",
    "        mask = np.hstack((False, mask))\n",
    "    elif pre_or_post == 'post':\n",
    "        masp = np.hstack((mask, False))\n",
    "\n",
    "'''\n",
    "    for bike_id in bike_ids[:10]:\n",
    "        one_traj = df[df.id == bike_id][bike_trajectory.columns]\n",
    "        #trajectories = pd.concat([trajectories, one_traj], ignore_index = True)\n",
    "\n",
    "        # track rebalancing events by shifting down stop times (and locations)\n",
    "        shift_cols = ['stop_id','stop_time', 'stop_long','stop_lat']\n",
    "        one_traj[shift_cols] = one_traj[shift_cols].shift(1)\n",
    "        \n",
    " \n",
    "\n",
    "        # filter where start and stop station ids are unequal\n",
    "        rebal = one_traj[one_traj.start_id != one_traj.stop_id]\n",
    "        rebal = \n",
    "        rebal_list.append(rebal)\n",
    "'''\n",
    "\n",
    "find_rebal_events(df)\n",
    "\"\"\""
   ]
  },
  {
   "cell_type": "code",
   "execution_count": null,
   "metadata": {
    "collapsed": true
   },
   "outputs": [],
   "source": []
  },
  {
   "cell_type": "code",
   "execution_count": null,
   "metadata": {
    "collapsed": true
   },
   "outputs": [],
   "source": []
  },
  {
   "cell_type": "code",
   "execution_count": null,
   "metadata": {
    "collapsed": true
   },
   "outputs": [],
   "source": []
  }
 ],
 "metadata": {
  "kernelspec": {
   "display_name": "Python 2",
   "language": "python",
   "name": "python2"
  },
  "language_info": {
   "codemirror_mode": {
    "name": "ipython",
    "version": 2
   },
   "file_extension": ".py",
   "mimetype": "text/x-python",
   "name": "python",
   "nbconvert_exporter": "python",
   "pygments_lexer": "ipython2",
   "version": "2.7.13"
  }
 },
 "nbformat": 4,
 "nbformat_minor": 2
}
