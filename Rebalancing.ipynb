{
 "cells": [
  {
   "cell_type": "code",
   "execution_count": 1,
   "metadata": {},
   "outputs": [
    {
     "name": "stdout",
     "output_type": "stream",
     "text": [
      "Populating the interactive namespace from numpy and matplotlib\n"
     ]
    }
   ],
   "source": [
    "%pylab inline\n",
    "import requests, zipfile\n",
    "import StringIO\n",
    "import datetime\n",
    "import pandas as pd\n",
    "import numpy as np"
   ]
  },
  {
   "cell_type": "code",
   "execution_count": 2,
   "metadata": {
    "collapsed": true
   },
   "outputs": [],
   "source": [
    "# find csv file for 2016-12\n",
    "basepath = 'tripdata/'\n",
    "\n",
    "year = 2017\n",
    "month = 3\n",
    "csvPath = '{}{:02}-citibike-tripdata.csv'.format(year, month)\n",
    "df = pd.read_csv(basepath + csvPath, parse_dates = ['Start Time', 'Stop Time'])"
   ]
  },
  {
   "cell_type": "code",
   "execution_count": 3,
   "metadata": {
    "collapsed": true
   },
   "outputs": [],
   "source": [
    "#rename columns\n",
    "new_cols = {'Trip Duration':'duration',\n",
    "            'Start Time': 'start_time',\n",
    "            'Stop Time':'stop_time', \n",
    "            'Start Station ID':'start_id',\n",
    "            'Start Station Name':'start_name',\n",
    "            'Start Station Latitude':'start_lat',\n",
    "            'Start Station Longitude':'start_long', \n",
    "            'End Station ID':'stop_id', \n",
    "            'End Station Name':'stop_name',\n",
    "            'End Station Latitude':'stop_lat', \n",
    "            'End Station Longitude':'stop_long',\n",
    "            'Bike ID':'bike_id',\n",
    "            'User Type':'user_type', \n",
    "            'Birth Year':'birth_year', \n",
    "            'Gender':'gender'}\n",
    "\n",
    "df = df.rename(columns = new_cols)"
   ]
  },
  {
   "cell_type": "code",
   "execution_count": 4,
   "metadata": {},
   "outputs": [],
   "source": [
    "# add a column called trip_id within\n",
    "df['trip_id'] = df.index.values\n",
    "\n",
    "# remove outlier (lat 0, long 0)\n",
    "df = df[~(df.stop_lat == 0.)]"
   ]
  },
  {
   "cell_type": "code",
   "execution_count": 44,
   "metadata": {},
   "outputs": [
    {
     "data": {
      "text/html": [
       "<div>\n",
       "<style>\n",
       "    .dataframe thead tr:only-child th {\n",
       "        text-align: right;\n",
       "    }\n",
       "\n",
       "    .dataframe thead th {\n",
       "        text-align: left;\n",
       "    }\n",
       "\n",
       "    .dataframe tbody tr th {\n",
       "        vertical-align: top;\n",
       "    }\n",
       "</style>\n",
       "<table border=\"1\" class=\"dataframe\">\n",
       "  <thead>\n",
       "    <tr style=\"text-align: right;\">\n",
       "      <th></th>\n",
       "      <th>name</th>\n",
       "      <th>lat</th>\n",
       "      <th>long</th>\n",
       "    </tr>\n",
       "    <tr>\n",
       "      <th>id</th>\n",
       "      <th></th>\n",
       "      <th></th>\n",
       "      <th></th>\n",
       "    </tr>\n",
       "  </thead>\n",
       "  <tbody>\n",
       "    <tr>\n",
       "      <th>72</th>\n",
       "      <td>W 52 St &amp; 11 Ave</td>\n",
       "      <td>40.767272</td>\n",
       "      <td>-73.993929</td>\n",
       "    </tr>\n",
       "    <tr>\n",
       "      <th>79</th>\n",
       "      <td>Franklin St &amp; W Broadway</td>\n",
       "      <td>40.719116</td>\n",
       "      <td>-74.006667</td>\n",
       "    </tr>\n",
       "    <tr>\n",
       "      <th>82</th>\n",
       "      <td>St James Pl &amp; Pearl St</td>\n",
       "      <td>40.711174</td>\n",
       "      <td>-74.000165</td>\n",
       "    </tr>\n",
       "    <tr>\n",
       "      <th>83</th>\n",
       "      <td>Atlantic Ave &amp; Fort Greene Pl</td>\n",
       "      <td>40.683826</td>\n",
       "      <td>-73.976323</td>\n",
       "    </tr>\n",
       "    <tr>\n",
       "      <th>116</th>\n",
       "      <td>W 17 St &amp; 8 Ave</td>\n",
       "      <td>40.741776</td>\n",
       "      <td>-74.001497</td>\n",
       "    </tr>\n",
       "  </tbody>\n",
       "</table>\n",
       "</div>"
      ],
      "text/plain": [
       "                              name        lat       long\n",
       "id                                                      \n",
       "72                W 52 St & 11 Ave  40.767272 -73.993929\n",
       "79        Franklin St & W Broadway  40.719116 -74.006667\n",
       "82          St James Pl & Pearl St  40.711174 -74.000165\n",
       "83   Atlantic Ave & Fort Greene Pl  40.683826 -73.976323\n",
       "116                W 17 St & 8 Ave  40.741776 -74.001497"
      ]
     },
     "execution_count": 44,
     "metadata": {},
     "output_type": "execute_result"
    }
   ],
   "source": [
    "#load stations.csv or create a stations df from tripdata\n",
    "import os\n",
    "if os.path.exists('stations.csv'):\n",
    "    stations = pd.read_csv('stations.csv', index_col='id')\n",
    "else:    \n",
    "    stations = df.groupby('start_id')['start_name', 'start_lat',\n",
    "           'start_long'].aggregate(lambda x: x.value_counts().index[0])\n",
    "    stations.columns = ['name','lat','long']\n",
    "    stations.index.name = 'id'\n",
    "    stations.sort_index(inplace = True)\n",
    "    stations.to_csv('stations.csv')\n",
    "    \n",
    "stations.head()"
   ]
  },
  {
   "cell_type": "code",
   "execution_count": 45,
   "metadata": {
    "collapsed": true
   },
   "outputs": [],
   "source": [
    "station_count = -1*df.groupby(['start_id'])['duration'].count().to_frame()\n",
    "station_count.rename(columns = {'duration' : 'out'}, inplace = True)\n",
    "station_count.index.rename('station_id', inplace = True)\n",
    "station_count['in'] = df.groupby(['stop_id'])['duration'].count()\n",
    "station_count['total'] = station_count['in'] - station_count['out']\n",
    "station_count['diff'] = station_count['in'] + station_count['out']\n",
    "station_count.sort_values(by = 'total', ascending = False, inplace = True)\n",
    "station_count['name'] = [stations.loc[x, 'name'] for x in station_count.index]\n",
    "station_count.rename(index = str, inplace = True)"
   ]
  },
  {
   "cell_type": "markdown",
   "metadata": {},
   "source": [
    "## Interesting stats"
   ]
  },
  {
   "cell_type": "code",
   "execution_count": 6,
   "metadata": {},
   "outputs": [
    {
     "name": "stdout",
     "output_type": "stream",
     "text": [
      "Total trips for 2017-03: 727664\n"
     ]
    }
   ],
   "source": [
    "print \"Total trips for {}-{:02}: {}\".format(year, month, df.shape[0])"
   ]
  },
  {
   "cell_type": "code",
   "execution_count": 7,
   "metadata": {},
   "outputs": [
    {
     "name": "stdout",
     "output_type": "stream",
     "text": [
      "% subscribers: 95.614\n"
     ]
    }
   ],
   "source": [
    "sub_trips = df[df.user_type == 'Subscriber'].shape[0] / float(df.shape[0])\n",
    "print \"% subscribers: {:.3f}\".format(100*sub_trips)"
   ]
  },
  {
   "cell_type": "code",
   "execution_count": 8,
   "metadata": {},
   "outputs": [
    {
     "name": "stdout",
     "output_type": "stream",
     "text": [
      "% Male trips: 74.038\n",
      "% Female trips: 21.091\n",
      "% other trips: 4.870\n"
     ]
    }
   ],
   "source": [
    "male_trips = df[df.gender == 1].shape[0] / float(df.shape[0])\n",
    "female_trips = df[df.gender == 2].shape[0] / float(df.shape[0])# add a column called trip_id within\n",
    "print \"% Male trips: {:.3f}\".format(100*male_trips)\n",
    "print \"% Female trips: {:.3f}\".format(100*female_trips)\n",
    "print \"% other trips: {:.3f}\".format(100*(1 - male_trips - female_trips))"
   ]
  },
  {
   "cell_type": "code",
   "execution_count": 9,
   "metadata": {},
   "outputs": [
    {
     "data": {
      "text/html": [
       "<div>\n",
       "<style>\n",
       "    .dataframe thead tr:only-child th {\n",
       "        text-align: right;\n",
       "    }\n",
       "\n",
       "    .dataframe thead th {\n",
       "        text-align: left;\n",
       "    }\n",
       "\n",
       "    .dataframe tbody tr th {\n",
       "        vertical-align: top;\n",
       "    }\n",
       "</style>\n",
       "<table border=\"1\" class=\"dataframe\">\n",
       "  <thead>\n",
       "    <tr style=\"text-align: right;\">\n",
       "      <th></th>\n",
       "      <th>start_name</th>\n",
       "      <th>start_lat</th>\n",
       "      <th>start_long</th>\n",
       "      <th>duration</th>\n",
       "    </tr>\n",
       "  </thead>\n",
       "  <tbody>\n",
       "    <tr>\n",
       "      <th>0</th>\n",
       "      <td>Pershing Square North</td>\n",
       "      <td>40.751873</td>\n",
       "      <td>-73.977706</td>\n",
       "      <td>9076</td>\n",
       "    </tr>\n",
       "    <tr>\n",
       "      <th>1</th>\n",
       "      <td>E 17 St &amp; Broadway</td>\n",
       "      <td>40.737050</td>\n",
       "      <td>-73.990093</td>\n",
       "      <td>5443</td>\n",
       "    </tr>\n",
       "    <tr>\n",
       "      <th>2</th>\n",
       "      <td>W 21 St &amp; 6 Ave</td>\n",
       "      <td>40.741740</td>\n",
       "      <td>-73.994156</td>\n",
       "      <td>5305</td>\n",
       "    </tr>\n",
       "    <tr>\n",
       "      <th>3</th>\n",
       "      <td>W 33 St &amp; 7 Ave</td>\n",
       "      <td>40.750200</td>\n",
       "      <td>-73.990931</td>\n",
       "      <td>5293</td>\n",
       "    </tr>\n",
       "    <tr>\n",
       "      <th>4</th>\n",
       "      <td>Broadway &amp; E 22 St</td>\n",
       "      <td>40.740343</td>\n",
       "      <td>-73.989551</td>\n",
       "      <td>5173</td>\n",
       "    </tr>\n",
       "  </tbody>\n",
       "</table>\n",
       "</div>"
      ],
      "text/plain": [
       "              start_name  start_lat  start_long  duration\n",
       "0  Pershing Square North  40.751873  -73.977706      9076\n",
       "1     E 17 St & Broadway  40.737050  -73.990093      5443\n",
       "2        W 21 St & 6 Ave  40.741740  -73.994156      5305\n",
       "3        W 33 St & 7 Ave  40.750200  -73.990931      5293\n",
       "4     Broadway & E 22 St  40.740343  -73.989551      5173"
      ]
     },
     "execution_count": 9,
     "metadata": {},
     "output_type": "execute_result"
    }
   ],
   "source": [
    "# top 10 starting locations\n",
    "top_starts = df.groupby(['start_name', 'start_lat', 'start_long']).count().duration.sort_values(ascending = False)\n",
    "top_starts = top_starts.reset_index()\n",
    "top_starts.head()"
   ]
  },
  {
   "cell_type": "code",
   "execution_count": 10,
   "metadata": {},
   "outputs": [
    {
     "data": {
      "text/html": [
       "<div>\n",
       "<style>\n",
       "    .dataframe thead tr:only-child th {\n",
       "        text-align: right;\n",
       "    }\n",
       "\n",
       "    .dataframe thead th {\n",
       "        text-align: left;\n",
       "    }\n",
       "\n",
       "    .dataframe tbody tr th {\n",
       "        vertical-align: top;\n",
       "    }\n",
       "</style>\n",
       "<table border=\"1\" class=\"dataframe\">\n",
       "  <thead>\n",
       "    <tr style=\"text-align: right;\">\n",
       "      <th></th>\n",
       "      <th>stop_name</th>\n",
       "      <th>stop_lat</th>\n",
       "      <th>stop_long</th>\n",
       "      <th>duration</th>\n",
       "    </tr>\n",
       "  </thead>\n",
       "  <tbody>\n",
       "    <tr>\n",
       "      <th>0</th>\n",
       "      <td>Pershing Square North</td>\n",
       "      <td>40.751873</td>\n",
       "      <td>-73.977706</td>\n",
       "      <td>9014</td>\n",
       "    </tr>\n",
       "    <tr>\n",
       "      <th>1</th>\n",
       "      <td>W 33 St &amp; 7 Ave</td>\n",
       "      <td>40.750200</td>\n",
       "      <td>-73.990931</td>\n",
       "      <td>6312</td>\n",
       "    </tr>\n",
       "    <tr>\n",
       "      <th>2</th>\n",
       "      <td>E 17 St &amp; Broadway</td>\n",
       "      <td>40.737050</td>\n",
       "      <td>-73.990093</td>\n",
       "      <td>5894</td>\n",
       "    </tr>\n",
       "    <tr>\n",
       "      <th>3</th>\n",
       "      <td>Broadway &amp; E 22 St</td>\n",
       "      <td>40.740343</td>\n",
       "      <td>-73.989551</td>\n",
       "      <td>5608</td>\n",
       "    </tr>\n",
       "    <tr>\n",
       "      <th>4</th>\n",
       "      <td>W 21 St &amp; 6 Ave</td>\n",
       "      <td>40.741740</td>\n",
       "      <td>-73.994156</td>\n",
       "      <td>5375</td>\n",
       "    </tr>\n",
       "  </tbody>\n",
       "</table>\n",
       "</div>"
      ],
      "text/plain": [
       "               stop_name   stop_lat  stop_long  duration\n",
       "0  Pershing Square North  40.751873 -73.977706      9014\n",
       "1        W 33 St & 7 Ave  40.750200 -73.990931      6312\n",
       "2     E 17 St & Broadway  40.737050 -73.990093      5894\n",
       "3     Broadway & E 22 St  40.740343 -73.989551      5608\n",
       "4        W 21 St & 6 Ave  40.741740 -73.994156      5375"
      ]
     },
     "execution_count": 10,
     "metadata": {},
     "output_type": "execute_result"
    }
   ],
   "source": [
    "# top 10 stopping locations\n",
    "top_stops = df.groupby(['stop_name', 'stop_lat', 'stop_long']).count().duration.sort_values(ascending = False)\n",
    "top_stops = top_stops.reset_index()\n",
    "top_stops.head()"
   ]
  },
  {
   "cell_type": "code",
   "execution_count": 11,
   "metadata": {},
   "outputs": [
    {
     "data": {
      "text/html": [
       "<div>\n",
       "<style>\n",
       "    .dataframe thead tr:only-child th {\n",
       "        text-align: right;\n",
       "    }\n",
       "\n",
       "    .dataframe thead th {\n",
       "        text-align: left;\n",
       "    }\n",
       "\n",
       "    .dataframe tbody tr th {\n",
       "        vertical-align: top;\n",
       "    }\n",
       "</style>\n",
       "<table border=\"1\" class=\"dataframe\">\n",
       "  <thead>\n",
       "    <tr style=\"text-align: right;\">\n",
       "      <th></th>\n",
       "      <th>stop_name</th>\n",
       "      <th>stop_lat</th>\n",
       "      <th>stop_long</th>\n",
       "      <th>duration</th>\n",
       "    </tr>\n",
       "  </thead>\n",
       "  <tbody>\n",
       "  </tbody>\n",
       "</table>\n",
       "</div>"
      ],
      "text/plain": [
       "Empty DataFrame\n",
       "Columns: [stop_name, stop_lat, stop_long, duration]\n",
       "Index: []"
      ]
     },
     "execution_count": 11,
     "metadata": {},
     "output_type": "execute_result"
    }
   ],
   "source": [
    "top_stops[top_stops.stop_long == 0]"
   ]
  },
  {
   "cell_type": "code",
   "execution_count": 12,
   "metadata": {},
   "outputs": [
    {
     "data": {
      "image/png": "[encoded data removed]",
      "text/plain": [
       "<matplotlib.figure.Figure at 0x7fee67b70c50>"
      ]
     },
     "metadata": {},
     "output_type": "display_data"
    },
    {
     "data": {
      "image/png": "[encoded data removed]",
      "text/plain": [
       "<matplotlib.figure.Figure at 0x7fee64994150>"
      ]
     },
     "metadata": {},
     "output_type": "display_data"
    }
   ],
   "source": [
    "def plot_top_stations(df, x_values, y_values):\n",
    "    pl = df.plot(kind = 'scatter', x = x_values, y = y_values, \n",
    "                alpha = 0.3, figsize = (5,8))\n",
    "    df.head(10).reset_index().plot(kind = 'scatter', x = x_values,\n",
    "                 color = 'r', y = y_values, ax = pl)\n",
    "\n",
    "plot_top_stations(top_starts, 'start_long', 'start_lat')\n",
    "plot_top_stations(top_stops, 'stop_long', 'stop_lat')"
   ]
  },
  {
   "cell_type": "markdown",
   "metadata": {},
   "source": [
    "## Rebalancing"
   ]
  },
  {
   "cell_type": "code",
   "execution_count": 22,
   "metadata": {
    "collapsed": true
   },
   "outputs": [],
   "source": [
    "# examine transfers from before and after a given trip\n",
    "\n",
    "def pre_trip_xfer(df):\n",
    "    '''the first trip is isis removed, and a False value is added later'''\n",
    "    mask = (df.start_id.values[1:] != df.stop_id.values[:-1])\n",
    "    # add False to the first item, and reture a single array\n",
    "    mask = np.hstack((False, mask))\n",
    "    return df[mask].index.values # return value is an array, hence capable of groupby\n",
    "\n",
    "# find index where the bike's current end station is not *next* start station\n",
    "# hence is bike is xferrt chain\n",
    "\n",
    "def post_trip_xfer(df):\n",
    "    '''the last trip is removed, and a False value is added later'''\n",
    "    mask = (df.start_id.values[1:] != df.stop_id.values[:-1])\n",
    "    # add False to the first item, and reture a single array\n",
    "    mask = np.hstack((mask, False))\n",
    "    return df[mask].index.values  # return value is an array, hence capable of groupby"
   ]
  },
  {
   "cell_type": "code",
   "execution_count": 25,
   "metadata": {},
   "outputs": [],
   "source": [
    "from itertools import chain\n",
    "\n",
    "def find_xfers(df, pre_or_post = ''):\n",
    "    \n",
    "    # for IN xfers, use pre_or_post = 'pre', \n",
    "    # for OUT xfers,  use pre_or_post = 'post'\n",
    "    if pre_or_post == 'pre':\n",
    "        by_bike_id = df.groupby('bike_id').apply(pre_trip_xfer)\n",
    "    elif pre_or_post == 'post':\n",
    "        by_bike_id = df.groupby('bike_id').apply(post_trip_xfer)\n",
    "    else: \n",
    "        raise Exception('Please specifiy \"pre\" or \"post\"')\n",
    "        \n",
    "    xfer_trip_ids = list(chain.from_iterable(by_bike_id.values))\n",
    "    return df[df.index.isin(xfer_trip_ids)]\n",
    "\n",
    "xfers_in = find_xfers(df, pre_or_post = 'pre')\n",
    "xfers_out = find_xfers(df, pre_or_post = 'post')"
   ]
  },
  {
   "cell_type": "code",
   "execution_count": null,
   "metadata": {
    "collapsed": true
   },
   "outputs": [],
   "source": []
  },
  {
   "cell_type": "code",
   "execution_count": 36,
   "metadata": {},
   "outputs": [],
   "source": [
    "#visualize rebalancing (with Bokeh)\n",
    "import bokeh.plotting as bkp\n",
    "import bokeh.models as bkm\n",
    "import bokeh.charts as bkc\n",
    "from bokeh.layouts import gridplot\n",
    "\n",
    "N = 20  # number of top choices\n",
    "station_lists = [0, 0]\n",
    "station_lists[0] = xfers_in.groupby('start_id').apply(\n",
    "                        lambda x: x.trip_id.count()).sort_values(ascending = False)[:N]\n",
    "station_lists[1] = xfers_out.groupby('stop_id').apply(\n",
    "                        lambda x: x.trip_id.count()).sort_values(ascending = False)[:N]"
   ]
  },
  {
   "cell_type": "code",
   "execution_count": 48,
   "metadata": {},
   "outputs": [
    {
     "data": {
      "text/html": [
       "\n",
       "    <div class=\"bk-root\">\n",
       "        <a href=\"http://bokeh.pydata.org\" target=\"_blank\" class=\"bk-logo bk-logo-small bk-logo-notebook\"></a>\n",
       "        <span id=\"3c183de5-868a-4d38-9d3e-75d4adb5e7b5\">Loading BokehJS ...</span>\n",
       "    </div>"
      ]
     },
     "metadata": {},
     "output_type": "display_data"
    },
    {
     "data": {
      "application/javascript": [
       "\n",
       "(function(global) {\n",
       "  function now() {\n",
       "    return new Date();\n",
       "  }\n",
       "\n",
       "  var force = true;\n",
       "\n",
       "  if (typeof (window._bokeh_onload_callbacks) === \"undefined\" || force === true) {\n",
       "    window._bokeh_onload_callbacks = [];\n",
       "    window._bokeh_is_loading = undefined;\n",
       "  }\n",
       "\n",
       "\n",
       "  \n",
       "  if (typeof (window._bokeh_timeout) === \"undefined\" || force === true) {\n",
       "    window._bokeh_timeout = Date.now() + 5000;\n",
       "    window._bokeh_failed_load = false;\n",
       "  }\n",
       "\n",
       "  var NB_LOAD_WARNING = {'data': {'text/html':\n",
       "     \"<div style='background-color: #fdd'>\\n\"+\n",
       "     \"<p>\\n\"+\n",
       "     \"BokehJS does not appear to have successfully loaded. If loading BokehJS from CDN, this \\n\"+\n",
       "     \"may be due to a slow or bad network connection. Possible fixes:\\n\"+\n",
       "     \"</p>\\n\"+\n",
       "     \"<ul>\\n\"+\n",
       "     \"<li>re-rerun `output_notebook()` to attempt to load from CDN again, or</li>\\n\"+\n",
       "     \"<li>use INLINE resources instead, as so:</li>\\n\"+\n",
       "     \"</ul>\\n\"+\n",
       "     \"<code>\\n\"+\n",
       "     \"from bokeh.resources import INLINE\\n\"+\n",
       "     \"output_notebook(resources=INLINE)\\n\"+\n",
       "     \"</code>\\n\"+\n",
       "     \"</div>\"}};\n",
       "\n",
       "  function display_loaded() {\n",
       "    if (window.Bokeh !== undefined) {\n",
       "      var el = document.getElementById(\"3c183de5-868a-4d38-9d3e-75d4adb5e7b5\");\n",
       "      el.textContent = \"BokehJS \" + Bokeh.version + \" successfully loaded.\";\n",
       "    } else if (Date.now() < window._bokeh_timeout) {\n",
       "      setTimeout(display_loaded, 100)\n",
       "    }\n",
       "  }\n",
       "\n",
       "  function run_callbacks() {\n",
       "    window._bokeh_onload_callbacks.forEach(function(callback) { callback() });\n",
       "    delete window._bokeh_onload_callbacks\n",
       "    console.info(\"Bokeh: all callbacks have finished\");\n",
       "  }\n",
       "\n",
       "  function load_libs(js_urls, callback) {\n",
       "    window._bokeh_onload_callbacks.push(callback);\n",
       "    if (window._bokeh_is_loading > 0) {\n",
       "      console.log(\"Bokeh: BokehJS is being loaded, scheduling callback at\", now());\n",
       "      return null;\n",
       "    }\n",
       "    if (js_urls == null || js_urls.length === 0) {\n",
       "      run_callbacks();\n",
       "      return null;\n",
       "    }\n",
       "    console.log(\"Bokeh: BokehJS not loaded, scheduling load and callback at\", now());\n",
       "    window._bokeh_is_loading = js_urls.length;\n",
       "    for (var i = 0; i < js_urls.length; i++) {\n",
       "      var url = js_urls[i];\n",
       "      var s = document.createElement('script');\n",
       "      s.src = url;\n",
       "      s.async = false;\n",
       "      s.onreadystatechange = s.onload = function() {\n",
       "        window._bokeh_is_loading--;\n",
       "        if (window._bokeh_is_loading === 0) {\n",
       "          console.log(\"Bokeh: all BokehJS libraries loaded\");\n",
       "          run_callbacks()\n",
       "        }\n",
       "      };\n",
       "      s.onerror = function() {\n",
       "        console.warn(\"failed to load library \" + url);\n",
       "      };\n",
       "      console.log(\"Bokeh: injecting script tag for BokehJS library: \", url);\n",
       "      document.getElementsByTagName(\"head\")[0].appendChild(s);\n",
       "    }\n",
       "  };var element = document.getElementById(\"3c183de5-868a-4d38-9d3e-75d4adb5e7b5\");\n",
       "  if (element == null) {\n",
       "    console.log(\"Bokeh: ERROR: autoload.js configured with elementid '3c183de5-868a-4d38-9d3e-75d4adb5e7b5' but no matching script tag was found. \")\n",
       "    return false;\n",
       "  }\n",
       "\n",
       "  var js_urls = [\"https://cdn.pydata.org/bokeh/release/bokeh-0.12.5.min.js\", \"https://cdn.pydata.org/bokeh/release/bokeh-widgets-0.12.5.min.js\"];\n",
       "\n",
       "  var inline_js = [\n",
       "    function(Bokeh) {\n",
       "      Bokeh.set_log_level(\"info\");\n",
       "    },\n",
       "    \n",
       "    function(Bokeh) {\n",
       "      \n",
       "    },\n",
       "    \n",
       "    function(Bokeh) {\n",
       "      \n",
       "      document.getElementById(\"3c183de5-868a-4d38-9d3e-75d4adb5e7b5\").textContent = \"BokehJS is loading...\";\n",
       "    },\n",
       "    function(Bokeh) {\n",
       "      console.log(\"Bokeh: injecting CSS: https://cdn.pydata.org/bokeh/release/bokeh-0.12.5.min.css\");\n",
       "      Bokeh.embed.inject_css(\"https://cdn.pydata.org/bokeh/release/bokeh-0.12.5.min.css\");\n",
       "      console.log(\"Bokeh: injecting CSS: https://cdn.pydata.org/bokeh/release/bokeh-widgets-0.12.5.min.css\");\n",
       "      Bokeh.embed.inject_css(\"https://cdn.pydata.org/bokeh/release/bokeh-widgets-0.12.5.min.css\");\n",
       "    }\n",
       "  ];\n",
       "\n",
       "  function run_inline_js() {\n",
       "    \n",
       "    if ((window.Bokeh !== undefined) || (force === true)) {\n",
       "      for (var i = 0; i < inline_js.length; i++) {\n",
       "        inline_js[i](window.Bokeh);\n",
       "      }if (force === true) {\n",
       "        display_loaded();\n",
       "      }} else if (Date.now() < window._bokeh_timeout) {\n",
       "      setTimeout(run_inline_js, 100);\n",
       "    } else if (!window._bokeh_failed_load) {\n",
       "      console.log(\"Bokeh: BokehJS failed to load within specified timeout.\");\n",
       "      window._bokeh_failed_load = true;\n",
       "    } else if (force !== true) {\n",
       "      var cell = $(document.getElementById(\"3c183de5-868a-4d38-9d3e-75d4adb5e7b5\")).parents('.cell').data().cell;\n",
       "      cell.output_area.append_execute_result(NB_LOAD_WARNING)\n",
       "    }\n",
       "\n",
       "  }\n",
       "\n",
       "  if (window._bokeh_is_loading === 0) {\n",
       "    console.log(\"Bokeh: BokehJS loaded, going straight to plotting\");\n",
       "    run_inline_js();\n",
       "  } else {\n",
       "    load_libs(js_urls, function() {\n",
       "      console.log(\"Bokeh: BokehJS plotting callback run at\", now());\n",
       "      run_inline_js();\n",
       "    });\n",
       "  }\n",
       "}(this));"
      ]
     },
     "metadata": {},
     "output_type": "display_data"
    },
    {
     "data": {
      "text/html": [
       "\n",
       "\n",
       "    <div class=\"bk-root\">\n",
       "        <div class=\"bk-plotdiv\" id=\"8930c6c5-17eb-448b-9b51-cb5c4306d7cd\"></div>\n",
       "    </div>\n",
       "<script type=\"text/javascript\">\n",
       "  \n",
       "  (function(global) {\n",
       "    function now() {\n",
       "      return new Date();\n",
       "    }\n",
       "  \n",
       "    var force = false;\n",
       "  \n",
       "    if (typeof (window._bokeh_onload_callbacks) === \"undefined\" || force === true) {\n",
       "      window._bokeh_onload_callbacks = [];\n",
       "      window._bokeh_is_loading = undefined;\n",
       "    }\n",
       "  \n",
       "  \n",
       "    \n",
       "    if (typeof (window._bokeh_timeout) === \"undefined\" || force === true) {\n",
       "      window._bokeh_timeout = Date.now() + 0;\n",
       "      window._bokeh_failed_load = false;\n",
       "    }\n",
       "  \n",
       "    var NB_LOAD_WARNING = {'data': {'text/html':\n",
       "       \"<div style='background-color: #fdd'>\\n\"+\n",
       "       \"<p>\\n\"+\n",
       "       \"BokehJS does not appear to have successfully loaded. If loading BokehJS from CDN, this \\n\"+\n",
       "       \"may be due to a slow or bad network connection. Possible fixes:\\n\"+\n",
       "       \"</p>\\n\"+\n",
       "       \"<ul>\\n\"+\n",
       "       \"<li>re-rerun `output_notebook()` to attempt to load from CDN again, or</li>\\n\"+\n",
       "       \"<li>use INLINE resources instead, as so:</li>\\n\"+\n",
       "       \"</ul>\\n\"+\n",
       "       \"<code>\\n\"+\n",
       "       \"from bokeh.resources import INLINE\\n\"+\n",
       "       \"output_notebook(resources=INLINE)\\n\"+\n",
       "       \"</code>\\n\"+\n",
       "       \"</div>\"}};\n",
       "  \n",
       "    function display_loaded() {\n",
       "      if (window.Bokeh !== undefined) {\n",
       "        var el = document.getElementById(\"8930c6c5-17eb-448b-9b51-cb5c4306d7cd\");\n",
       "        el.textContent = \"BokehJS \" + Bokeh.version + \" successfully loaded.\";\n",
       "      } else if (Date.now() < window._bokeh_timeout) {\n",
       "        setTimeout(display_loaded, 100)\n",
       "      }\n",
       "    }\n",
       "  \n",
       "    function run_callbacks() {\n",
       "      window._bokeh_onload_callbacks.forEach(function(callback) { callback() });\n",
       "      delete window._bokeh_onload_callbacks\n",
       "      console.info(\"Bokeh: all callbacks have finished\");\n",
       "    }\n",
       "  \n",
       "    function load_libs(js_urls, callback) {\n",
       "      window._bokeh_onload_callbacks.push(callback);\n",
       "      if (window._bokeh_is_loading > 0) {\n",
       "        console.log(\"Bokeh: BokehJS is being loaded, scheduling callback at\", now());\n",
       "        return null;\n",
       "      }\n",
       "      if (js_urls == null || js_urls.length === 0) {\n",
       "        run_callbacks();\n",
       "        return null;\n",
       "      }\n",
       "      console.log(\"Bokeh: BokehJS not loaded, scheduling load and callback at\", now());\n",
       "      window._bokeh_is_loading = js_urls.length;\n",
       "      for (var i = 0; i < js_urls.length; i++) {\n",
       "        var url = js_urls[i];\n",
       "        var s = document.createElement('script');\n",
       "        s.src = url;\n",
       "        s.async = false;\n",
       "        s.onreadystatechange = s.onload = function() {\n",
       "          window._bokeh_is_loading--;\n",
       "          if (window._bokeh_is_loading === 0) {\n",
       "            console.log(\"Bokeh: all BokehJS libraries loaded\");\n",
       "            run_callbacks()\n",
       "          }\n",
       "        };\n",
       "        s.onerror = function() {\n",
       "          console.warn(\"failed to load library \" + url);\n",
       "        };\n",
       "        console.log(\"Bokeh: injecting script tag for BokehJS library: \", url);\n",
       "        document.getElementsByTagName(\"head\")[0].appendChild(s);\n",
       "      }\n",
       "    };var element = document.getElementById(\"8930c6c5-17eb-448b-9b51-cb5c4306d7cd\");\n",
       "    if (element == null) {\n",
       "      console.log(\"Bokeh: ERROR: autoload.js configured with elementid '8930c6c5-17eb-448b-9b51-cb5c4306d7cd' but no matching script tag was found. \")\n",
       "      return false;\n",
       "    }\n",
       "  \n",
       "    var js_urls = [];\n",
       "  \n",
       "    var inline_js = [\n",
       "      function(Bokeh) {\n",
       "        (function() {\n",
       "          var fn = function() {\n",
       "            var docs_json = {\"4c738883-d30d-4826-8fee-7e66287b2eb5\":{\"roots\":{\"references\":[{\"attributes\":{\"data_source\":{\"id\":\"57ceb153-4dad-4615-8ad0-03b91cde1bfe\",\"type\":\"ColumnDataSource\"},\"glyph\":{\"id\":\"2e1aecf8-8e95-4281-84e4-4c330e072189\",\"type\":\"VBar\"},\"hover_glyph\":null,\"muted_glyph\":null,\"nonselection_glyph\":{\"id\":\"837b134b-4734-4e76-bb9b-216ca3ce0881\",\"type\":\"VBar\"},\"selection_glyph\":null},\"id\":\"0cb1600b-974e-491d-b315-69fe031414fd\",\"type\":\"GlyphRenderer\"},{\"attributes\":{\"callback\":null},\"id\":\"414b7144-a7c2-4a8b-82cd-b11c03b77843\",\"type\":\"DataRange1d\"},{\"attributes\":{\"overlay\":{\"id\":\"bbf0addf-117b-4a1e-94c4-9e96da9dfc9b\",\"type\":\"BoxAnnotation\"},\"plot\":{\"id\":\"e1c79957-3ebb-4260-ba0c-cca551ddc221\",\"subtype\":\"Figure\",\"type\":\"Plot\"}},\"id\":\"53b5e466-c808-4547-8b19-b116b1276a4d\",\"type\":\"BoxZoomTool\"},{\"attributes\":{\"axis_label\":\"Counts\",\"formatter\":{\"id\":\"63537ae8-595a-4c75-b329-12ca0f1d769f\",\"type\":\"BasicTickFormatter\"},\"plot\":{\"id\":\"e1c79957-3ebb-4260-ba0c-cca551ddc221\",\"subtype\":\"Figure\",\"type\":\"Plot\"},\"ticker\":{\"id\":\"37cafa35-18a3-4b17-a195-ba7da36578d4\",\"type\":\"BasicTicker\"}},\"id\":\"c2f1aaa4-49db-4cf5-8629-8f6951eb13d2\",\"type\":\"LinearAxis\"},{\"attributes\":{},\"id\":\"1dc67a20-9f76-439a-9e53-e5b07597a03c\",\"type\":\"CategoricalTicker\"},{\"attributes\":{\"fill_alpha\":{\"value\":0.5},\"fill_color\":{\"value\":\"red\"},\"line_alpha\":{\"value\":0.0},\"line_color\":{\"value\":\"red\"},\"top\":{\"field\":\"count\"},\"width\":{\"value\":0.8},\"x\":{\"field\":\"station\"}},\"id\":\"1e2a3b87-917d-4774-8fcf-fba73562f858\",\"type\":\"VBar\"},{\"attributes\":{\"fill_color\":{\"value\":\"black\"},\"line_alpha\":{\"value\":0.0},\"top\":{\"field\":\"diff\"},\"width\":{\"value\":0.8},\"x\":{\"field\":\"station\"}},\"id\":\"5afa0b82-84ee-4c82-b52b-1e6776a6c207\",\"type\":\"VBar\"},{\"attributes\":{\"plot\":{\"id\":\"33e8f864-b0df-4481-ac04-44006b5e9bf6\",\"subtype\":\"Figure\",\"type\":\"Plot\"}},\"id\":\"71e4848f-85ee-4c08-bd33-87df808f0e51\",\"type\":\"ResetTool\"},{\"attributes\":{},\"id\":\"63537ae8-595a-4c75-b329-12ca0f1d769f\",\"type\":\"BasicTickFormatter\"},{\"attributes\":{\"callback\":null,\"plot\":{\"id\":\"33e8f864-b0df-4481-ac04-44006b5e9bf6\",\"subtype\":\"Figure\",\"type\":\"Plot\"},\"renderers\":[{\"id\":\"4ee0b926-90ff-4fd1-93a8-10f0dae0ace2\",\"type\":\"GlyphRenderer\"}],\"tooltips\":[[\"Station\",\"@name\"],[\"Transferred OUT\",\"@count\"],[\"In - Out\",\"@diff\"]]},\"id\":\"d991d396-c75e-48ae-91dc-72f4037d6e8a\",\"type\":\"HoverTool\"},{\"attributes\":{\"active_drag\":\"auto\",\"active_scroll\":\"auto\",\"active_tap\":\"auto\",\"tools\":[{\"id\":\"5be46441-5fcf-4481-83e7-57e340ccb364\",\"type\":\"PanTool\"},{\"id\":\"53b5e466-c808-4547-8b19-b116b1276a4d\",\"type\":\"BoxZoomTool\"},{\"id\":\"02af84ec-dea2-4b5d-9471-1c0ed39827d6\",\"type\":\"ResetTool\"},{\"id\":\"ed50c627-b3a8-4a34-b008-5a5b61bacc73\",\"type\":\"ResizeTool\"},{\"id\":\"7f308f84-35ae-4f61-96de-175d57d4a325\",\"type\":\"SaveTool\"},{\"id\":\"7075b816-d721-4603-8cd7-ada8c155d717\",\"type\":\"HoverTool\"}]},\"id\":\"b327b244-4b25-4248-944c-14a006de2969\",\"type\":\"Toolbar\"},{\"attributes\":{\"below\":[{\"id\":\"f7073cf8-2208-4d8d-bec7-7cf2c869313b\",\"type\":\"CategoricalAxis\"}],\"left\":[{\"id\":\"c2f1aaa4-49db-4cf5-8629-8f6951eb13d2\",\"type\":\"LinearAxis\"}],\"plot_height\":300,\"plot_width\":350,\"renderers\":[{\"id\":\"f7073cf8-2208-4d8d-bec7-7cf2c869313b\",\"type\":\"CategoricalAxis\"},{\"id\":\"74828af5-293a-4aef-be7d-ee9b670767ec\",\"type\":\"Grid\"},{\"id\":\"c2f1aaa4-49db-4cf5-8629-8f6951eb13d2\",\"type\":\"LinearAxis\"},{\"id\":\"03bcdea3-340a-4c87-9fe3-a8f9de2f3001\",\"type\":\"Grid\"},{\"id\":\"bbf0addf-117b-4a1e-94c4-9e96da9dfc9b\",\"type\":\"BoxAnnotation\"},{\"id\":\"1d242205-d3e4-41c7-911a-17f09bc4a273\",\"type\":\"GlyphRenderer\"},{\"id\":\"cb021db3-68bc-4c69-8d4a-a22a722998a8\",\"type\":\"GlyphRenderer\"}],\"title\":{\"id\":\"e793f7cc-4176-4145-a7a6-5da59c057606\",\"type\":\"Title\"},\"tool_events\":{\"id\":\"6546053a-7958-4d8e-916b-2d970efa33b1\",\"type\":\"ToolEvents\"},\"toolbar\":{\"id\":\"b327b244-4b25-4248-944c-14a006de2969\",\"type\":\"Toolbar\"},\"toolbar_location\":null,\"x_range\":{\"id\":\"f94acd6a-e427-42df-9330-49fd87119d97\",\"type\":\"FactorRange\"},\"y_range\":{\"id\":\"1d48ca47-0986-40f8-a906-bd59d5fc9e11\",\"type\":\"DataRange1d\"}},\"id\":\"e1c79957-3ebb-4260-ba0c-cca551ddc221\",\"subtype\":\"Figure\",\"type\":\"Plot\"},{\"attributes\":{\"dimension\":1,\"plot\":{\"id\":\"33e8f864-b0df-4481-ac04-44006b5e9bf6\",\"subtype\":\"Figure\",\"type\":\"Plot\"},\"ticker\":{\"id\":\"75d0a40e-08cd-4bc9-a35a-43d8923b3a3d\",\"type\":\"BasicTicker\"}},\"id\":\"6659a184-18e2-486d-97d5-122450b08114\",\"type\":\"Grid\"},{\"attributes\":{\"plot\":{\"id\":\"33e8f864-b0df-4481-ac04-44006b5e9bf6\",\"subtype\":\"Figure\",\"type\":\"Plot\"}},\"id\":\"0d550c79-9eb2-427d-ac5c-5c4ceeae45e9\",\"type\":\"SaveTool\"},{\"attributes\":{\"callback\":null,\"column_names\":[\"count\",\"diff\",\"station\",\"name\"],\"data\":{\"count\":[994,884,699,504,460,406,380,314,311,310,299,272,265,261,247,232,221,220,203,202],\"diff\":[1081,443,661,-150,547,394,517,-239,264,364,-1019,357,241,204,292,62,148,-186,240,215],\"name\":[\"Penn Station Valet - Valet Scan\",\"E 14 St & Avenue B\",\"E 10 St & Avenue A\",\"E 7 St & Avenue A\",\"Columbus Ave & W 72 St\",\"Pershing Square South\",\"W 42 St & Dyer Ave\",\"E 20 St & FDR Drive\",\"1 Ave & E 18 St\",\"Central Park West & W 68 St\",\"W 33 St & 7 Ave\",\"W 31 St & 7 Ave\",\"Broadway & W 53 St\",\"E 13 St & Avenue A\",\"Central Park West & W 72 St\",\"Pershing Square North\",\"8 Ave & W 33 St\",\"Broadway & Battery Pl\",\"DeKalb Ave & Vanderbilt Ave\",\"Central Park West & W 76 St\"],\"station\":[\"3450\",\"511\",\"445\",\"432\",\"3164\",\"517\",\"3236\",\"487\",\"2003\",\"3163\",\"492\",\"379\",\"469\",\"433\",\"3165\",\"519\",\"490\",\"304\",\"258\",\"3160\"]}},\"id\":\"553db27c-4a18-49c6-9c06-2f22074b9d3e\",\"type\":\"ColumnDataSource\"},{\"attributes\":{\"sizing_mode\":\"scale_width\",\"toolbar_location\":\"above\",\"tools\":[{\"id\":\"5be46441-5fcf-4481-83e7-57e340ccb364\",\"type\":\"PanTool\"},{\"id\":\"53b5e466-c808-4547-8b19-b116b1276a4d\",\"type\":\"BoxZoomTool\"},{\"id\":\"02af84ec-dea2-4b5d-9471-1c0ed39827d6\",\"type\":\"ResetTool\"},{\"id\":\"ed50c627-b3a8-4a34-b008-5a5b61bacc73\",\"type\":\"ResizeTool\"},{\"id\":\"7f308f84-35ae-4f61-96de-175d57d4a325\",\"type\":\"SaveTool\"},{\"id\":\"7075b816-d721-4603-8cd7-ada8c155d717\",\"type\":\"HoverTool\"},{\"id\":\"ce4ecde8-3f3a-4db5-980d-c59f83e8975c\",\"type\":\"PanTool\"},{\"id\":\"0c43ae05-b70b-47d9-bc1c-fc3122e3bfe3\",\"type\":\"BoxZoomTool\"},{\"id\":\"71e4848f-85ee-4c08-bd33-87df808f0e51\",\"type\":\"ResetTool\"},{\"id\":\"2bf37f36-743e-4db8-9bf8-c76deb04caba\",\"type\":\"ResizeTool\"},{\"id\":\"0d550c79-9eb2-427d-ac5c-5c4ceeae45e9\",\"type\":\"SaveTool\"},{\"id\":\"d991d396-c75e-48ae-91dc-72f4037d6e8a\",\"type\":\"HoverTool\"}]},\"id\":\"5335eefb-a2c7-4847-9809-4dd904faf9f3\",\"type\":\"ToolbarBox\"},{\"attributes\":{\"plot\":null,\"text\":\"Transferred OUT\"},\"id\":\"14a350b8-34fd-4fcd-8dc5-926d893d7fea\",\"type\":\"Title\"},{\"attributes\":{\"axis_label\":\"Station id\",\"formatter\":{\"id\":\"72fbd565-df8b-4621-bb0f-8e44c1d60bf3\",\"type\":\"CategoricalTickFormatter\"},\"major_label_orientation\":0.7853981633974483,\"plot\":{\"id\":\"e1c79957-3ebb-4260-ba0c-cca551ddc221\",\"subtype\":\"Figure\",\"type\":\"Plot\"},\"ticker\":{\"id\":\"1dc67a20-9f76-439a-9e53-e5b07597a03c\",\"type\":\"CategoricalTicker\"}},\"id\":\"f7073cf8-2208-4d8d-bec7-7cf2c869313b\",\"type\":\"CategoricalAxis\"},{\"attributes\":{\"bottom_units\":\"screen\",\"fill_alpha\":{\"value\":0.5},\"fill_color\":{\"value\":\"lightgrey\"},\"left_units\":\"screen\",\"level\":\"overlay\",\"line_alpha\":{\"value\":1.0},\"line_color\":{\"value\":\"black\"},\"line_dash\":[4,4],\"line_width\":{\"value\":2},\"plot\":null,\"render_mode\":\"css\",\"right_units\":\"screen\",\"top_units\":\"screen\"},\"id\":\"bbf0addf-117b-4a1e-94c4-9e96da9dfc9b\",\"type\":\"BoxAnnotation\"},{\"attributes\":{\"children\":[{\"id\":\"fadf0fe9-6024-43a5-b73b-f89a67be57ee\",\"type\":\"Row\"}]},\"id\":\"deee81ba-2dc6-4925-a7ca-8368a8d0ec56\",\"type\":\"Column\"},{\"attributes\":{\"fill_alpha\":{\"value\":0.1},\"fill_color\":{\"value\":\"#1f77b4\"},\"line_alpha\":{\"value\":0.1},\"line_color\":{\"value\":\"#1f77b4\"},\"top\":{\"field\":\"diff\"},\"width\":{\"value\":0.8},\"x\":{\"field\":\"station\"}},\"id\":\"837b134b-4734-4e76-bb9b-216ca3ce0881\",\"type\":\"VBar\"},{\"attributes\":{\"active_drag\":\"auto\",\"active_scroll\":\"auto\",\"active_tap\":\"auto\",\"tools\":[{\"id\":\"ce4ecde8-3f3a-4db5-980d-c59f83e8975c\",\"type\":\"PanTool\"},{\"id\":\"0c43ae05-b70b-47d9-bc1c-fc3122e3bfe3\",\"type\":\"BoxZoomTool\"},{\"id\":\"71e4848f-85ee-4c08-bd33-87df808f0e51\",\"type\":\"ResetTool\"},{\"id\":\"2bf37f36-743e-4db8-9bf8-c76deb04caba\",\"type\":\"ResizeTool\"},{\"id\":\"0d550c79-9eb2-427d-ac5c-5c4ceeae45e9\",\"type\":\"SaveTool\"},{\"id\":\"d991d396-c75e-48ae-91dc-72f4037d6e8a\",\"type\":\"HoverTool\"}]},\"id\":\"60a6478d-22f6-42b9-bdb7-2e936d02c2bd\",\"type\":\"Toolbar\"},{\"attributes\":{\"data_source\":{\"id\":\"553db27c-4a18-49c6-9c06-2f22074b9d3e\",\"type\":\"ColumnDataSource\"},\"glyph\":{\"id\":\"917bf6b3-5dfa-4146-bc8c-0bae0434996e\",\"type\":\"VBar\"},\"hover_glyph\":null,\"muted_glyph\":null,\"nonselection_glyph\":{\"id\":\"b530deb2-67df-4afe-9cdc-266f1edcda5a\",\"type\":\"VBar\"},\"selection_glyph\":null},\"id\":\"1d242205-d3e4-41c7-911a-17f09bc4a273\",\"type\":\"GlyphRenderer\"},{\"attributes\":{},\"id\":\"ac53d96b-e7d1-4406-b67a-9840bc01f728\",\"type\":\"BasicTickFormatter\"},{\"attributes\":{\"overlay\":{\"id\":\"4e1ee9ec-b002-4506-b9b4-efe39759a2ea\",\"type\":\"BoxAnnotation\"},\"plot\":{\"id\":\"33e8f864-b0df-4481-ac04-44006b5e9bf6\",\"subtype\":\"Figure\",\"type\":\"Plot\"}},\"id\":\"0c43ae05-b70b-47d9-bc1c-fc3122e3bfe3\",\"type\":\"BoxZoomTool\"},{\"attributes\":{\"below\":[{\"id\":\"064b4946-ea9e-429b-aea3-3c55427db799\",\"type\":\"CategoricalAxis\"}],\"left\":[{\"id\":\"2c7505ee-4c52-4f68-9512-a607a10fe79b\",\"type\":\"LinearAxis\"}],\"plot_height\":300,\"plot_width\":350,\"renderers\":[{\"id\":\"064b4946-ea9e-429b-aea3-3c55427db799\",\"type\":\"CategoricalAxis\"},{\"id\":\"2a2a4216-255e-4e84-96d6-b8410e0b6245\",\"type\":\"Grid\"},{\"id\":\"2c7505ee-4c52-4f68-9512-a607a10fe79b\",\"type\":\"LinearAxis\"},{\"id\":\"6659a184-18e2-486d-97d5-122450b08114\",\"type\":\"Grid\"},{\"id\":\"4e1ee9ec-b002-4506-b9b4-efe39759a2ea\",\"type\":\"BoxAnnotation\"},{\"id\":\"4ee0b926-90ff-4fd1-93a8-10f0dae0ace2\",\"type\":\"GlyphRenderer\"},{\"id\":\"0cb1600b-974e-491d-b315-69fe031414fd\",\"type\":\"GlyphRenderer\"}],\"title\":{\"id\":\"14a350b8-34fd-4fcd-8dc5-926d893d7fea\",\"type\":\"Title\"},\"tool_events\":{\"id\":\"545a46d4-8797-43b8-a12a-f5d3ac522dc3\",\"type\":\"ToolEvents\"},\"toolbar\":{\"id\":\"60a6478d-22f6-42b9-bdb7-2e936d02c2bd\",\"type\":\"Toolbar\"},\"toolbar_location\":null,\"x_range\":{\"id\":\"170d9432-a09a-4e28-83ac-9467af0fe417\",\"type\":\"FactorRange\"},\"y_range\":{\"id\":\"414b7144-a7c2-4a8b-82cd-b11c03b77843\",\"type\":\"DataRange1d\"}},\"id\":\"33e8f864-b0df-4481-ac04-44006b5e9bf6\",\"subtype\":\"Figure\",\"type\":\"Plot\"},{\"attributes\":{\"plot\":{\"id\":\"e1c79957-3ebb-4260-ba0c-cca551ddc221\",\"subtype\":\"Figure\",\"type\":\"Plot\"},\"ticker\":{\"id\":\"1dc67a20-9f76-439a-9e53-e5b07597a03c\",\"type\":\"CategoricalTicker\"}},\"id\":\"74828af5-293a-4aef-be7d-ee9b670767ec\",\"type\":\"Grid\"},{\"attributes\":{\"plot\":{\"id\":\"e1c79957-3ebb-4260-ba0c-cca551ddc221\",\"subtype\":\"Figure\",\"type\":\"Plot\"}},\"id\":\"7f308f84-35ae-4f61-96de-175d57d4a325\",\"type\":\"SaveTool\"},{\"attributes\":{\"plot\":{\"id\":\"e1c79957-3ebb-4260-ba0c-cca551ddc221\",\"subtype\":\"Figure\",\"type\":\"Plot\"}},\"id\":\"ed50c627-b3a8-4a34-b008-5a5b61bacc73\",\"type\":\"ResizeTool\"},{\"attributes\":{},\"id\":\"6546053a-7958-4d8e-916b-2d970efa33b1\",\"type\":\"ToolEvents\"},{\"attributes\":{\"plot\":{\"id\":\"33e8f864-b0df-4481-ac04-44006b5e9bf6\",\"subtype\":\"Figure\",\"type\":\"Plot\"},\"ticker\":{\"id\":\"5cd08859-b92c-4138-a126-335886a97ef2\",\"type\":\"CategoricalTicker\"}},\"id\":\"2a2a4216-255e-4e84-96d6-b8410e0b6245\",\"type\":\"Grid\"},{\"attributes\":{},\"id\":\"37cafa35-18a3-4b17-a195-ba7da36578d4\",\"type\":\"BasicTicker\"},{\"attributes\":{},\"id\":\"5cd08859-b92c-4138-a126-335886a97ef2\",\"type\":\"CategoricalTicker\"},{\"attributes\":{\"axis_label\":\"Station id\",\"formatter\":{\"id\":\"7d335131-3742-47df-bea0-630408a415eb\",\"type\":\"CategoricalTickFormatter\"},\"major_label_orientation\":0.7853981633974483,\"plot\":{\"id\":\"33e8f864-b0df-4481-ac04-44006b5e9bf6\",\"subtype\":\"Figure\",\"type\":\"Plot\"},\"ticker\":{\"id\":\"5cd08859-b92c-4138-a126-335886a97ef2\",\"type\":\"CategoricalTicker\"}},\"id\":\"064b4946-ea9e-429b-aea3-3c55427db799\",\"type\":\"CategoricalAxis\"},{\"attributes\":{\"axis_label\":\"Counts\",\"formatter\":{\"id\":\"ac53d96b-e7d1-4406-b67a-9840bc01f728\",\"type\":\"BasicTickFormatter\"},\"plot\":{\"id\":\"33e8f864-b0df-4481-ac04-44006b5e9bf6\",\"subtype\":\"Figure\",\"type\":\"Plot\"},\"ticker\":{\"id\":\"75d0a40e-08cd-4bc9-a35a-43d8923b3a3d\",\"type\":\"BasicTicker\"}},\"id\":\"2c7505ee-4c52-4f68-9512-a607a10fe79b\",\"type\":\"LinearAxis\"},{\"attributes\":{},\"id\":\"7d335131-3742-47df-bea0-630408a415eb\",\"type\":\"CategoricalTickFormatter\"},{\"attributes\":{\"fill_alpha\":{\"value\":0.1},\"fill_color\":{\"value\":\"#1f77b4\"},\"line_alpha\":{\"value\":0.1},\"line_color\":{\"value\":\"#1f77b4\"},\"top\":{\"field\":\"count\"},\"width\":{\"value\":0.8},\"x\":{\"field\":\"station\"}},\"id\":\"881f6bb5-ddc0-4def-aac6-76abe584f496\",\"type\":\"VBar\"},{\"attributes\":{\"plot\":{\"id\":\"e1c79957-3ebb-4260-ba0c-cca551ddc221\",\"subtype\":\"Figure\",\"type\":\"Plot\"}},\"id\":\"02af84ec-dea2-4b5d-9471-1c0ed39827d6\",\"type\":\"ResetTool\"},{\"attributes\":{\"callback\":null,\"factors\":[\"492\",\"432\",\"487\",\"511\",\"497\",\"520\",\"402\",\"324\",\"514\",\"304\",\"426\",\"382\",\"2006\",\"337\",\"3263\",\"3443\",\"459\",\"3255\",\"394\",\"293\"]},\"id\":\"170d9432-a09a-4e28-83ac-9467af0fe417\",\"type\":\"FactorRange\"},{\"attributes\":{\"callback\":null,\"factors\":[\"3450\",\"511\",\"445\",\"432\",\"3164\",\"517\",\"3236\",\"487\",\"2003\",\"3163\",\"492\",\"379\",\"469\",\"433\",\"3165\",\"519\",\"490\",\"304\",\"258\",\"3160\"]},\"id\":\"f94acd6a-e427-42df-9330-49fd87119d97\",\"type\":\"FactorRange\"},{\"attributes\":{\"callback\":null,\"plot\":{\"id\":\"e1c79957-3ebb-4260-ba0c-cca551ddc221\",\"subtype\":\"Figure\",\"type\":\"Plot\"},\"renderers\":[{\"id\":\"1d242205-d3e4-41c7-911a-17f09bc4a273\",\"type\":\"GlyphRenderer\"}],\"tooltips\":[[\"Station\",\"@name\"],[\"Transferred IN\",\"@count\"],[\"Out - In\",\"@diff\"]]},\"id\":\"7075b816-d721-4603-8cd7-ada8c155d717\",\"type\":\"HoverTool\"},{\"attributes\":{\"plot\":{\"id\":\"33e8f864-b0df-4481-ac04-44006b5e9bf6\",\"subtype\":\"Figure\",\"type\":\"Plot\"}},\"id\":\"2bf37f36-743e-4db8-9bf8-c76deb04caba\",\"type\":\"ResizeTool\"},{\"attributes\":{\"dimension\":1,\"plot\":{\"id\":\"e1c79957-3ebb-4260-ba0c-cca551ddc221\",\"subtype\":\"Figure\",\"type\":\"Plot\"},\"ticker\":{\"id\":\"37cafa35-18a3-4b17-a195-ba7da36578d4\",\"type\":\"BasicTicker\"}},\"id\":\"03bcdea3-340a-4c87-9fe3-a8f9de2f3001\",\"type\":\"Grid\"},{\"attributes\":{\"plot\":{\"id\":\"e1c79957-3ebb-4260-ba0c-cca551ddc221\",\"subtype\":\"Figure\",\"type\":\"Plot\"}},\"id\":\"5be46441-5fcf-4481-83e7-57e340ccb364\",\"type\":\"PanTool\"},{\"attributes\":{\"data_source\":{\"id\":\"553db27c-4a18-49c6-9c06-2f22074b9d3e\",\"type\":\"ColumnDataSource\"},\"glyph\":{\"id\":\"5afa0b82-84ee-4c82-b52b-1e6776a6c207\",\"type\":\"VBar\"},\"hover_glyph\":null,\"muted_glyph\":null,\"nonselection_glyph\":{\"id\":\"0dc2add4-8ba7-4d91-8841-557b1f22ad9a\",\"type\":\"VBar\"},\"selection_glyph\":null},\"id\":\"cb021db3-68bc-4c69-8d4a-a22a722998a8\",\"type\":\"GlyphRenderer\"},{\"attributes\":{\"fill_color\":{\"value\":\"black\"},\"line_alpha\":{\"value\":0.0},\"top\":{\"field\":\"diff\"},\"width\":{\"value\":0.8},\"x\":{\"field\":\"station\"}},\"id\":\"2e1aecf8-8e95-4281-84e4-4c330e072189\",\"type\":\"VBar\"},{\"attributes\":{\"children\":[{\"id\":\"e1c79957-3ebb-4260-ba0c-cca551ddc221\",\"subtype\":\"Figure\",\"type\":\"Plot\"},{\"id\":\"33e8f864-b0df-4481-ac04-44006b5e9bf6\",\"subtype\":\"Figure\",\"type\":\"Plot\"}]},\"id\":\"fadf0fe9-6024-43a5-b73b-f89a67be57ee\",\"type\":\"Row\"},{\"attributes\":{\"fill_alpha\":{\"value\":0.5},\"fill_color\":{\"value\":\"navy\"},\"line_alpha\":{\"value\":0.0},\"line_color\":{\"value\":\"navy\"},\"top\":{\"field\":\"count\"},\"width\":{\"value\":0.8},\"x\":{\"field\":\"station\"}},\"id\":\"917bf6b3-5dfa-4146-bc8c-0bae0434996e\",\"type\":\"VBar\"},{\"attributes\":{\"children\":[{\"id\":\"5335eefb-a2c7-4847-9809-4dd904faf9f3\",\"type\":\"ToolbarBox\"},{\"id\":\"deee81ba-2dc6-4925-a7ca-8368a8d0ec56\",\"type\":\"Column\"}]},\"id\":\"a3108fea-cb0b-46c0-b002-87b4463da4f0\",\"type\":\"Column\"},{\"attributes\":{\"callback\":null},\"id\":\"1d48ca47-0986-40f8-a906-bd59d5fc9e11\",\"type\":\"DataRange1d\"},{\"attributes\":{\"data_source\":{\"id\":\"57ceb153-4dad-4615-8ad0-03b91cde1bfe\",\"type\":\"ColumnDataSource\"},\"glyph\":{\"id\":\"1e2a3b87-917d-4774-8fcf-fba73562f858\",\"type\":\"VBar\"},\"hover_glyph\":null,\"muted_glyph\":null,\"nonselection_glyph\":{\"id\":\"881f6bb5-ddc0-4def-aac6-76abe584f496\",\"type\":\"VBar\"},\"selection_glyph\":null},\"id\":\"4ee0b926-90ff-4fd1-93a8-10f0dae0ace2\",\"type\":\"GlyphRenderer\"},{\"attributes\":{},\"id\":\"75d0a40e-08cd-4bc9-a35a-43d8923b3a3d\",\"type\":\"BasicTicker\"},{\"attributes\":{},\"id\":\"545a46d4-8797-43b8-a12a-f5d3ac522dc3\",\"type\":\"ToolEvents\"},{\"attributes\":{},\"id\":\"72fbd565-df8b-4621-bb0f-8e44c1d60bf3\",\"type\":\"CategoricalTickFormatter\"},{\"attributes\":{\"plot\":{\"id\":\"33e8f864-b0df-4481-ac04-44006b5e9bf6\",\"subtype\":\"Figure\",\"type\":\"Plot\"}},\"id\":\"ce4ecde8-3f3a-4db5-980d-c59f83e8975c\",\"type\":\"PanTool\"},{\"attributes\":{\"fill_alpha\":{\"value\":0.1},\"fill_color\":{\"value\":\"#1f77b4\"},\"line_alpha\":{\"value\":0.1},\"line_color\":{\"value\":\"#1f77b4\"},\"top\":{\"field\":\"diff\"},\"width\":{\"value\":0.8},\"x\":{\"field\":\"station\"}},\"id\":\"0dc2add4-8ba7-4d91-8841-557b1f22ad9a\",\"type\":\"VBar\"},{\"attributes\":{\"plot\":null,\"text\":\"Transferred IN\"},\"id\":\"e793f7cc-4176-4145-a7a6-5da59c057606\",\"type\":\"Title\"},{\"attributes\":{\"callback\":null,\"column_names\":[\"count\",\"diff\",\"station\",\"name\"],\"data\":{\"count\":[1254,675,561,508,506,491,486,431,426,379,282,265,253,249,246,223,210,209,200,197],\"diff\":[1019,150,239,-443,451,301,435,456,395,186,282,300,133,225,206,107,200,134,41,220],\"name\":[\"W 33 St & 7 Ave\",\"E 7 St & Avenue A\",\"E 20 St & FDR Drive\",\"E 14 St & Avenue B\",\"E 17 St & Broadway\",\"W 52 St & 5 Ave\",\"Broadway & E 22 St\",\"DeKalb Ave & Hudson Ave\",\"12 Ave & W 40 St\",\"Broadway & Battery Pl\",\"West St & Chambers St\",\"University Pl & E 14 St\",\"Central Park S & 6 Ave\",\"Old Slip & Front St\",\"Cooper Square & E 7 St\",\"W 52 St & 6 Ave\",\"W 20 St & 11 Ave\",\"8 Ave & W 31 St\",\"E 9 St & Avenue C\",\"Lafayette St & E 8 St\"],\"station\":[\"492\",\"432\",\"487\",\"511\",\"497\",\"520\",\"402\",\"324\",\"514\",\"304\",\"426\",\"382\",\"2006\",\"337\",\"3263\",\"3443\",\"459\",\"3255\",\"394\",\"293\"]}},\"id\":\"57ceb153-4dad-4615-8ad0-03b91cde1bfe\",\"type\":\"ColumnDataSource\"},{\"attributes\":{\"bottom_units\":\"screen\",\"fill_alpha\":{\"value\":0.5},\"fill_color\":{\"value\":\"lightgrey\"},\"left_units\":\"screen\",\"level\":\"overlay\",\"line_alpha\":{\"value\":1.0},\"line_color\":{\"value\":\"black\"},\"line_dash\":[4,4],\"line_width\":{\"value\":2},\"plot\":null,\"render_mode\":\"css\",\"right_units\":\"screen\",\"top_units\":\"screen\"},\"id\":\"4e1ee9ec-b002-4506-b9b4-efe39759a2ea\",\"type\":\"BoxAnnotation\"},{\"attributes\":{\"fill_alpha\":{\"value\":0.1},\"fill_color\":{\"value\":\"#1f77b4\"},\"line_alpha\":{\"value\":0.1},\"line_color\":{\"value\":\"#1f77b4\"},\"top\":{\"field\":\"count\"},\"width\":{\"value\":0.8},\"x\":{\"field\":\"station\"}},\"id\":\"b530deb2-67df-4afe-9cdc-266f1edcda5a\",\"type\":\"VBar\"}],\"root_ids\":[\"a3108fea-cb0b-46c0-b002-87b4463da4f0\"]},\"title\":\"Bokeh Application\",\"version\":\"0.12.5\"}};\n",
       "            var render_items = [{\"docid\":\"4c738883-d30d-4826-8fee-7e66287b2eb5\",\"elementid\":\"8930c6c5-17eb-448b-9b51-cb5c4306d7cd\",\"modelid\":\"a3108fea-cb0b-46c0-b002-87b4463da4f0\"}];\n",
       "            \n",
       "            Bokeh.embed.embed_items(docs_json, render_items);\n",
       "          };\n",
       "          if (document.readyState != \"loading\") fn();\n",
       "          else document.addEventListener(\"DOMContentLoaded\", fn);\n",
       "        })();\n",
       "      },\n",
       "      function(Bokeh) {\n",
       "      }\n",
       "    ];\n",
       "  \n",
       "    function run_inline_js() {\n",
       "      \n",
       "      if ((window.Bokeh !== undefined) || (force === true)) {\n",
       "        for (var i = 0; i < inline_js.length; i++) {\n",
       "          inline_js[i](window.Bokeh);\n",
       "        }if (force === true) {\n",
       "          display_loaded();\n",
       "        }} else if (Date.now() < window._bokeh_timeout) {\n",
       "        setTimeout(run_inline_js, 100);\n",
       "      } else if (!window._bokeh_failed_load) {\n",
       "        console.log(\"Bokeh: BokehJS failed to load within specified timeout.\");\n",
       "        window._bokeh_failed_load = true;\n",
       "      } else if (force !== true) {\n",
       "        var cell = $(document.getElementById(\"8930c6c5-17eb-448b-9b51-cb5c4306d7cd\")).parents('.cell').data().cell;\n",
       "        cell.output_area.append_execute_result(NB_LOAD_WARNING)\n",
       "      }\n",
       "  \n",
       "    }\n",
       "  \n",
       "    if (window._bokeh_is_loading === 0) {\n",
       "      console.log(\"Bokeh: BokehJS loaded, going straight to plotting\");\n",
       "      run_inline_js();\n",
       "    } else {\n",
       "      load_libs(js_urls, function() {\n",
       "        console.log(\"Bokeh: BokehJS plotting callback run at\", now());\n",
       "        run_inline_js();\n",
       "      });\n",
       "    }\n",
       "  }(this));\n",
       "</script>"
      ]
     },
     "metadata": {},
     "output_type": "display_data"
    },
    {
     "data": {
      "text/plain": [
       "'/home/psamtik071/Desktop/Projects/Rebalancing-Citibike/most_xferred_stations_2017.html'"
      ]
     },
     "execution_count": 48,
     "metadata": {},
     "output_type": "execute_result"
    }
   ],
   "source": [
    "# output to notebook\n",
    "bkp.output_notebook()\n",
    "\n",
    "ps = [0, 0]  # initilized the list\n",
    "source = [0, 0]  # initilized the list\n",
    "colors = ['navy', 'red']  # ['In', 'Out']\n",
    "labels = ['Out - In','In - Out']\n",
    "\n",
    "for i, item in enumerate(['Transferred IN', 'Transferred OUT']):\n",
    "    source[i] = bkp.ColumnDataSource(\n",
    "    data = dict(station = list(map(str, station_lists[i].index)),\n",
    "                count = station_lists[i].values,\n",
    "                name = [stations.loc[x, 'name'] for x in station_lists[i].index],\n",
    "                diff = [(-1)**(i+1)*station_count.loc[str(x), 'diff'] for x in station_lists[i].index]))\n",
    "                        \n",
    "    ps[i] = bkp.figure(plot_height = 300, plot_width = 350, toolbar_location = 'above',\n",
    "                 tools = 'pan,box_zoom,reset,resize,save', \n",
    "                 x_range = list(map(str, station_lists[i].index)),\n",
    "                 x_axis_label='Station id', y_axis_label = 'Counts', title = item)\n",
    "    show = ps[i].vbar('station', top = 'count', width = 0.8, alpha = 0.5, line_alpha = 0.0,\n",
    "               source = source[i], color = colors[i])\n",
    "    ps[i].vbar('station', top = 'diff', width = 0.8, alpha = 1, line_alpha = 0.0,\n",
    "               source = source[i], color = 'black')\n",
    "    ps[i].xaxis.major_label_orientation = np.pi/4\n",
    "    hover = bkm.HoverTool(tooltips=[('Station','@name'), \n",
    "                                    (item, '@count'),\n",
    "                                    (labels[i],'@diff')], renderers=[show] )\n",
    "    ps[i].add_tools(hover)\n",
    "grid = gridplot([ps])\n",
    "\n",
    "bkp.output_file('most_xferred_stations_'+str(year)+'.html')\n",
    "bkp.show(grid) \n",
    "bkp.save(grid)"
   ]
  },
  {
   "cell_type": "code",
   "execution_count": null,
   "metadata": {
    "collapsed": true
   },
   "outputs": [],
   "source": []
  },
  {
   "cell_type": "code",
   "execution_count": null,
   "metadata": {
    "collapsed": true
   },
   "outputs": [],
   "source": []
  },
  {
   "cell_type": "code",
   "execution_count": null,
   "metadata": {
    "collapsed": true
   },
   "outputs": [],
   "source": []
  },
  {
   "cell_type": "code",
   "execution_count": null,
   "metadata": {
    "collapsed": true
   },
   "outputs": [],
   "source": []
  },
  {
   "cell_type": "code",
   "execution_count": null,
   "metadata": {
    "collapsed": true
   },
   "outputs": [],
   "source": []
  },
  {
   "cell_type": "code",
   "execution_count": null,
   "metadata": {
    "collapsed": true
   },
   "outputs": [],
   "source": []
  },
  {
   "cell_type": "code",
   "execution_count": null,
   "metadata": {
    "collapsed": true
   },
   "outputs": [],
   "source": []
  },
  {
   "cell_type": "code",
   "execution_count": null,
   "metadata": {
    "collapsed": true
   },
   "outputs": [],
   "source": []
  },
  {
   "cell_type": "code",
   "execution_count": 15,
   "metadata": {},
   "outputs": [
    {
     "data": {
      "text/plain": [
       "(9765,)"
      ]
     },
     "execution_count": 15,
     "metadata": {},
     "output_type": "execute_result"
    }
   ],
   "source": [
    "by_bike_id.shape"
   ]
  },
  {
   "cell_type": "code",
   "execution_count": 16,
   "metadata": {
    "scrolled": true
   },
   "outputs": [
    {
     "ename": "AttributeError",
     "evalue": "'DataFrame' object has no attribute 'id'",
     "output_type": "error",
     "traceback": [
      "\u001b[0;31m---------------------------------------------------------------------------\u001b[0m",
      "\u001b[0;31mAttributeError\u001b[0m                            Traceback (most recent call last)",
      "\u001b[0;32m<ipython-input-16-deafe1064f8c>\u001b[0m in \u001b[0;36m<module>\u001b[0;34m()\u001b[0m\n\u001b[1;32m      1\u001b[0m \u001b[0;31m# find bikes by bike id\u001b[0m\u001b[0;34m\u001b[0m\u001b[0;34m\u001b[0m\u001b[0m\n\u001b[0;32m----> 2\u001b[0;31m \u001b[0mbike_ids\u001b[0m \u001b[0;34m=\u001b[0m \u001b[0mdf\u001b[0m\u001b[0;34m.\u001b[0m\u001b[0mid\u001b[0m\u001b[0;34m.\u001b[0m\u001b[0munique\u001b[0m\u001b[0;34m(\u001b[0m\u001b[0;34m)\u001b[0m\u001b[0;34m\u001b[0m\u001b[0m\n\u001b[0m\u001b[1;32m      3\u001b[0m bike_trajectory = df[df.id == bike_ids[0]][['id', 'start_id', 'stop_id', \n\u001b[1;32m      4\u001b[0m                                             \u001b[0;34m'start_time'\u001b[0m\u001b[0;34m,\u001b[0m \u001b[0;34m'stop_time'\u001b[0m\u001b[0;34m,\u001b[0m\u001b[0;34m\u001b[0m\u001b[0m\n\u001b[1;32m      5\u001b[0m                                            \u001b[0;34m'start_long'\u001b[0m\u001b[0;34m,\u001b[0m \u001b[0;34m'start_lat'\u001b[0m\u001b[0;34m,\u001b[0m\u001b[0;34m\u001b[0m\u001b[0m\n",
      "\u001b[0;32m/home/psamtik071/anaconda2/lib/python2.7/site-packages/pandas/core/generic.pyc\u001b[0m in \u001b[0;36m__getattr__\u001b[0;34m(self, name)\u001b[0m\n\u001b[1;32m   2968\u001b[0m             \u001b[0;32mif\u001b[0m \u001b[0mname\u001b[0m \u001b[0;32min\u001b[0m \u001b[0mself\u001b[0m\u001b[0;34m.\u001b[0m\u001b[0m_info_axis\u001b[0m\u001b[0;34m:\u001b[0m\u001b[0;34m\u001b[0m\u001b[0m\n\u001b[1;32m   2969\u001b[0m                 \u001b[0;32mreturn\u001b[0m \u001b[0mself\u001b[0m\u001b[0;34m[\u001b[0m\u001b[0mname\u001b[0m\u001b[0;34m]\u001b[0m\u001b[0;34m\u001b[0m\u001b[0m\n\u001b[0;32m-> 2970\u001b[0;31m             \u001b[0;32mreturn\u001b[0m \u001b[0mobject\u001b[0m\u001b[0;34m.\u001b[0m\u001b[0m__getattribute__\u001b[0m\u001b[0;34m(\u001b[0m\u001b[0mself\u001b[0m\u001b[0;34m,\u001b[0m \u001b[0mname\u001b[0m\u001b[0;34m)\u001b[0m\u001b[0;34m\u001b[0m\u001b[0m\n\u001b[0m\u001b[1;32m   2971\u001b[0m \u001b[0;34m\u001b[0m\u001b[0m\n\u001b[1;32m   2972\u001b[0m     \u001b[0;32mdef\u001b[0m \u001b[0m__setattr__\u001b[0m\u001b[0;34m(\u001b[0m\u001b[0mself\u001b[0m\u001b[0;34m,\u001b[0m \u001b[0mname\u001b[0m\u001b[0;34m,\u001b[0m \u001b[0mvalue\u001b[0m\u001b[0;34m)\u001b[0m\u001b[0;34m:\u001b[0m\u001b[0;34m\u001b[0m\u001b[0m\n",
      "\u001b[0;31mAttributeError\u001b[0m: 'DataFrame' object has no attribute 'id'"
     ]
    }
   ],
   "source": [
    "# find bikes by bike id\n",
    "bike_ids = df.id.unique()\n",
    "bike_trajectory = df[df.id == bike_ids[0]][['id', 'start_id', 'stop_id', \n",
    "                                            'start_time', 'stop_time',\n",
    "                                           'start_long', 'start_lat',\n",
    "                                           'stop_long', 'stop_lat']]\n",
    "\n",
    "# find and link up bike trajectories to find rebalancing events\n",
    "rebal_events = pd.DataFrame(columns = bike_trajectory.columns)\n",
    "rebal_list = []\n",
    "\n",
    "def find_rebal_events(traj, pre_or_post = 'pre'):\n",
    "# find rebalancing events\n",
    "    mask = (df.start_id.values[1:] != df.stop_id.values[:-1])\n",
    "    if pre_or_post == 'pre':\n",
    "        mask = np.hstack((False, mask))\n",
    "    elif pre_or_post == 'post':\n",
    "        masp = np.hstack((mask, False))\n",
    "\n",
    "'''\n",
    "    for bike_id in bike_ids[:10]:\n",
    "        one_traj = df[df.id == bike_id][bike_trajectory.columns]\n",
    "        #trajectories = pd.concat([trajectories, one_traj], ignore_index = True)\n",
    "\n",
    "        # track rebalancing events by shifting down stop times (and locations)\n",
    "        shift_cols = ['stop_id','stop_time', 'stop_long','stop_lat']\n",
    "        one_traj[shift_cols] = one_traj[shift_cols].shift(1)\n",
    "        \n",
    " \n",
    "\n",
    "        # filter where start and stop station ids are unequal\n",
    "        rebal = one_traj[one_traj.start_id != one_traj.stop_id]\n",
    "        rebal = \n",
    "        rebal_list.append(rebal)\n",
    "'''\n",
    "\n",
    "find_rebal_events(df)\n",
    "\n",
    "    "
   ]
  },
  {
   "cell_type": "code",
   "execution_count": null,
   "metadata": {},
   "outputs": [],
   "source": [
    "rebal_list"
   ]
  },
  {
   "cell_type": "code",
   "execution_count": null,
   "metadata": {
    "collapsed": true
   },
   "outputs": [],
   "source": [
    "# track rebalancing events\n",
    "shift_cols = ['stop_id','stop_time', 'stop_long','stop_lat']\n",
    "bike_trajectory[shift_cols] = bike_trajectory[shift_cols].shift(1)\n",
    "bike_trajectory.head()\n",
    "rebal_events = bike_trajectory[bike_trajectory.start_id != bike_trajectory.stop_id]\n",
    "rebal_events.shape"
   ]
  },
  {
   "cell_type": "code",
   "execution_count": null,
   "metadata": {
    "collapsed": true
   },
   "outputs": [],
   "source": []
  },
  {
   "cell_type": "code",
   "execution_count": null,
   "metadata": {
    "collapsed": true
   },
   "outputs": [],
   "source": []
  },
  {
   "cell_type": "code",
   "execution_count": null,
   "metadata": {
    "collapsed": true,
    "scrolled": true
   },
   "outputs": [],
   "source": [
    "stations = tuple(df.start_id.unique())= tuple(df.start_id)\n",
    "lats = pd.Series()\n",
    "longs = pd.Series()\n",
    "names = pd.Series()\n",
    "#for station in stations.station:   "
   ]
  },
  {
   "cell_type": "code",
   "execution_count": null,
   "metadata": {
    "collapsed": true
   },
   "outputs": [],
   "source": [
    "len(stations)"
   ]
  },
  {
   "cell_type": "code",
   "execution_count": null,
   "metadata": {
    "collapsed": true
   },
   "outputs": [],
   "source": []
  }
 ],
 "metadata": {
  "kernelspec": {
   "display_name": "Python 2",
   "language": "python",
   "name": "python2"
  },
  "language_info": {
   "codemirror_mode": {
    "name": "ipython",
    "version": 2
   },
   "file_extension": ".py",
   "mimetype": "text/x-python",
   "name": "python",
   "nbconvert_exporter": "python",
   "pygments_lexer": "ipython2",
   "version": "2.7.13"
  }
 },
 "nbformat": 4,
 "nbformat_minor": 2
}
