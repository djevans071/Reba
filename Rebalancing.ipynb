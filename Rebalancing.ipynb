{
 "cells": [
  {
   "cell_type": "code",
   "execution_count": 1,
   "metadata": {},
   "outputs": [
    {
     "name": "stdout",
     "output_type": "stream",
     "text": [
      "Populating the interactive namespace from numpy and matplotlib\n"
     ]
    }
   ],
   "source": [
    "%pylab inline\n",
    "import requests, zipfile\n",
    "import StringIO\n",
    "import datetime\n",
    "import pandas as pd\n",
    "import numpy as np"
   ]
  },
  {
   "cell_type": "code",
   "execution_count": 2,
   "metadata": {},
   "outputs": [],
   "source": [
    "# find csv file for 2016-12\n",
    "basepath = 'tripdata/'\n",
    "\n",
    "year = 2016\n",
    "month = 12\n",
    "csvPath = '{}{:02}-citibike-tripdata.csv'.format(year, month)\n",
    "df = pd.read_csv(basepath + csvPath, parse_dates = ['Start Time', 'Stop Time'])"
   ]
  },
  {
   "cell_type": "code",
   "execution_count": 3,
   "metadata": {},
   "outputs": [],
   "source": [
    "#rename columns\n",
    "new_cols = {'Trip Duration':'duration',\n",
    "            'Start Time': 'start_time',\n",
    "            'Stop Time':'stop_time', \n",
    "            'Start Station ID':'start_id',\n",
    "            'Start Station Name':'start_name',\n",
    "            'Start Station Latitude':'start_lat',\n",
    "            'Start Station Longitude':'start_long', \n",
    "            'End Station ID':'stop_id', \n",
    "            'End Station Name':'stop_name',\n",
    "            'End Station Latitude':'stop_lat', \n",
    "            'End Station Longitude':'stop_long',\n",
    "            'Bike ID':'id',\n",
    "            'User Type':'user_type', \n",
    "            'Birth Year':'birth_year', \n",
    "            'Gender':'gender'}\n",
    "\n",
    "df = df.rename(columns = new_cols)"
   ]
  },
  {
   "cell_type": "code",
   "execution_count": 4,
   "metadata": {
    "scrolled": true
   },
   "outputs": [],
   "source": [
    "# find bikes by bike id\n",
    "bike_ids = df.id.unique()\n",
    "bike_trajectory = df[df.id == bike_ids[0]][['id', 'start_id', 'stop_id', \n",
    "                                            'start_time', 'stop_time',\n",
    "                                           'start_long', 'start_lat',\n",
    "                                           'stop_long', 'stop_lat']]\n",
    "# find and link up bike trajectories and find rebalancing events\n",
    "rebal_events = pd.DataFrame(columns = bike_trajectory.columns)\n",
    "rebal_list = []\n",
    "\n",
    "def find_rebal_events(df):\n",
    "# loop over bike ids\n",
    "    for bike_id in bike_ids[:10]:\n",
    "        one_traj = df[df.id == bike_id][bike_trajectory.columns]\n",
    "        #trajectories = pd.concat([trajectories, one_traj], ignore_index = True)\n",
    "\n",
    "        # track rebalancing events by shifting down stop times (and locations)\n",
    "        shift_cols = ['stop_id','stop_time', 'stop_long','stop_lat']\n",
    "        one_traj[shift_cols] = one_traj[shift_cols].shift(1)\n",
    "        \n",
    " \n",
    "\n",
    "        # filter where start and stop station ids are unequal\n",
    "        rebal = one_traj[one_traj.start_id != one_traj.stop_id]\n",
    "        rebal = \n",
    "        rebal_list.append(rebal)\n",
    "\n",
    "find_rebal_events(df)\n",
    "\n",
    "    "
   ]
  },
  {
   "cell_type": "code",
   "execution_count": 7,
   "metadata": {},
   "outputs": [
    {
     "data": {
      "text/plain": [
       "[           id  start_id  stop_id          start_time           stop_time  \\\n",
       " 0       26931       499      NaN 2016-12-01 00:00:04                 NaT   \n",
       " 290861  26931        83    255.0 2016-12-09 06:22:46 2016-12-05 08:29:36   \n",
       " 735386  26931      3435    448.0 2016-12-27 19:44:09 2016-12-27 07:36:38   \n",
       " \n",
       "         start_long  start_lat  stop_long   stop_lat  \n",
       " 0       -73.981918  40.769155        NaN        NaN  \n",
       " 290861  -73.976323  40.683826 -74.016510  40.646768  \n",
       " 735386  -73.995960  40.718822 -73.997901  40.756604  ,\n",
       "            id  start_id  stop_id          start_time           stop_time  \\\n",
       " 1       27122      3418      NaN 2016-12-01 00:00:28                 NaT   \n",
       " 398130  27122      3117   2001.0 2016-12-13 08:15:26 2016-12-11 13:14:45   \n",
       " 475843  27122       511    501.0 2016-12-15 08:54:36 2016-12-14 16:58:40   \n",
       " 587205  27122       282    324.0 2016-12-20 17:37:07 2016-12-20 07:18:28   \n",
       " 709656  27122       289    324.0 2016-12-26 18:20:34 2016-12-23 06:46:03   \n",
       " 807484  27122      3143   3224.0 2016-12-31 16:35:28 2016-12-31 12:24:53   \n",
       " \n",
       "         start_long  start_lat  stop_long   stop_lat  \n",
       " 1       -73.971115  40.675021        NaN        NaN  \n",
       " 398130  -73.958660  40.735640 -73.979927  40.699773  \n",
       " 475843  -73.977724  40.729387 -73.971212  40.744219  \n",
       " 587205  -73.968415  40.707645 -73.981013  40.689888  \n",
       " 709656  -73.958811  40.684568 -73.981013  40.689888  \n",
       " 807484  -73.963888  40.776829 -74.005139  40.739974  ,\n",
       "            id  start_id  stop_id          start_time           stop_time  \\\n",
       " 2       19352       297      NaN 2016-12-01 00:00:39                 NaT   \n",
       " 263626  19352       432    433.0 2016-12-08 10:21:30 2016-12-07 21:38:37   \n",
       " 388479  19352       520    497.0 2016-12-12 19:50:05 2016-12-12 17:12:37   \n",
       " \n",
       "         start_long  start_lat  stop_long   stop_lat  \n",
       " 2       -73.986923  40.734232        NaN        NaN  \n",
       " 263626  -73.983799  40.726218 -73.980572  40.729554  \n",
       " 388479  -73.976485  40.759923 -73.990093  40.737050  ,\n",
       "            id  start_id  stop_id          start_time           stop_time  \\\n",
       " 3       20015       405      NaN 2016-12-01 00:00:44                 NaT   \n",
       " 186631  20015       146    426.0 2016-12-06 08:34:39 2016-12-01 08:38:28   \n",
       " 608941  20015      2003    303.0 2016-12-21 13:22:59 2016-12-20 13:55:12   \n",
       " 623296  20015      3263    336.0 2016-12-21 20:05:58 2016-12-21 17:50:27   \n",
       " \n",
       "         start_long  start_lat  stop_long   stop_lat  \n",
       " 3       -74.008119  40.739323        NaN        NaN  \n",
       " 186631  -74.009106  40.716250 -74.013221  40.717548  \n",
       " 608941  -73.980544  40.733812 -73.999496  40.723627  \n",
       " 623296  -73.990868  40.729236 -73.999061  40.730477  ,\n",
       "       id  start_id  stop_id          start_time stop_time  start_long  \\\n",
       " 4  23148       279      NaN 2016-12-01 00:00:54       NaT   -74.00167   \n",
       " \n",
       "    start_lat  stop_long  stop_lat  \n",
       " 4  40.707873        NaN       NaN  ,\n",
       "            id  start_id  stop_id          start_time           stop_time  \\\n",
       " 5       16140       245      NaN 2016-12-01 00:01:13                 NaT   \n",
       " 56456   16140       399    418.0 2016-12-02 10:00:22 2016-12-01 08:22:59   \n",
       " 775108  16140      3317    296.0 2016-12-30 01:06:13 2016-12-23 17:10:58   \n",
       " \n",
       "         start_long  start_lat  stop_long   stop_lat  \n",
       " 5       -73.977039  40.693270        NaN        NaN  \n",
       " 56456   -73.964763  40.688515 -73.982578  40.702240  \n",
       " 775108  -73.987001  40.668627 -73.997047  40.714131  ,\n",
       "            id  start_id  stop_id          start_time           stop_time  \\\n",
       " 6       19997       470      NaN 2016-12-01 00:01:37                 NaT   \n",
       " 144032  19997      3255    402.0 2016-12-05 07:13:28 2016-12-02 07:34:19   \n",
       " 190154  19997      3230   3255.0 2016-12-06 09:17:18 2016-12-05 07:14:50   \n",
       " 779314  19997      3310   3319.0 2016-12-30 09:47:22 2016-12-27 10:59:50   \n",
       " \n",
       "         start_long  start_lat  stop_long   stop_lat  \n",
       " 6       -74.000040  40.743453        NaN        NaN  \n",
       " 144032  -73.994685  40.750585 -73.989551  40.740343  \n",
       " 190154  -73.996924  40.751284 -73.994685  40.750585  \n",
       " 779314  -73.983968  40.663779 -73.988951  40.666287  ,\n",
       "            id  start_id  stop_id          start_time           stop_time  \\\n",
       " 7       26105      3312      NaN 2016-12-01 00:01:50                 NaT   \n",
       " 77001   26105      2012    501.0 2016-12-02 18:16:24 2016-12-02 17:54:25   \n",
       " 236354  26105       293    445.0 2016-12-07 17:30:45 2016-12-07 12:12:11   \n",
       " 538474  26105      3167    520.0 2016-12-18 17:59:40 2016-12-16 10:03:22   \n",
       " 572901  26105       517   3255.0 2016-12-20 08:43:02 2016-12-19 17:25:27   \n",
       " 768944  26105       150    304.0 2016-12-29 17:13:02 2016-12-28 23:50:05   \n",
       " \n",
       "         start_long  start_lat  stop_long   stop_lat  \n",
       " 7       -73.945940  40.781721        NaN        NaN  \n",
       " 77001   -73.976806  40.739445 -73.971212  40.744219  \n",
       " 236354  -73.990765  40.730287 -73.981420  40.727408  \n",
       " 538474  -73.980930  40.779668 -73.976485  40.759923  \n",
       " 572901  -73.977910  40.751581 -73.994685  40.750585  \n",
       " 768944  -73.980858  40.720874 -74.013617  40.704633  ,\n",
       "            id  start_id  stop_id          start_time           stop_time  \\\n",
       " 8       21348       387      NaN 2016-12-01 00:01:52                 NaT   \n",
       " 152485  21348       499    284.0 2016-12-05 10:52:09 2016-12-02 19:14:25   \n",
       " 284715  21348       531    415.0 2016-12-08 19:28:44 2016-12-07 16:54:42   \n",
       " 559664  21348      3160    345.0 2016-12-19 17:29:05 2016-12-16 08:50:27   \n",
       " 679547  21348       152   3002.0 2016-12-23 18:15:49 2016-12-23 11:02:13   \n",
       " \n",
       "         start_long  start_lat  stop_long   stop_lat  \n",
       " 8       -74.004607  40.712733        NaN        NaN  \n",
       " 152485  -73.981918  40.769155 -74.002638  40.739017  \n",
       " 284715  -73.992663  40.718939 -74.009260  40.704718  \n",
       " 559664  -73.973747  40.778968 -73.997044  40.736494  \n",
       " 679547  -74.009106  40.714740 -74.015756  40.711512  ,\n",
       "            id  start_id  stop_id          start_time           stop_time  \\\n",
       " 9       22517       496      NaN 2016-12-01 00:01:54                 NaT   \n",
       " 539800  22517       513    490.0 2016-12-18 19:15:46 2016-12-18 11:19:36   \n",
       " 630451  22517      3165    479.0 2016-12-22 08:27:23 2016-12-21 19:02:02   \n",
       " \n",
       "         start_long  start_lat  stop_long   stop_lat  \n",
       " 9       -73.992390  40.737262        NaN        NaN  \n",
       " 539800  -73.988639  40.768254 -73.993934  40.751551  \n",
       " 630451  -73.976206  40.775794 -73.991255  40.760193  ]"
      ]
     },
     "execution_count": 7,
     "metadata": {},
     "output_type": "execute_result"
    }
   ],
   "source": [
    "rebal_list"
   ]
  },
  {
   "cell_type": "code",
   "execution_count": null,
   "metadata": {},
   "outputs": [],
   "source": [
    "# track rebalancing events\n",
    "shift_cols = ['stop_id','stop_time', 'stop_long','stop_lat']\n",
    "bike_trajectory[shift_cols] = bike_trajectory[shift_cols].shift(1)\n",
    "bike_trajectory.head()\n",
    "rebal_events = bike_trajectory[bike_trajectory.start_id != bike_trajectory.stop_id]\n",
    "rebal_events.shape"
   ]
  },
  {
   "cell_type": "code",
   "execution_count": null,
   "metadata": {
    "collapsed": true
   },
   "outputs": [],
   "source": []
  },
  {
   "cell_type": "code",
   "execution_count": null,
   "metadata": {
    "collapsed": true
   },
   "outputs": [],
   "source": []
  },
  {
   "cell_type": "code",
   "execution_count": null,
   "metadata": {
    "scrolled": true
   },
   "outputs": [],
   "source": [
    "stations = tuple(df.start_id.unique())= tuple(df.start_id)\n",
    "lats = pd.Series()\n",
    "longs = pd.Series()\n",
    "names = pd.Series()\n",
    "#for station in stations.station:   "
   ]
  },
  {
   "cell_type": "code",
   "execution_count": null,
   "metadata": {},
   "outputs": [],
   "source": [
    "len(stations)"
   ]
  },
  {
   "cell_type": "code",
   "execution_count": null,
   "metadata": {
    "collapsed": true
   },
   "outputs": [],
   "source": []
  }
 ],
 "metadata": {
  "kernelspec": {
   "display_name": "Python 2",
   "language": "python",
   "name": "python2"
  },
  "language_info": {
   "codemirror_mode": {
    "name": "ipython",
    "version": 2
   },
   "file_extension": ".py",
   "mimetype": "text/x-python",
   "name": "python",
   "nbconvert_exporter": "python",
   "pygments_lexer": "ipython2",
   "version": "2.7.13"
  }
 },
 "nbformat": 4,
 "nbformat_minor": 2
}
